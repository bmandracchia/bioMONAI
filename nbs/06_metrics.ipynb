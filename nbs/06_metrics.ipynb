{
 "cells": [
  {
   "cell_type": "markdown",
   "metadata": {},
   "source": [
    "# Metrics\n",
    "\n",
    "> Metric tracking and analysis tools"
   ]
  },
  {
   "cell_type": "code",
   "execution_count": null,
   "metadata": {},
   "outputs": [],
   "source": [
    "#| default_exp metrics"
   ]
  },
  {
   "cell_type": "code",
   "execution_count": null,
   "metadata": {},
   "outputs": [],
   "source": [
    "#| hide\n",
    "from nbdev.showdoc import *"
   ]
  },
  {
   "cell_type": "code",
   "execution_count": null,
   "metadata": {},
   "outputs": [],
   "source": [
    "#| export\n",
    "import numpy as np\n",
    "from numpy import trapz\n",
    "\n",
    "from torch import abs, sqrt, div, complex64, where, isinf, zeros_like, real, isnan\n",
    "from torch.fft import fftshift\n",
    "from torch.fft import fft2\n",
    "\n",
    "from fastai.vision.all import AvgMetric\n",
    "from monai.losses import SSIMLoss\n",
    "from monai.metrics import PSNRMetric as _PSNR, RMSEMetric as _RMSE, MSEMetric as _MSE, MAEMetric as _MAE, SSIMMetric as _SSIM\n",
    "\n",
    "from bioMONAI.core import torch_from_numpy"
   ]
  },
  {
   "cell_type": "code",
   "execution_count": null,
   "metadata": {},
   "outputs": [],
   "source": [
    "#| export\n",
    "def SSIMMetric(spatial_dims=3, **kwargs):\n",
    "    def SSIM(x, y):\n",
    "        return _SSIM(spatial_dims, **kwargs)(x,y).mean()\n",
    "    return AvgMetric(SSIM)\n",
    "\n",
    "def MSEMetric(**kwargs):\n",
    "    def MSE(x, y):\n",
    "        return _MSE(**kwargs)(x,y).mean()\n",
    "    return AvgMetric(MSE)\n",
    "\n",
    "def MAEMetric(**kwargs):\n",
    "    def MAE(x, y):\n",
    "        return _MAE(**kwargs)(x,y).mean()\n",
    "    return AvgMetric(MAE)\n",
    "\n",
    "def RMSEMetric(**kwargs):\n",
    "    def RMSE(x, y):\n",
    "        return _RMSE(**kwargs)(x,y).mean()\n",
    "    return AvgMetric(RMSE)\n",
    "\n",
    "def PSNRMetric(max_val, **kwargs):\n",
    "    def PSNR(x, y):\n",
    "        return _PSNR(max_val, **kwargs)(x,y).mean()\n",
    "    return AvgMetric(PSNR)\n",
    "\n"
   ]
  },
  {
   "cell_type": "markdown",
   "metadata": {},
   "source": [
    "### Fourier Ring Correlation"
   ]
  },
  {
   "cell_type": "markdown",
   "metadata": {},
   "source": [
    "#### Radial mask"
   ]
  },
  {
   "cell_type": "code",
   "execution_count": null,
   "metadata": {},
   "outputs": [],
   "source": [
    "#| export\n",
    "\n",
    "def radial_mask(r,      # Radius of the radial mask\n",
    "                cx=128, # X coordinate mask center\n",
    "                cy=128, # Y coordinate maske center\n",
    "                sx=256, # Size of the x-axis\n",
    "                sy=256, # Size of the y-axis\n",
    "                delta=1,# Thickness adjustment for the circular mask\n",
    "               ):\n",
    "\n",
    "    \"\"\"\n",
    "    Generate a radial mask.\n",
    "\n",
    "    Returns:\n",
    "       - numpy.ndarray: Radial mask.\n",
    "    \"\"\"\n",
    "    \n",
    "    sx = np.arange(0, sx)\n",
    "    sy = np.arange(0, sy)\n",
    "\n",
    "    # Calculate squared distances from each point in the grid to the center\n",
    "    ind = (sx[np.newaxis, :] - cx) ** 2 + (sy[:, np.newaxis] - cy) ** 2\n",
    "\n",
    "    # Define inner boundary of the circular mask\n",
    "    ind1 = ind <= ((r[0] + delta) ** 2)\n",
    "\n",
    "    # Define outer boundary of the circular mask\n",
    "    ind2 = ind > (r[0] ** 2)\n",
    "\n",
    "    # Create the radial mask by combining inner and outer boundaries\n",
    "    return ind1 * ind2\n"
   ]
  },
  {
   "cell_type": "code",
   "execution_count": null,
   "metadata": {},
   "outputs": [],
   "source": [
    "#| export\n",
    "\n",
    "def get_radial_masks(width, # Width of the image\n",
    "                     height, # Height of the image\n",
    "                     ):\n",
    "\n",
    "    \"\"\"\n",
    "    Generates a set of radial masks and corresponding to spatial frequencies.\n",
    "\n",
    "    Returns:\n",
    "        tuple: A tuple containing:\n",
    "            - numpy.ndarray: Array of radial masks.\n",
    "            - numpy.ndarray: Array of spatial frequencies corresponding to the masks.\n",
    "    \"\"\"\n",
    "\n",
    "    # Calculate Nyquist frequency\n",
    "    freq_nyq = int(np.floor(int(min(width, height)) / 2.0))\n",
    "   \n",
    "    # Generate radii from 0 to Nyquist frequency\n",
    "    radii = np.arange(freq_nyq).reshape(freq_nyq, 1)\n",
    "\n",
    "    # Generate radial masks using the radial_mask function    \n",
    "    radial_masks = np.apply_along_axis(radial_mask, 1, radii, width//2, height//2, width, height, 1)\n",
    "\n",
    "    # Calculate spatial frequencies\n",
    "    spatial_freq = radii.astype(np.float32) / freq_nyq\n",
    "    spatial_freq = spatial_freq / max(spatial_freq)\n",
    "    spatial_freq = spatial_freq.squeeze(1)\n",
    "\n",
    "    return radial_masks, spatial_freq\n"
   ]
  },
  {
   "cell_type": "markdown",
   "metadata": {},
   "source": [
    "#### Fourier ring correlation"
   ]
  },
  {
   "cell_type": "code",
   "execution_count": null,
   "metadata": {},
   "outputs": [],
   "source": [
    "#| export\n",
    "def get_fourier_ring_correlations(image1, # First input image\n",
    "                                  image2, # Second input image\n",
    "                                  ):\n",
    "  \n",
    "    \"\"\"\n",
    "    Compute Fourier Ring Correlation (FRC) between two images.\n",
    "\n",
    "    Returns:\n",
    "        tuple: A tuple containing:\n",
    "            - torch.Tensor: Fourier Ring Correlation values.\n",
    "            - torch.Tensor: Array of spatial frequencies.\n",
    "    \"\"\"\n",
    "    \n",
    "\n",
    "    # Get image height and width\n",
    "    height = image1.shape[len(image1.shape)-1]\n",
    "    width = image1.shape[len(image1.shape)-2]\n",
    "    \n",
    "    # Get set of radial masks, spatial frequency, and Nyquist frequency\n",
    "    radial_masks, spatial_frequency = get_radial_masks(height,width)\n",
    "\n",
    "    # Get Nyquist frequency\n",
    "    freq_nyq = len(spatial_frequency)\n",
    "    \n",
    "    # Transform tensor to complex\n",
    "    image1 = image1.to(complex64)\n",
    "    image2 = image2.to(complex64)\n",
    "\n",
    "    # Transofrm array dimensions to (freq_nyq, width. height)\n",
    "    image1 = image1.unsqueeze(0).repeat(freq_nyq, 1, 1)\n",
    "    image2 = image2.unsqueeze(0).repeat(freq_nyq, 1, 1)\n",
    "\n",
    "    # Convert spatial frequency and radial masks to torch.tensor\n",
    "    spatial_frequency = torch_from_numpy(spatial_frequency)\n",
    "    radial_masks = torch_from_numpy(radial_masks)\n",
    "\n",
    "    # Transform tensor to complex\n",
    "    radial_masks = radial_masks.to(complex64)\n",
    "         \n",
    "    # Compute fourier transform\n",
    "    fft_image1 = fftshift(fft2(image1))\n",
    "    fft_image2 = fftshift(fft2(image2))\n",
    "\n",
    "    # Get elements only in the ring\n",
    "    t1 = fft_image1 * radial_masks\n",
    "    t2 = fft_image2 * radial_masks\n",
    "        \n",
    "    # image2 to complex conjugate\n",
    "    t2_conj = t2.conj()\n",
    "\n",
    "    # Numerator\n",
    "    numerator = abs(real((t1 * t2_conj).sum(dim=(1,2))))\n",
    "\n",
    "    # Denominator    \n",
    "    denominator_1 = ((abs(t1) * abs(t1)).sum(dim=(1,2)))\n",
    "    denominator_2 = ((abs(t2) * abs(t2)).sum(dim=(1,2)))     \n",
    "    denominator = sqrt(denominator_1 * denominator_2)\n",
    "   \n",
    "    # Fourier shell correlation\n",
    "    FRC = div(numerator, denominator)\n",
    "\n",
    "    # Remove possible inf and NaN.\n",
    "    FRC = where(isinf(FRC), zeros_like(FRC), FRC)  # inf\n",
    "    FRC = where(isnan(FRC), zeros_like(FRC), FRC)  # NaN\n",
    "\n",
    "    return FRC , spatial_frequency"
   ]
  },
  {
   "cell_type": "code",
   "execution_count": null,
   "metadata": {},
   "outputs": [],
   "source": [
    "#| export\n",
    "\n",
    "def FRCMetric(image1, # First input image\n",
    "              image2, # Second input image\n",
    "              ):\n",
    "\n",
    "\n",
    "    \"\"\"\n",
    "    Compute the area under the Fourier Ring Correlation (FRC) curve between two images.\n",
    "\n",
    "    Returns:\n",
    "        - float: The area under the FRC curve.\n",
    "    \"\"\"\n",
    "\n",
    "    # Calculate the Fourier Ring Correlation and spatial frequency\n",
    "    FRC, spatial_frequency = get_fourier_ring_correlations(image1, image2)\n",
    "\n",
    "    # Convert to numpy\n",
    "    FRC = FRC.numpy()\n",
    "    spatial_frequency = spatial_frequency.numpy()\n",
    "      \n",
    "    # Compute the area under the curve using trapezoidal integration\n",
    "    area = trapz(FRC, spatial_frequency)\n",
    "    \n",
    "    return area\n"
   ]
  },
  {
   "cell_type": "markdown",
   "metadata": {},
   "source": [
    "---"
   ]
  },
  {
   "cell_type": "code",
   "execution_count": null,
   "metadata": {},
   "outputs": [],
   "source": [
    "#| hide\n",
    "import nbdev; nbdev.nbdev_export()"
   ]
  }
 ],
 "metadata": {
  "kernelspec": {
   "display_name": "python3",
   "language": "python",
   "name": "python3"
  }
 },
 "nbformat": 4,
 "nbformat_minor": 4
}
