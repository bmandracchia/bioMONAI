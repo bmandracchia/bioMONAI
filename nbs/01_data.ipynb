{
 "cells": [
  {
   "cell_type": "markdown",
   "metadata": {},
   "source": [
    "# Data\n",
    "\n",
    "> Data classes and functions"
   ]
  },
  {
   "cell_type": "code",
   "execution_count": 6,
   "metadata": {},
   "outputs": [],
   "source": [
    "#| default_exp data"
   ]
  },
  {
   "cell_type": "code",
   "execution_count": 7,
   "metadata": {},
   "outputs": [],
   "source": [
    "#| hide\n",
    "from nbdev.showdoc import *"
   ]
  },
  {
   "cell_type": "markdown",
   "metadata": {},
   "source": [
    "## Data types"
   ]
  },
  {
   "cell_type": "markdown",
   "metadata": {},
   "source": [
    "The module introduces specialized classes to represent various bioimaging data structures, facilitating seamless integration with machine learning workflows."
   ]
  },
  {
   "cell_type": "code",
   "execution_count": 1,
   "metadata": {},
   "outputs": [],
   "source": [
    "#| export\n",
    "import os\n",
    "import numpy as np\n",
    "import pandas as pd\n",
    "import h5py\n",
    "from tqdm import tqdm \n",
    "import random\n",
    "from aicsimageio import AICSImage\n",
    "from aicsimageio.writers import OmeTiffWriter\n",
    "from sklearn.model_selection import train_test_split\n",
    "from torch import stack as torch_stack\n",
    "\n",
    "from bioMONAI.datasets import download_medmnist\n",
    "from bioMONAI.core import MetaTensor, torchTensor, BypassNewMeta, DisplayedTransform, fastTrainer, torchsqueeze, Path, List, L, torchmax, randint, typedispatch, dictlist_to_funclist, read_yaml,  apply_transforms\n",
    "from bioMONAI.io import image_reader\n",
    "from bioMONAI.visualize import show_images_grid, show_multichannel\n",
    "\n",
    "from fastai.data.all import DataLoaders, delegates, RegexLabeller, is_listy, ColReader, ColSplitter\n",
    "from fastai.vision.all import DataBlock, CategoryBlock, MultiCategoryBlock, RegressionBlock, TfmdDL, get_image_files, TransformBlock, get_grid, merge, show_image, RandomSplitter, GrandparentSplitter, partial, parent_label"
   ]
  },
  {
   "cell_type": "code",
   "execution_count": null,
   "metadata": {},
   "outputs": [],
   "source": [
    "#| export\n",
    "\n",
    "class MetaResolver(type(torchTensor), metaclass=BypassNewMeta):\n",
    "    \"\"\"\n",
    "    The `MetaResolver` class addresses metaclass conflicts, ensuring compatibility across different data structures. This is particularly useful when integrating with libraries that have specific metaclass requirements.\n",
    "    \"\"\"\n",
    "    pass\n",
    "    "
   ]
  },
  {
   "cell_type": "markdown",
   "metadata": {},
   "source": [
    "**BioImageBase** is a function that acts as a base class for biomedical images. It can be used for many things, such as loading image data as PyTorch tensors, displaying 2D slices of 3D images and making transformations on medical images. "
   ]
  },
  {
   "cell_type": "code",
   "execution_count": null,
   "metadata": {},
   "outputs": [],
   "source": [
    "#| export\n",
    "class BioImageBase(MetaTensor, metaclass=MetaResolver):\n",
    "    \"\"\"\n",
    "    Serving as the foundational class for bioimaging data, `BioImageBase` provides core functionalities for image handling. It ensures that instances of specified types are appropriately cast to this class, maintaining consistency in data representation.\n",
    "    \n",
    "    Metaclass casts `x` to this class if it is of type `cls._bypass_type`.\n",
    "    \"\"\"\n",
    "    \n",
    "    _bypass_type = torchTensor  # The type that bypasses image loading\n",
    "    _show_args = {'cmap': 'gray'}  # Default arguments for image display\n",
    "    resample, reorder = None, False  # Default resample and reorder settings\n",
    "    affine_matrix = None  # Default affine matrix for image transformation\n",
    "\n",
    "    @classmethod\n",
    "    def create(cls, fn: (Path, str, List, torchTensor), **kwargs) -> torchTensor: \n",
    "        \"\"\"\n",
    "        Opens an image and casts it to BioImageBase object.\n",
    "        If `fn` is a torchTensor, it's cast to BioImageBase object.\n",
    "\n",
    "        Args:\n",
    "            fn : (Path, str, torchTensor)\n",
    "                Image path or a 4D torchTensor.\n",
    "            kwargs : dict\n",
    "                Additional parameters for the medical image reader.\n",
    "\n",
    "        Returns:\n",
    "            torchTensor : A 4D tensor as a BioImageBase object.\n",
    "        \"\"\"\n",
    "        if isinstance(fn, torchTensor):\n",
    "            return cls(fn)\n",
    "\n",
    "        return image_reader(fn, dtype=cls, resample=cls.resample, reorder=cls.reorder)\n",
    "\n",
    "    @classmethod\n",
    "    def item_preprocessing(cls, resample: (List, int, tuple), reorder: bool):\n",
    "        \"\"\"\n",
    "        Changes the values for the class variables `resample` and `reorder`.\n",
    "\n",
    "        Args:\n",
    "            resample : (List, int, tuple)\n",
    "                A list with voxel spacing.\n",
    "            reorder : bool\n",
    "                Whether to reorder the data to be closest to canonical (RAS+) orientation.\n",
    "        \"\"\"\n",
    "        cls.resample = resample\n",
    "        cls.reorder = reorder\n",
    "\n",
    "    def show(self, ctx=None, figsize: int = None, ncols: int = 10, title=None, **kwargs):\n",
    "        \"\"\"\n",
    "        Plots 2D slices of a 3D image alongside a prior specified axis.\n",
    "\n",
    "        Args:\n",
    "            ctx : Context to use for the display. Defaults to None.\n",
    "            figsize: Size of the figure. Defaults to None.\n",
    "            ncols: Number of columns in the grid. Defaults to 10.\n",
    "            **kwargs : Additional keyword arguments passed to plt.imshow.\n",
    "\n",
    "        Returns:\n",
    "            Shown image.\n",
    "        \"\"\"\n",
    "        return show_images_grid(self, ctx=ctx, ncols=ncols, title=[title], **merge(self._show_args, kwargs))\n",
    "    \n",
    "    def as_tensor(self) -> torchTensor:\n",
    "        \"\"\"\n",
    "        Return the `MetaTensor` as a `torchTensor`.\n",
    "        It is OS dependent as to whether this will be a deep copy or not.\n",
    "        \"\"\"\n",
    "        return self.as_subclass(torchTensor)\n",
    "\n",
    "    def __repr__(self) -> str:\n",
    "        \"\"\"Returns the string representation of the ImageBase instance.\"\"\"\n",
    "        return f\"BioImageBase{self.as_tensor().__repr__()[6:]}\""
   ]
  },
  {
   "cell_type": "markdown",
   "metadata": {},
   "source": [
    "**BioImage** is a specialization of BioImageBase that is specifically used for 2D and 3D biomedical images. To do so, it directly inherits from that class and then squeezes the image data and allows for transformations to be made there."
   ]
  },
  {
   "cell_type": "code",
   "execution_count": null,
   "metadata": {},
   "outputs": [],
   "source": [
    "#| export\n",
    "\n",
    "class BioImage(BioImageBase):\n",
    "    \"\"\"\n",
    "    A subclass of `BioImageBase`, the `BioImage` class is tailored for handling both 2D and 3D image objects. It offers methods to load images from various formats and provides access to image properties such as shape and dimensions.\n",
    "    \"\"\"\n",
    "    _show_args = {'cmap':'gray'}\n",
    "    \n",
    "    @classmethod\n",
    "    def create(cls, fn: (Path, str, L, list, torchTensor), **kwargs) -> torchTensor: \n",
    "        \"\"\"\n",
    "        Opens an image and casts it to BioImageBase object.\n",
    "        If `fn` is a torchTensor, it's cast to BioImageBase object.\n",
    "\n",
    "        Args:\n",
    "            fn : (Path, str, torchTensor)\n",
    "                Image path or a 4D torchTensor.\n",
    "            kwargs : dict\n",
    "                Additional parameters for the medical image reader.\n",
    "\n",
    "        Returns:\n",
    "            torchTensor : A 2D or 3D tensor as a BioImage object.\n",
    "        \"\"\"\n",
    "        if isinstance(fn, torchTensor):\n",
    "            return cls(fn)\n",
    "\n",
    "        return torchsqueeze(image_reader(fn, dtype=cls, resample=cls.resample, reorder=cls.reorder), 1)\n",
    "    \n",
    "    def show(self, ctx=None, **kwargs):\n",
    "        \"Show image using `merge(self._show_args, kwargs)`\"\n",
    "        return show_image(self, ctx=ctx, **merge(self._show_args, kwargs))\n",
    "    \n",
    "    def __repr__(self) -> str:\n",
    "        \"\"\"Returns the string representation of the ImageBase instance.\"\"\"\n",
    "    #     return f'{self.__class__.__name__} shape={\"x\".join([str(d) for d in self.shape])}'\n",
    "        return f\"BioImage{self.as_tensor().__repr__()[6:]}\""
   ]
  },
  {
   "cell_type": "code",
   "execution_count": null,
   "metadata": {},
   "outputs": [
    {
     "name": "stdout",
     "output_type": "stream",
     "text": [
      "torch.Size([1, 96, 512, 512])\n"
     ]
    }
   ],
   "source": [
    "a = BioImage.create('./data_examples/example_tiff.tiff')\n",
    "print(a.shape)\n"
   ]
  },
  {
   "cell_type": "code",
   "execution_count": null,
   "metadata": {},
   "outputs": [],
   "source": [
    "#| export\n",
    "class BioImageStack(BioImageBase):\n",
    "    \"\"\"\n",
    "    Designed for 3D image data, `BioImageStack` extends `BioImageBase` to manage volumetric images effectively. \n",
    "    It includes functionalities for slicing, visualization, and manipulation of 3D data.\n",
    "    \"\"\"\n",
    "    \n",
    "    def __repr__(self) -> str:\n",
    "        \"\"\"Returns the string representation of the ImageBase instance.\"\"\"\n",
    "        return f\"BioImageStack{self.as_tensor().__repr__()[6:]}\""
   ]
  },
  {
   "cell_type": "code",
   "execution_count": null,
   "metadata": {},
   "outputs": [
    {
     "name": "stdout",
     "output_type": "stream",
     "text": [
      "torch.Size([1, 96, 512, 512])\n"
     ]
    }
   ],
   "source": [
    "a = BioImageStack.create('./data_examples/example_tiff.tiff')\n",
    "print(a.shape)"
   ]
  },
  {
   "cell_type": "code",
   "execution_count": null,
   "metadata": {},
   "outputs": [],
   "source": [
    "#| export\n",
    "\n",
    "class BioImageProject(BioImageBase):\n",
    "    \"\"\"\n",
    "    The `BioImageProject` class represents a 3D image stack as a 2D image using maximum intensity projection. This is particularly useful for visualizing volumetric data in a 2D format, aiding in quick assessments and presentations.\n",
    "    \"\"\"\n",
    "    _show_args = {'cmap':'gray'}\n",
    "    \n",
    "    @classmethod\n",
    "    def create(cls, fn: (Path, str, L, list, torchTensor), **kwargs) -> torchTensor: \n",
    "        \"\"\"\n",
    "        Opens an image and casts it to BioImageBase object.\n",
    "        If `fn` is a torchTensor, it's cast to BioImageBase object.\n",
    "\n",
    "        Args:\n",
    "            fn : (Path, str, torchTensor)\n",
    "                Image path or a 4D torchTensor.\n",
    "            kwargs : dict\n",
    "                Additional parameters for the medical image reader.\n",
    "\n",
    "        Returns:\n",
    "            torchTensor : A 3D tensor as a BioImage object.\n",
    "        \"\"\"\n",
    "        if isinstance(fn, torchTensor):\n",
    "            return cls(fn)\n",
    "\n",
    "        img = image_reader(fn, dtype=cls, resample=cls.resample, reorder=cls.reorder)\n",
    "        return torchmax(img, dim=1)[0]  # Taking the maximum intensity projection along axis 1\n",
    "    \n",
    "    def show(self, ctx=None, **kwargs):\n",
    "        \"Show image using `merge(self._show_args, kwargs)`\"\n",
    "        return show_image(self, ctx=ctx, **merge(self._show_args, kwargs))\n",
    "    \n",
    "    def __repr__(self) -> str:\n",
    "        \"\"\"Returns the string representation of the ImageBase instance.\"\"\"\n",
    "        return f\"BioImageProject{self.as_tensor().__repr__()[6:]}\""
   ]
  },
  {
   "cell_type": "code",
   "execution_count": null,
   "metadata": {},
   "outputs": [
    {
     "data": {
      "text/plain": [
       "torch.Size([1, 512, 512])"
      ]
     },
     "execution_count": null,
     "metadata": {},
     "output_type": "execute_result"
    }
   ],
   "source": [
    "a = BioImageProject.create('./data_examples/example_tiff.tiff')\n",
    "a.shape"
   ]
  },
  {
   "cell_type": "code",
   "execution_count": null,
   "metadata": {},
   "outputs": [],
   "source": [
    "#| export\n",
    "\n",
    "class BioImageMulti(BioImageBase):\n",
    "    \"\"\"\n",
    "    For multi-channel 2D images, `BioImageMulti` extends `BioImageBase` to handle data with multiple channels, such as different fluorescence markers in microscopy images. \n",
    "    \"\"\"\n",
    "    \n",
    "    @classmethod\n",
    "    def create(cls, fn: (Path, str, L, list, torchTensor), **kwargs) -> torchTensor: \n",
    "        \"\"\"\n",
    "        Opens an image and casts it to BioImageBase object.\n",
    "        If `fn` is a torchTensor, it's cast to BioImageBase object.\n",
    "\n",
    "        Args:\n",
    "            fn : (Path, str, torchTensor)\n",
    "                Image path or a 4D torchTensor.\n",
    "            kwargs : dict\n",
    "                Additional parameters for the medical image reader.\n",
    "\n",
    "        Returns:\n",
    "            torchTensor : A 3D tensor as a BioImage object.\n",
    "        \"\"\"\n",
    "        if isinstance(fn, torchTensor):\n",
    "            return cls(fn)\n",
    "\n",
    "        return torchsqueeze(image_reader(fn, dtype=cls, resample=cls.resample, reorder=cls.reorder))\n",
    "    \n",
    "    def show(self, ctx=None, **kwargs):\n",
    "        \"Show image using `merge(self._show_args, kwargs)`\"\n",
    "        return show_multichannel(self, ctx=ctx, **merge(self._show_args, kwargs))\n",
    "    \n",
    "    def __repr__(self) -> str:\n",
    "        \"\"\"Returns the string representation of the ImageBase instance.\"\"\"\n",
    "        return f\"BioImageMulti{self.as_tensor().__repr__()[6:]}\"\n",
    "        "
   ]
  },
  {
   "cell_type": "code",
   "execution_count": null,
   "metadata": {},
   "outputs": [
    {
     "name": "stdout",
     "output_type": "stream",
     "text": [
      "torch.Size([96, 512, 512])\n"
     ]
    }
   ],
   "source": [
    "# Load a 3D image stack as a multichannel image\n",
    "a = BioImageMulti.create('./data_examples/example_tiff.tiff')\n",
    "# Differently from BioImageStack, here the third dimension is encoded as channels.\n",
    "print(a.shape)"
   ]
  },
  {
   "cell_type": "code",
   "execution_count": null,
   "metadata": {},
   "outputs": [],
   "source": [
    "#| hide\n",
    "\n",
    "# show function should be implemented\n",
    "class BioImage4D(BioImageBase):\n",
    "    \"\"\"Subclass of BioImageBase that represents a (multi-channel) 3D image object.\"\"\"\n",
    "    \n",
    "    @classmethod\n",
    "    def create(cls, fn: (Path, str, L, list, torchTensor), **kwargs) -> torchTensor: \n",
    "        \"\"\"\n",
    "        Opens an image and casts it to BioImageBase object.\n",
    "        If `fn` is a torchTensor, it's cast to BioImageBase object.\n",
    "\n",
    "        Args:\n",
    "            fn : (Path, str, torchTensor)\n",
    "                Image path or a 4D torchTensor.\n",
    "            kwargs : dict\n",
    "                Additional parameters for the medical image reader.\n",
    "\n",
    "        Returns:\n",
    "            torchTensor : A 3D tensor as a BioImage object.\n",
    "        \"\"\"\n",
    "        if isinstance(fn, torchTensor):\n",
    "            return cls(fn)\n",
    "\n",
    "        return torchsqueeze(image_reader(fn, dtype=cls, resample=cls.resample, reorder=cls.reorder), 1)\n",
    "    \n",
    "    def __repr__(self) -> str:\n",
    "        \"\"\"Returns the string representation of the ImageBase instance.\"\"\"\n",
    "        return f\"BioImage4D{self.as_tensor().__repr__()[6:]}\""
   ]
  },
  {
   "cell_type": "markdown",
   "metadata": {},
   "source": [
    "## Data conversion"
   ]
  },
  {
   "cell_type": "markdown",
   "metadata": {},
   "source": [
    "To facilitate seamless integration between tensors and bioimaging data structures, the module provides conversion utilities.\n"
   ]
  },
  {
   "cell_type": "code",
   "execution_count": null,
   "metadata": {},
   "outputs": [],
   "source": [
    "#| export\n",
    "\n",
    "class Tensor2BioImage(DisplayedTransform):\n",
    "    \"\"\"\n",
    "    The `Tensor2BioImage` transform converts tensors into `BioImageBase` instances, enabling the application of bioimaging-specific methods to tensor data. \n",
    "    This is essential for integrating deep learning models with bioimaging workflows.\n",
    "    \"\"\"\n",
    "    def __init__(self, cls:BioImageBase=BioImageStack):\n",
    "        self.cls = cls\n",
    "\n",
    "    def encodes(self, o):\n",
    "        if isinstance(o, MetaTensor):\n",
    "            # return self.cls(o.clone(), affine=o.affine, meta=o.meta)\n",
    "            return self.cls(o.clone(), meta=o.meta)\n",
    "        \n",
    "        if isinstance(o, torchTensor):\n",
    "            return self.cls(o)"
   ]
  },
  {
   "cell_type": "markdown",
   "metadata": {},
   "source": [
    "## Data Blocks and Dataloader"
   ]
  },
  {
   "cell_type": "markdown",
   "metadata": {},
   "source": [
    "The module offers classes to construct data blocks and data loaders, streamlining the preparation of datasets for machine learning models.\n"
   ]
  },
  {
   "cell_type": "markdown",
   "metadata": {},
   "source": [
    "**BioImageBlock** Creates a new type of TransformBlock specifically for bioimaging data aside from other types like ImageBlock, CategoryBlock and TextBlock."
   ]
  },
  {
   "cell_type": "code",
   "execution_count": null,
   "metadata": {},
   "outputs": [],
   "source": [
    "#| export\n",
    "def BioImageBlock(cls:BioImageBase=BioImage):\n",
    "    \"A `TransformBlock` tailored for bioimaging data, `BioImageBlock` facilitates the creation of data processing pipelines, including transformations and augmentations specific to bioimaging.\"\n",
    "    return TransformBlock(type_tfms=[cls.create, Tensor2BioImage(cls)]) # IntToFloatTensor"
   ]
  },
  {
   "cell_type": "markdown",
   "metadata": {},
   "source": [
    "The **BioDataBlock** class is built on top of the DataBlock’s class which is provided by the fastai library and is used to build datasets and dataloaders from blocks specifically for biomedical data, offering additionally the option to use BioImageBlock as TransformBlock."
   ]
  },
  {
   "cell_type": "code",
   "execution_count": null,
   "metadata": {},
   "outputs": [],
   "source": [
    "#| export\n",
    "class BioDataBlock(DataBlock):\n",
    "    \"\"\" \n",
    "    The `BioDataBlock` class serves as a generic container to build `Datasets` and `DataLoaders` efficiently. It integrates item and batch transformations, getters, and splitters, simplifying the setup of data pipelines for training and validation.\n",
    "    \"\"\"\n",
    "    def __init__(self, \n",
    "            blocks:list=(BioImageBlock(cls=BioImage), BioImageBlock(cls=BioImage)), # One or more `TransformBlock`s\n",
    "            dl_type:TfmdDL=None,                                                    # Task specific `TfmdDL`, defaults to `block`'s dl_type or`TfmdDL`\n",
    "            get_items=get_image_files,\n",
    "            get_y=None,\n",
    "            get_x=None,\n",
    "            getters:list=None,                                                      # Getter functions applied to results of `get_items`\n",
    "            n_inp:int=None,                                                         # Number of inputs\n",
    "            item_tfms:list=None,                                                    # `ItemTransform`s, applied on an item \n",
    "            batch_tfms:list=None,                                                   # `Transform`s or `RandTransform`s, applied by batch\n",
    "            **kwargs, \n",
    "        ):\n",
    "        super().__init__(\n",
    "            blocks=blocks, \n",
    "            dl_type=dl_type, \n",
    "            get_items=get_items,\n",
    "            get_y=get_y,\n",
    "            get_x=get_x,\n",
    "            getters=getters, \n",
    "            n_inp=n_inp, \n",
    "            item_tfms=item_tfms, \n",
    "            batch_tfms=batch_tfms,\n",
    "            **kwargs,\n",
    "            )\n",
    "        "
   ]
  },
  {
   "cell_type": "markdown",
   "metadata": {},
   "source": [
    "The **BioDataLoaders** class is built on top of fastai’s DataLoaders class, and wraps various data loading methods as well as the use of BioImageBlock as TransformBlock"
   ]
  },
  {
   "cell_type": "code",
   "execution_count": null,
   "metadata": {},
   "outputs": [],
   "source": [
    "#| export\n",
    "class BioDataLoaders(DataLoaders):\n",
    "    \"\"\"\n",
    "    Basic wrapper around several `DataLoader`s with factory methods for biomedical imaging problems.\n",
    "    Managing multiple `DataLoader` instances, `BioDataLoaders` handles data loading for different phases of model training, such as training, validation, and testing. It ensures efficient data handling and supports various batch processing strategies.\n",
    "    \"\"\"\n",
    "    @classmethod\n",
    "    @delegates(DataLoaders.from_dblock)\n",
    "    def from_source(cls, \n",
    "                    data_source, # The source of the data to be loaded by the dataloader. This can be any type that is compatible with the dataloading method specified in kwargs (e.g., paths, datasets).\n",
    "                    show_summary:bool=False, # If True, print a summary of the BioDataBlock after creation.\n",
    "                    **kwargs, # Additional keyword arguments to configure the DataLoader and BioDataBlock. Supported keys include: 'blocks', 'dl_type', 'get_items', 'get_y', 'get_x', 'getters', 'n_inp', 'item_tfms', 'batch_tfms'.\n",
    "                    ):\n",
    "        \"\"\"\n",
    "        Create and return a DataLoader from a BioDataBlock using provided keyword arguments.\n",
    "        \n",
    "        Returns a  DataLoader: A PyTorch DataLoader object populated with the data from the BioDataBlock.\n",
    "                        If show_summary is True, it also prints a summary of the datablock after creation.\n",
    "        \n",
    "        \"\"\"\n",
    "        # Define the keys for BioDataBlock operations\n",
    "        datablock_ops_keys = ['blocks','dl_type','get_items','get_y','get_x','getters','n_inp','item_tfms','batch_tfms','splitter']\n",
    "        \n",
    "        # Filter and assign kwargs to datablock_ops dictionary for BioDataBlock initialization\n",
    "        datablock_ops = {key: value for key, value in kwargs.items() if key in datablock_ops_keys}\n",
    "        \n",
    "        # Filter and assign remaining kwargs to dataloader_ops dictionary for DataLoader creation\n",
    "        dataloader_ops = {key: value for key, value in kwargs.items() if key not in datablock_ops_keys}\n",
    "        \n",
    "        # Initialize BioDataBlock with specified operations\n",
    "        datablock = BioDataBlock(**datablock_ops)\n",
    "    \n",
    "        # Create and return the DataLoader from the initialized BioDataBlock\n",
    "        dataloder = datablock.dataloaders(data_source, **dataloader_ops)\n",
    "        \n",
    "        # Optionally print a summary of the BioDataBlock if show_summary is True\n",
    "        if show_summary:\n",
    "            bs = dataloader_ops['bs'] if dataloader_ops['bs'] is not None else 1\n",
    "            print(datablock.summary(data_source, bs=bs))\n",
    "        \n",
    "        return dataloder\n",
    "\n",
    "    @classmethod\n",
    "    @delegates(from_source)\n",
    "    def from_folder(cls, path, get_target_fn, train='train', valid='valid', valid_pct=None, seed=None, item_tfms=None,\n",
    "                    batch_tfms=None, img_cls=BioImage, target_img_cls=BioImage, **kwargs):\n",
    "        \"Create from dataset in `path` with `train` and `valid` subfolders (or provide `valid_pct`)\"\n",
    "        splitter = GrandparentSplitter(train_name=train, valid_name=valid) if valid_pct is None else RandomSplitter(valid_pct, seed=seed)\n",
    "        get_items = get_image_files if valid_pct else partial(get_image_files, folders=[train, valid])\n",
    "        ops = { \n",
    "            'blocks':       (BioImageBlock(img_cls), BioImageBlock(target_img_cls)),\n",
    "            'get_items':    get_items,\n",
    "            'splitter':     splitter,\n",
    "            'get_y':        get_target_fn,\n",
    "            'item_tfms':    item_tfms,\n",
    "            'batch_tfms':   batch_tfms,\n",
    "            'path':         path,\n",
    "            }\n",
    "        return cls.from_source(path, **ops, **kwargs)\n",
    "    \n",
    "    @classmethod\n",
    "    @delegates(from_source)\n",
    "    def from_df(cls, df, path='.', valid_pct=0.2, seed=None, fn_col=0, folder=None, pref=None, suff='', target_col=1, target_folder=None, target_suff='',\n",
    "                valid_col=None, item_tfms=None, batch_tfms=None, img_cls=BioImage, target_img_cls=BioImage, **kwargs):\n",
    "        \"Create from `df` using `fn_col` and `target_col`\"\n",
    "        if pref is None:\n",
    "            pref = f'{Path(path) if folder is None else Path(path)/folder}{os.path.sep}'\n",
    "        if folder is None:\n",
    "            target_pref = pref\n",
    "        else:\n",
    "            f'{Path(path)/target_folder}{os.path.sep}'\n",
    "        splitter = RandomSplitter(valid_pct, seed=seed) if valid_col is None else ColSplitter(valid_col)        \n",
    "        target_img_cls = img_cls if target_img_cls is None else target_img_cls\n",
    "        ops = { \n",
    "            'blocks':       (BioImageBlock(img_cls), BioImageBlock(target_img_cls)),\n",
    "            'get_items':    None,\n",
    "            'splitter':     splitter,\n",
    "            'get_x':        ColReader(fn_col, pref=pref, suff=suff),\n",
    "            'get_y':        ColReader(target_col, pref=target_pref, suff=target_suff),\n",
    "            'item_tfms':    item_tfms,\n",
    "            'batch_tfms':   batch_tfms,\n",
    "            'path':         path,\n",
    "            }\n",
    "        return cls.from_source(df, **ops, **kwargs)\n",
    "    \n",
    "    @classmethod\n",
    "    @delegates(from_df)\n",
    "    def from_csv(cls, path, csv_fname='train.csv', header='path', delimiter=None, quoting=0, **kwargs):\n",
    "        \"Create from `path/csv_fname` using `fn_col` and `target_col`\"\n",
    "        df = pd.read_csv(Path(path)/csv_fname, header=header, delimiter=delimiter, quoting=quoting)\n",
    "        return cls.from_df(df, path=path, **kwargs)\n",
    "       \n",
    "    @classmethod\n",
    "    @delegates(from_source)\n",
    "    def class_from_folder(cls, path, train='train', valid='valid', valid_pct=None, seed=None, vocab=None, item_tfms=None,\n",
    "                    batch_tfms=None, img_cls=BioImage, **kwargs):\n",
    "        \"Create from dataset in `path` with `train` and `valid` subfolders (or provide `valid_pct`)\"\n",
    "        splitter = GrandparentSplitter(train_name=train, valid_name=valid) if valid_pct is None else RandomSplitter(valid_pct, seed=seed)\n",
    "        get_items = get_image_files if valid_pct else partial(get_image_files, folders=[train, valid])\n",
    "        ops = { \n",
    "            'blocks':       (BioImageBlock(img_cls), CategoryBlock(vocab=vocab)),\n",
    "            'get_items':    get_items,\n",
    "            'splitter':     splitter,\n",
    "            'get_y':        parent_label,\n",
    "            'item_tfms':    item_tfms,\n",
    "            'batch_tfms':   batch_tfms,\n",
    "            'path':         path,\n",
    "            }\n",
    "        return cls.from_source(path, **ops, **kwargs)\n",
    "\n",
    "    @classmethod\n",
    "    @delegates(from_source)\n",
    "    def class_from_path_func(cls, path, fnames, label_func, valid_pct=0.2, seed=None, item_tfms=None, batch_tfms=None, \n",
    "                       img_cls=BioImage, **kwargs):\n",
    "        \"Create from list of `fnames` in `path`s with `label_func`\"\n",
    "        ops = { \n",
    "            'blocks':       (BioImageBlock(img_cls), CategoryBlock),\n",
    "            'splitter':     RandomSplitter(valid_pct, seed=seed),\n",
    "            'get_y':        label_func,\n",
    "            'item_tfms':    item_tfms,\n",
    "            'batch_tfms':   batch_tfms,\n",
    "            'path':         path,\n",
    "            }\n",
    "        return cls.from_source(fnames, **ops, **kwargs)\n",
    "\n",
    "    @classmethod\n",
    "    def class_from_path_re(cls, path, fnames, pat, **kwargs):\n",
    "        \"Create from list of `fnames` in `path`s with re expression `pat`\"\n",
    "        return cls.class_from_path_func(path, fnames, RegexLabeller(pat), **kwargs)\n",
    "\n",
    "    @classmethod\n",
    "    @delegates(from_source)\n",
    "    def class_from_df(cls, df, path='.', valid_pct=0.2, seed=None, fn_col=0, folder=None, suff='', label_col=1, label_delim=None,\n",
    "                y_block=None, valid_col=None, item_tfms=None, batch_tfms=None, img_cls=BioImage, **kwargs):\n",
    "        \"Create from `df` using `fn_col` and `label_col`\"\n",
    "        pref = f'{Path(path) if folder is None else Path(path)/folder}{os.path.sep}'\n",
    "        if y_block is None:\n",
    "            is_multi = (is_listy(label_col) and len(label_col) > 1) or label_delim is not None\n",
    "            y_block = MultiCategoryBlock if is_multi else CategoryBlock\n",
    "        splitter = RandomSplitter(valid_pct, seed=seed) if valid_col is None else ColSplitter(valid_col)        \n",
    "        ops = { \n",
    "            'blocks':       (BioImageBlock(img_cls), y_block),\n",
    "            'get_items':    None,\n",
    "            'splitter':     splitter,\n",
    "            'get_x':        ColReader(fn_col, pref=pref, suff=suff),\n",
    "            'get_y':        ColReader(label_col, label_delim=label_delim),\n",
    "            'item_tfms':    item_tfms,\n",
    "            'batch_tfms':   batch_tfms,\n",
    "            'path':         path,\n",
    "            }\n",
    "        return cls.from_source(df, **ops, **kwargs)\n",
    "    \n",
    "    @classmethod\n",
    "    @delegates(class_from_df)\n",
    "    def class_from_csv(cls, path, csv_fname='labels.csv', header='infer', delimiter=None, quoting=0, **kwargs):\n",
    "        \"Create from `path/csv_fname` using `fn_col` and `label_col`\"\n",
    "        df = pd.read_csv(Path(path)/csv_fname, header=header, delimiter=delimiter, quoting=quoting)\n",
    "        return cls.class_from_df(df, path=path, **kwargs)\n",
    "\n",
    "    @classmethod\n",
    "    @delegates(from_source)\n",
    "    def class_from_lists(cls, path, fnames, labels, valid_pct=0.2, seed:int=None, y_block=None, item_tfms=None, batch_tfms=None,\n",
    "                   img_cls=BioImage, **kwargs):\n",
    "        \"Create from list of `fnames` and `labels` in `path`\"\n",
    "        if y_block is None:\n",
    "            y_block = MultiCategoryBlock if is_listy(labels[0]) and len(labels[0]) > 1 else (\n",
    "                RegressionBlock if isinstance(labels[0], float) else CategoryBlock)\n",
    "        ops = { \n",
    "            'blocks':       (BioImageBlock(img_cls), y_block),\n",
    "            'splitter':     RandomSplitter(valid_pct, seed=seed),\n",
    "            'item_tfms':    item_tfms,\n",
    "            'batch_tfms':   batch_tfms,\n",
    "            'path':         path,\n",
    "            }\n",
    "        return cls.from_source((fnames, labels), **ops, **kwargs)\n",
    "    \n",
    "    @classmethod\n",
    "    def from_yaml(cls, data_source, yaml_path, show_summary:bool=False):\n",
    "\n",
    "        \"Create from `yaml_path` where `yaml_path` is a yaml file\"\n",
    "\n",
    "\n",
    "        # Read the yaml file to obtain a dictionary with the configuration\n",
    "        config = read_yaml(yaml_path)\n",
    "        \n",
    "        # Turn string Nones into Nonetype and remove keys where the value is set to Nonetype\n",
    "        config = {key: (None if value == \"None\" else value) for key, value in config.items()}\n",
    "\n",
    "        # DEFINE THE KEYS THAT ARE AVAILABLE FOR USE \n",
    "        # Define the keys used by fastTrainer\n",
    "        fastrainer_ops_keys = ['loss_fn', 'optimizer', 'lr', 'splitter', 'callbacks', 'metrics', 'path', 'model_dir', 'wd', \n",
    "                               'wd_bn_bias', 'train_bn', 'moms', 'default_cbs']\n",
    "        \n",
    "        # Define the keys used by biodataloader\n",
    "        biodataloader_ops_keys = ['bs', 'shuffle_train', 'shuffle', 'val_shuffle', 'n', 'path', 'dl_type', 'dl_kwargs', 'device', \n",
    "                                  'drop_last', 'val_bs', 'num_workers', 'verbose', 'do_setup', 'pin_memory', 'timeout', 'batch_size', \n",
    "                                  'indexed', 'persistent_workers', 'pin_memory_device', 'wif', 'before_iter', 'after_item', 'before_batch', \n",
    "                                  'after_batch', 'after_iter', 'create_batches', 'create_item', 'create_batch', 'retain', 'get_idxs', 'sample', \n",
    "                                  'shuffle_fn', 'do_batch']\n",
    "\n",
    "        # Define the keys used by biodatablocks\n",
    "        biodatablocks_ops_keys = ['blocks','dl_type','get_items','get_y','get_x','getters','n_inp','item_tfms','batch_tfms','splitter']\n",
    "\n",
    "\n",
    "        # FILTER THE YAML FILE TO ONLY INCLUDE THE KEYS THE VALID KEYS\n",
    "        biodatablock_ops = {key: value for key, value in config.items() if key in biodatablocks_ops_keys}\n",
    "        biodataloader_ops = {key: value for key, value in config.items() if key in biodataloader_ops_keys}\n",
    "\n",
    "\n",
    "        # Obtain and define default values for the splitter within the BioDataBlock\n",
    "        train = config.get('train', 'train') \n",
    "        valid = config.get('valid', 'val')  \n",
    "        valid_pct = config.get('valid_pct', None) \n",
    "        seed = config.get('seed', None) \n",
    "        \n",
    "\n",
    "        # Initialize the splitter\n",
    "        if valid_pct is not None:\n",
    "            splitter = RandomSplitter(valid_pct, seed=seed)\n",
    "            get_items = get_image_files  \n",
    "        else:\n",
    "            splitter = GrandparentSplitter(train_name=train, valid_name=valid)\n",
    "            get_items = partial(get_image_files, folders=[train, valid])  \n",
    "\n",
    "        # Turn item_tfms and batch_tfms into lists of functions \n",
    "        item_tfms = config.get('item_tfms', None)\n",
    "        if item_tfms is not None:\n",
    "            item_tfms = dictlist_to_funclist(item_tfms)\n",
    "\n",
    "        batch_tfms = config.get('batch_tfms', None)\n",
    "        if batch_tfms is not None:   \n",
    "            batch_tfms = dictlist_to_funclist(batch_tfms)\n",
    "\n",
    "        # Update biodatablock_ops with the splitter\n",
    "        biodatablock_ops.update({\n",
    "            \"blocks\": (BioImageBlock(cls=BioImage), CategoryBlock),\n",
    "            \"get_items\": get_items,\n",
    "            \"splitter\": splitter,\n",
    "            \"get_y\": parent_label,\n",
    "            \"item_tfms\": item_tfms,\n",
    "            \"batch_tfms\": batch_tfms\n",
    "        })\n",
    "\n",
    "         # Optionally print a summary of the BioDataBlock if show_summary is True\n",
    "        if show_summary:\n",
    "            bs = biodataloader_ops['bs'] if biodataloader_ops['bs'] is not None else 1\n",
    "            print(datablock.summary(data_source, bs=bs))\n",
    "        \n",
    "        \n",
    "        biodatablock_ops = {key: value for key, value in biodatablock_ops.items() if value is not None}\n",
    "\n",
    "        biodataloader_ops = {key: value for key, value in biodataloader_ops.items() if value is not None}\n",
    "        \n",
    "        # Create BioDataBlock\n",
    "        datablock = BioDataBlock(**biodatablock_ops)\n",
    "\n",
    "        # Unpack biodataloader_ops directly (including bs)\n",
    "        dataloder = datablock.dataloaders(data_source, **biodataloader_ops)\n",
    "\n",
    "\n",
    "       \n",
    "        return dataloder\n",
    "\n",
    "BioDataLoaders.class_from_csv = delegates(to=BioDataLoaders.class_from_df)(BioDataLoaders.class_from_csv)\n",
    "BioDataLoaders.class_from_path_re = delegates(to=BioDataLoaders.class_from_path_func)(BioDataLoaders.class_from_path_re)\n"
   ]
  },
  {
   "cell_type": "code",
   "execution_count": null,
   "metadata": {},
   "outputs": [
    {
     "data": {
      "text/markdown": [
       "---\n",
       "\n",
       "[source](https://github.com/deepCLEM/bioMONAI/blob/main/bioMONAI/data.py#L291){target=\"_blank\" style=\"float:right; font-size:smaller\"}\n",
       "\n",
       "### BioDataLoaders.from_source\n",
       "\n",
       ">      BioDataLoaders.from_source (data_source, show_summary:bool=False,\n",
       ">                                  path:str|Path='.', bs:int=64,\n",
       ">                                  val_bs:int=None, shuffle:bool=True,\n",
       ">                                  device=None)\n",
       "\n",
       "*Create and return a DataLoader from a BioDataBlock using provided keyword arguments.\n",
       "\n",
       "Returns a  DataLoader: A PyTorch DataLoader object populated with the data from the BioDataBlock.\n",
       "                If show_summary is True, it also prints a summary of the datablock after creation.*\n",
       "\n",
       "|    | **Type** | **Default** | **Details** |\n",
       "| -- | -------- | ----------- | ----------- |\n",
       "| data_source |  |  | The source of the data to be loaded by the dataloader. This can be any type that is compatible with the dataloading method specified in kwargs (e.g., paths, datasets). |\n",
       "| show_summary | bool | False | If True, print a summary of the BioDataBlock after creation. |\n",
       "| path | str \\| pathlib.Path | . | Path to put in `DataLoaders` |\n",
       "| bs | int | 64 | Size of batch |\n",
       "| val_bs | int | None | Size of batch for validation `DataLoader` |\n",
       "| shuffle | bool | True | Whether to shuffle data |\n",
       "| device | NoneType | None | Device to put `DataLoaders` |"
      ],
      "text/plain": [
       "---\n",
       "\n",
       "[source](https://github.com/deepCLEM/bioMONAI/blob/main/bioMONAI/data.py#L291){target=\"_blank\" style=\"float:right; font-size:smaller\"}\n",
       "\n",
       "### BioDataLoaders.from_source\n",
       "\n",
       ">      BioDataLoaders.from_source (data_source, show_summary:bool=False,\n",
       ">                                  path:str|Path='.', bs:int=64,\n",
       ">                                  val_bs:int=None, shuffle:bool=True,\n",
       ">                                  device=None)\n",
       "\n",
       "*Create and return a DataLoader from a BioDataBlock using provided keyword arguments.\n",
       "\n",
       "Returns a  DataLoader: A PyTorch DataLoader object populated with the data from the BioDataBlock.\n",
       "                If show_summary is True, it also prints a summary of the datablock after creation.*\n",
       "\n",
       "|    | **Type** | **Default** | **Details** |\n",
       "| -- | -------- | ----------- | ----------- |\n",
       "| data_source |  |  | The source of the data to be loaded by the dataloader. This can be any type that is compatible with the dataloading method specified in kwargs (e.g., paths, datasets). |\n",
       "| show_summary | bool | False | If True, print a summary of the BioDataBlock after creation. |\n",
       "| path | str \\| pathlib.Path | . | Path to put in `DataLoaders` |\n",
       "| bs | int | 64 | Size of batch |\n",
       "| val_bs | int | None | Size of batch for validation `DataLoader` |\n",
       "| shuffle | bool | True | Whether to shuffle data |\n",
       "| device | NoneType | None | Device to put `DataLoaders` |"
      ]
     },
     "execution_count": null,
     "metadata": {},
     "output_type": "execute_result"
    }
   ],
   "source": [
    "show_doc(BioDataLoaders.from_source)"
   ]
  },
  {
   "cell_type": "code",
   "execution_count": null,
   "metadata": {},
   "outputs": [
    {
     "data": {
      "text/markdown": [
       "---\n",
       "\n",
       "[source](https://github.com/deepCLEM/bioMONAI/blob/main/bioMONAI/data.py#L327){target=\"_blank\" style=\"float:right; font-size:smaller\"}\n",
       "\n",
       "### BioDataLoaders.from_folder\n",
       "\n",
       ">      BioDataLoaders.from_folder (path, get_target_fn, train='train',\n",
       ">                                  valid='valid', valid_pct=None, seed=None,\n",
       ">                                  item_tfms=None, batch_tfms=None,\n",
       ">                                  img_cls=<class '__main__.BioImage'>,\n",
       ">                                  target_img_cls=<class '__main__.BioImage'>,\n",
       ">                                  show_summary:bool=False, bs:int=64,\n",
       ">                                  val_bs:int=None, shuffle:bool=True,\n",
       ">                                  device=None)\n",
       "\n",
       "*Create from dataset in `path` with `train` and `valid` subfolders (or provide `valid_pct`)*\n",
       "\n",
       "|    | **Type** | **Default** | **Details** |\n",
       "| -- | -------- | ----------- | ----------- |\n",
       "| path | str \\| pathlib.Path | . | Path to put in `DataLoaders` |\n",
       "| get_target_fn |  |  |  |\n",
       "| train | str | train |  |\n",
       "| valid | str | valid |  |\n",
       "| valid_pct | NoneType | None |  |\n",
       "| seed | NoneType | None |  |\n",
       "| item_tfms | NoneType | None |  |\n",
       "| batch_tfms | NoneType | None |  |\n",
       "| img_cls | MetaResolver | BioImage |  |\n",
       "| target_img_cls | MetaResolver | BioImage |  |\n",
       "| show_summary | bool | False | If True, print a summary of the BioDataBlock after creation. |\n",
       "| bs | int | 64 | Size of batch |\n",
       "| val_bs | int | None | Size of batch for validation `DataLoader` |\n",
       "| shuffle | bool | True | Whether to shuffle data |\n",
       "| device | NoneType | None | Device to put `DataLoaders` |"
      ],
      "text/plain": [
       "---\n",
       "\n",
       "[source](https://github.com/deepCLEM/bioMONAI/blob/main/bioMONAI/data.py#L327){target=\"_blank\" style=\"float:right; font-size:smaller\"}\n",
       "\n",
       "### BioDataLoaders.from_folder\n",
       "\n",
       ">      BioDataLoaders.from_folder (path, get_target_fn, train='train',\n",
       ">                                  valid='valid', valid_pct=None, seed=None,\n",
       ">                                  item_tfms=None, batch_tfms=None,\n",
       ">                                  img_cls=<class '__main__.BioImage'>,\n",
       ">                                  target_img_cls=<class '__main__.BioImage'>,\n",
       ">                                  show_summary:bool=False, bs:int=64,\n",
       ">                                  val_bs:int=None, shuffle:bool=True,\n",
       ">                                  device=None)\n",
       "\n",
       "*Create from dataset in `path` with `train` and `valid` subfolders (or provide `valid_pct`)*\n",
       "\n",
       "|    | **Type** | **Default** | **Details** |\n",
       "| -- | -------- | ----------- | ----------- |\n",
       "| path | str \\| pathlib.Path | . | Path to put in `DataLoaders` |\n",
       "| get_target_fn |  |  |  |\n",
       "| train | str | train |  |\n",
       "| valid | str | valid |  |\n",
       "| valid_pct | NoneType | None |  |\n",
       "| seed | NoneType | None |  |\n",
       "| item_tfms | NoneType | None |  |\n",
       "| batch_tfms | NoneType | None |  |\n",
       "| img_cls | MetaResolver | BioImage |  |\n",
       "| target_img_cls | MetaResolver | BioImage |  |\n",
       "| show_summary | bool | False | If True, print a summary of the BioDataBlock after creation. |\n",
       "| bs | int | 64 | Size of batch |\n",
       "| val_bs | int | None | Size of batch for validation `DataLoader` |\n",
       "| shuffle | bool | True | Whether to shuffle data |\n",
       "| device | NoneType | None | Device to put `DataLoaders` |"
      ]
     },
     "execution_count": null,
     "metadata": {},
     "output_type": "execute_result"
    }
   ],
   "source": [
    "show_doc(BioDataLoaders.from_folder)"
   ]
  },
  {
   "cell_type": "code",
   "execution_count": null,
   "metadata": {},
   "outputs": [
    {
     "data": {
      "text/markdown": [
       "---\n",
       "\n",
       "[source](https://github.com/deepCLEM/bioMONAI/blob/main/bioMONAI/data.py#L345){target=\"_blank\" style=\"float:right; font-size:smaller\"}\n",
       "\n",
       "### BioDataLoaders.from_df\n",
       "\n",
       ">      BioDataLoaders.from_df (df, path='.', valid_pct=0.2, seed=None, fn_col=0,\n",
       ">                              folder=None, pref=None, suff='', target_col=1,\n",
       ">                              target_folder=None, target_suff='',\n",
       ">                              valid_col=None, item_tfms=None, batch_tfms=None,\n",
       ">                              img_cls=<class '__main__.BioImage'>,\n",
       ">                              target_img_cls=<class '__main__.BioImage'>,\n",
       ">                              show_summary:bool=False, bs:int=64,\n",
       ">                              val_bs:int=None, shuffle:bool=True, device=None)\n",
       "\n",
       "*Create from `df` using `fn_col` and `target_col`*\n",
       "\n",
       "|    | **Type** | **Default** | **Details** |\n",
       "| -- | -------- | ----------- | ----------- |\n",
       "| df |  |  |  |\n",
       "| path | str \\| pathlib.Path | . | Path to put in `DataLoaders` |\n",
       "| valid_pct | float | 0.2 |  |\n",
       "| seed | NoneType | None |  |\n",
       "| fn_col | int | 0 |  |\n",
       "| folder | NoneType | None |  |\n",
       "| pref | NoneType | None |  |\n",
       "| suff | str |  |  |\n",
       "| target_col | int | 1 |  |\n",
       "| target_folder | NoneType | None |  |\n",
       "| target_suff | str |  |  |\n",
       "| valid_col | NoneType | None |  |\n",
       "| item_tfms | NoneType | None |  |\n",
       "| batch_tfms | NoneType | None |  |\n",
       "| img_cls | MetaResolver | BioImage |  |\n",
       "| target_img_cls | MetaResolver | BioImage |  |\n",
       "| show_summary | bool | False | If True, print a summary of the BioDataBlock after creation. |\n",
       "| bs | int | 64 | Size of batch |\n",
       "| val_bs | int | None | Size of batch for validation `DataLoader` |\n",
       "| shuffle | bool | True | Whether to shuffle data |\n",
       "| device | NoneType | None | Device to put `DataLoaders` |"
      ],
      "text/plain": [
       "---\n",
       "\n",
       "[source](https://github.com/deepCLEM/bioMONAI/blob/main/bioMONAI/data.py#L345){target=\"_blank\" style=\"float:right; font-size:smaller\"}\n",
       "\n",
       "### BioDataLoaders.from_df\n",
       "\n",
       ">      BioDataLoaders.from_df (df, path='.', valid_pct=0.2, seed=None, fn_col=0,\n",
       ">                              folder=None, pref=None, suff='', target_col=1,\n",
       ">                              target_folder=None, target_suff='',\n",
       ">                              valid_col=None, item_tfms=None, batch_tfms=None,\n",
       ">                              img_cls=<class '__main__.BioImage'>,\n",
       ">                              target_img_cls=<class '__main__.BioImage'>,\n",
       ">                              show_summary:bool=False, bs:int=64,\n",
       ">                              val_bs:int=None, shuffle:bool=True, device=None)\n",
       "\n",
       "*Create from `df` using `fn_col` and `target_col`*\n",
       "\n",
       "|    | **Type** | **Default** | **Details** |\n",
       "| -- | -------- | ----------- | ----------- |\n",
       "| df |  |  |  |\n",
       "| path | str \\| pathlib.Path | . | Path to put in `DataLoaders` |\n",
       "| valid_pct | float | 0.2 |  |\n",
       "| seed | NoneType | None |  |\n",
       "| fn_col | int | 0 |  |\n",
       "| folder | NoneType | None |  |\n",
       "| pref | NoneType | None |  |\n",
       "| suff | str |  |  |\n",
       "| target_col | int | 1 |  |\n",
       "| target_folder | NoneType | None |  |\n",
       "| target_suff | str |  |  |\n",
       "| valid_col | NoneType | None |  |\n",
       "| item_tfms | NoneType | None |  |\n",
       "| batch_tfms | NoneType | None |  |\n",
       "| img_cls | MetaResolver | BioImage |  |\n",
       "| target_img_cls | MetaResolver | BioImage |  |\n",
       "| show_summary | bool | False | If True, print a summary of the BioDataBlock after creation. |\n",
       "| bs | int | 64 | Size of batch |\n",
       "| val_bs | int | None | Size of batch for validation `DataLoader` |\n",
       "| shuffle | bool | True | Whether to shuffle data |\n",
       "| device | NoneType | None | Device to put `DataLoaders` |"
      ]
     },
     "execution_count": null,
     "metadata": {},
     "output_type": "execute_result"
    }
   ],
   "source": [
    "show_doc(BioDataLoaders.from_df)"
   ]
  },
  {
   "cell_type": "code",
   "execution_count": null,
   "metadata": {},
   "outputs": [
    {
     "data": {
      "text/markdown": [
       "---\n",
       "\n",
       "[source](https://github.com/deepCLEM/bioMONAI/blob/main/bioMONAI/data.py#L370){target=\"_blank\" style=\"float:right; font-size:smaller\"}\n",
       "\n",
       "### BioDataLoaders.from_csv\n",
       "\n",
       ">      BioDataLoaders.from_csv (path, csv_fname='train.csv', header='path',\n",
       ">                               delimiter=None, quoting=0, valid_pct=0.2,\n",
       ">                               seed=None, fn_col=0, folder=None, pref=None,\n",
       ">                               suff='', target_col=1, target_folder=None,\n",
       ">                               target_suff='', valid_col=None, item_tfms=None,\n",
       ">                               batch_tfms=None, img_cls=<class\n",
       ">                               '__main__.BioImage'>, target_img_cls=<class\n",
       ">                               '__main__.BioImage'>, show_summary:bool=False,\n",
       ">                               bs:int=64, val_bs:int=None, shuffle:bool=True,\n",
       ">                               device=None)\n",
       "\n",
       "*Create from `path/csv_fname` using `fn_col` and `target_col`*\n",
       "\n",
       "|    | **Type** | **Default** | **Details** |\n",
       "| -- | -------- | ----------- | ----------- |\n",
       "| path | str \\| pathlib.Path | . | Path to put in `DataLoaders` |\n",
       "| csv_fname | str | train.csv |  |\n",
       "| header | str | path |  |\n",
       "| delimiter | NoneType | None |  |\n",
       "| quoting | int | 0 |  |\n",
       "| valid_pct | float | 0.2 |  |\n",
       "| seed | NoneType | None |  |\n",
       "| fn_col | int | 0 |  |\n",
       "| folder | NoneType | None |  |\n",
       "| pref | NoneType | None |  |\n",
       "| suff | str |  |  |\n",
       "| target_col | int | 1 |  |\n",
       "| target_folder | NoneType | None |  |\n",
       "| target_suff | str |  |  |\n",
       "| valid_col | NoneType | None |  |\n",
       "| item_tfms | NoneType | None |  |\n",
       "| batch_tfms | NoneType | None |  |\n",
       "| img_cls | MetaResolver | BioImage |  |\n",
       "| target_img_cls | MetaResolver | BioImage |  |\n",
       "| show_summary | bool | False | If True, print a summary of the BioDataBlock after creation. |\n",
       "| bs | int | 64 | Size of batch |\n",
       "| val_bs | int | None | Size of batch for validation `DataLoader` |\n",
       "| shuffle | bool | True | Whether to shuffle data |\n",
       "| device | NoneType | None | Device to put `DataLoaders` |"
      ],
      "text/plain": [
       "---\n",
       "\n",
       "[source](https://github.com/deepCLEM/bioMONAI/blob/main/bioMONAI/data.py#L370){target=\"_blank\" style=\"float:right; font-size:smaller\"}\n",
       "\n",
       "### BioDataLoaders.from_csv\n",
       "\n",
       ">      BioDataLoaders.from_csv (path, csv_fname='train.csv', header='path',\n",
       ">                               delimiter=None, quoting=0, valid_pct=0.2,\n",
       ">                               seed=None, fn_col=0, folder=None, pref=None,\n",
       ">                               suff='', target_col=1, target_folder=None,\n",
       ">                               target_suff='', valid_col=None, item_tfms=None,\n",
       ">                               batch_tfms=None, img_cls=<class\n",
       ">                               '__main__.BioImage'>, target_img_cls=<class\n",
       ">                               '__main__.BioImage'>, show_summary:bool=False,\n",
       ">                               bs:int=64, val_bs:int=None, shuffle:bool=True,\n",
       ">                               device=None)\n",
       "\n",
       "*Create from `path/csv_fname` using `fn_col` and `target_col`*\n",
       "\n",
       "|    | **Type** | **Default** | **Details** |\n",
       "| -- | -------- | ----------- | ----------- |\n",
       "| path | str \\| pathlib.Path | . | Path to put in `DataLoaders` |\n",
       "| csv_fname | str | train.csv |  |\n",
       "| header | str | path |  |\n",
       "| delimiter | NoneType | None |  |\n",
       "| quoting | int | 0 |  |\n",
       "| valid_pct | float | 0.2 |  |\n",
       "| seed | NoneType | None |  |\n",
       "| fn_col | int | 0 |  |\n",
       "| folder | NoneType | None |  |\n",
       "| pref | NoneType | None |  |\n",
       "| suff | str |  |  |\n",
       "| target_col | int | 1 |  |\n",
       "| target_folder | NoneType | None |  |\n",
       "| target_suff | str |  |  |\n",
       "| valid_col | NoneType | None |  |\n",
       "| item_tfms | NoneType | None |  |\n",
       "| batch_tfms | NoneType | None |  |\n",
       "| img_cls | MetaResolver | BioImage |  |\n",
       "| target_img_cls | MetaResolver | BioImage |  |\n",
       "| show_summary | bool | False | If True, print a summary of the BioDataBlock after creation. |\n",
       "| bs | int | 64 | Size of batch |\n",
       "| val_bs | int | None | Size of batch for validation `DataLoader` |\n",
       "| shuffle | bool | True | Whether to shuffle data |\n",
       "| device | NoneType | None | Device to put `DataLoaders` |"
      ]
     },
     "execution_count": null,
     "metadata": {},
     "output_type": "execute_result"
    }
   ],
   "source": [
    "show_doc(BioDataLoaders.from_csv)"
   ]
  },
  {
   "cell_type": "code",
   "execution_count": null,
   "metadata": {},
   "outputs": [
    {
     "data": {
      "text/markdown": [
       "---\n",
       "\n",
       "[source](https://github.com/deepCLEM/bioMONAI/blob/main/bioMONAI/data.py#L377){target=\"_blank\" style=\"float:right; font-size:smaller\"}\n",
       "\n",
       "### BioDataLoaders.class_from_folder\n",
       "\n",
       ">      BioDataLoaders.class_from_folder (path, train='train', valid='valid',\n",
       ">                                        valid_pct=None, seed=None, vocab=None,\n",
       ">                                        item_tfms=None, batch_tfms=None,\n",
       ">                                        img_cls=<class '__main__.BioImage'>,\n",
       ">                                        show_summary:bool=False, bs:int=64,\n",
       ">                                        val_bs:int=None, shuffle:bool=True,\n",
       ">                                        device=None)\n",
       "\n",
       "*Create from dataset in `path` with `train` and `valid` subfolders (or provide `valid_pct`)*\n",
       "\n",
       "|    | **Type** | **Default** | **Details** |\n",
       "| -- | -------- | ----------- | ----------- |\n",
       "| path | str \\| pathlib.Path | . | Path to put in `DataLoaders` |\n",
       "| train | str | train |  |\n",
       "| valid | str | valid |  |\n",
       "| valid_pct | NoneType | None |  |\n",
       "| seed | NoneType | None |  |\n",
       "| vocab | NoneType | None |  |\n",
       "| item_tfms | NoneType | None |  |\n",
       "| batch_tfms | NoneType | None |  |\n",
       "| img_cls | MetaResolver | BioImage |  |\n",
       "| show_summary | bool | False | If True, print a summary of the BioDataBlock after creation. |\n",
       "| bs | int | 64 | Size of batch |\n",
       "| val_bs | int | None | Size of batch for validation `DataLoader` |\n",
       "| shuffle | bool | True | Whether to shuffle data |\n",
       "| device | NoneType | None | Device to put `DataLoaders` |"
      ],
      "text/plain": [
       "---\n",
       "\n",
       "[source](https://github.com/deepCLEM/bioMONAI/blob/main/bioMONAI/data.py#L377){target=\"_blank\" style=\"float:right; font-size:smaller\"}\n",
       "\n",
       "### BioDataLoaders.class_from_folder\n",
       "\n",
       ">      BioDataLoaders.class_from_folder (path, train='train', valid='valid',\n",
       ">                                        valid_pct=None, seed=None, vocab=None,\n",
       ">                                        item_tfms=None, batch_tfms=None,\n",
       ">                                        img_cls=<class '__main__.BioImage'>,\n",
       ">                                        show_summary:bool=False, bs:int=64,\n",
       ">                                        val_bs:int=None, shuffle:bool=True,\n",
       ">                                        device=None)\n",
       "\n",
       "*Create from dataset in `path` with `train` and `valid` subfolders (or provide `valid_pct`)*\n",
       "\n",
       "|    | **Type** | **Default** | **Details** |\n",
       "| -- | -------- | ----------- | ----------- |\n",
       "| path | str \\| pathlib.Path | . | Path to put in `DataLoaders` |\n",
       "| train | str | train |  |\n",
       "| valid | str | valid |  |\n",
       "| valid_pct | NoneType | None |  |\n",
       "| seed | NoneType | None |  |\n",
       "| vocab | NoneType | None |  |\n",
       "| item_tfms | NoneType | None |  |\n",
       "| batch_tfms | NoneType | None |  |\n",
       "| img_cls | MetaResolver | BioImage |  |\n",
       "| show_summary | bool | False | If True, print a summary of the BioDataBlock after creation. |\n",
       "| bs | int | 64 | Size of batch |\n",
       "| val_bs | int | None | Size of batch for validation `DataLoader` |\n",
       "| shuffle | bool | True | Whether to shuffle data |\n",
       "| device | NoneType | None | Device to put `DataLoaders` |"
      ]
     },
     "execution_count": null,
     "metadata": {},
     "output_type": "execute_result"
    }
   ],
   "source": [
    "show_doc(BioDataLoaders.class_from_folder)"
   ]
  },
  {
   "cell_type": "code",
   "execution_count": null,
   "metadata": {},
   "outputs": [
    {
     "data": {
      "text/markdown": [
       "---\n",
       "\n",
       "[source](https://github.com/deepCLEM/bioMONAI/blob/main/bioMONAI/data.py#L415){target=\"_blank\" style=\"float:right; font-size:smaller\"}\n",
       "\n",
       "### BioDataLoaders.class_from_df\n",
       "\n",
       ">      BioDataLoaders.class_from_df (df, path='.', valid_pct=0.2, seed=None,\n",
       ">                                    fn_col=0, folder=None, suff='',\n",
       ">                                    label_col=1, label_delim=None,\n",
       ">                                    y_block=None, valid_col=None,\n",
       ">                                    item_tfms=None, batch_tfms=None,\n",
       ">                                    img_cls=<class '__main__.BioImage'>,\n",
       ">                                    show_summary:bool=False, bs:int=64,\n",
       ">                                    val_bs:int=None, shuffle:bool=True,\n",
       ">                                    device=None)\n",
       "\n",
       "*Create from `df` using `fn_col` and `label_col`*\n",
       "\n",
       "|    | **Type** | **Default** | **Details** |\n",
       "| -- | -------- | ----------- | ----------- |\n",
       "| df |  |  |  |\n",
       "| path | str \\| pathlib.Path | . | Path to put in `DataLoaders` |\n",
       "| valid_pct | float | 0.2 |  |\n",
       "| seed | NoneType | None |  |\n",
       "| fn_col | int | 0 |  |\n",
       "| folder | NoneType | None |  |\n",
       "| suff | str |  |  |\n",
       "| label_col | int | 1 |  |\n",
       "| label_delim | NoneType | None |  |\n",
       "| y_block | NoneType | None |  |\n",
       "| valid_col | NoneType | None |  |\n",
       "| item_tfms | NoneType | None |  |\n",
       "| batch_tfms | NoneType | None |  |\n",
       "| img_cls | MetaResolver | BioImage |  |\n",
       "| show_summary | bool | False | If True, print a summary of the BioDataBlock after creation. |\n",
       "| bs | int | 64 | Size of batch |\n",
       "| val_bs | int | None | Size of batch for validation `DataLoader` |\n",
       "| shuffle | bool | True | Whether to shuffle data |\n",
       "| device | NoneType | None | Device to put `DataLoaders` |"
      ],
      "text/plain": [
       "---\n",
       "\n",
       "[source](https://github.com/deepCLEM/bioMONAI/blob/main/bioMONAI/data.py#L415){target=\"_blank\" style=\"float:right; font-size:smaller\"}\n",
       "\n",
       "### BioDataLoaders.class_from_df\n",
       "\n",
       ">      BioDataLoaders.class_from_df (df, path='.', valid_pct=0.2, seed=None,\n",
       ">                                    fn_col=0, folder=None, suff='',\n",
       ">                                    label_col=1, label_delim=None,\n",
       ">                                    y_block=None, valid_col=None,\n",
       ">                                    item_tfms=None, batch_tfms=None,\n",
       ">                                    img_cls=<class '__main__.BioImage'>,\n",
       ">                                    show_summary:bool=False, bs:int=64,\n",
       ">                                    val_bs:int=None, shuffle:bool=True,\n",
       ">                                    device=None)\n",
       "\n",
       "*Create from `df` using `fn_col` and `label_col`*\n",
       "\n",
       "|    | **Type** | **Default** | **Details** |\n",
       "| -- | -------- | ----------- | ----------- |\n",
       "| df |  |  |  |\n",
       "| path | str \\| pathlib.Path | . | Path to put in `DataLoaders` |\n",
       "| valid_pct | float | 0.2 |  |\n",
       "| seed | NoneType | None |  |\n",
       "| fn_col | int | 0 |  |\n",
       "| folder | NoneType | None |  |\n",
       "| suff | str |  |  |\n",
       "| label_col | int | 1 |  |\n",
       "| label_delim | NoneType | None |  |\n",
       "| y_block | NoneType | None |  |\n",
       "| valid_col | NoneType | None |  |\n",
       "| item_tfms | NoneType | None |  |\n",
       "| batch_tfms | NoneType | None |  |\n",
       "| img_cls | MetaResolver | BioImage |  |\n",
       "| show_summary | bool | False | If True, print a summary of the BioDataBlock after creation. |\n",
       "| bs | int | 64 | Size of batch |\n",
       "| val_bs | int | None | Size of batch for validation `DataLoader` |\n",
       "| shuffle | bool | True | Whether to shuffle data |\n",
       "| device | NoneType | None | Device to put `DataLoaders` |"
      ]
     },
     "execution_count": null,
     "metadata": {},
     "output_type": "execute_result"
    }
   ],
   "source": [
    "show_doc(BioDataLoaders.class_from_df)"
   ]
  },
  {
   "cell_type": "code",
   "execution_count": null,
   "metadata": {},
   "outputs": [
    {
     "data": {
      "text/markdown": [
       "---\n",
       "\n",
       "[source](https://github.com/deepCLEM/bioMONAI/blob/main/bioMONAI/data.py#L437){target=\"_blank\" style=\"float:right; font-size:smaller\"}\n",
       "\n",
       "### BioDataLoaders.class_from_csv\n",
       "\n",
       ">      BioDataLoaders.class_from_csv (path, csv_fname='labels.csv',\n",
       ">                                     header='infer', delimiter=None, quoting=0,\n",
       ">                                     valid_pct=0.2, seed=None, fn_col=0,\n",
       ">                                     folder=None, suff='', label_col=1,\n",
       ">                                     label_delim=None, y_block=None,\n",
       ">                                     valid_col=None, item_tfms=None,\n",
       ">                                     batch_tfms=None, img_cls=<class\n",
       ">                                     '__main__.BioImage'>,\n",
       ">                                     show_summary:bool=False, bs:int=64,\n",
       ">                                     val_bs:int=None, shuffle:bool=True,\n",
       ">                                     device=None)\n",
       "\n",
       "*Create from `path/csv_fname` using `fn_col` and `label_col`*\n",
       "\n",
       "|    | **Type** | **Default** | **Details** |\n",
       "| -- | -------- | ----------- | ----------- |\n",
       "| path | str \\| pathlib.Path | . | Path to put in `DataLoaders` |\n",
       "| csv_fname | str | labels.csv |  |\n",
       "| header | str | infer |  |\n",
       "| delimiter | NoneType | None |  |\n",
       "| quoting | int | 0 |  |\n",
       "| valid_pct | float | 0.2 |  |\n",
       "| seed | NoneType | None |  |\n",
       "| fn_col | int | 0 |  |\n",
       "| folder | NoneType | None |  |\n",
       "| suff | str |  |  |\n",
       "| label_col | int | 1 |  |\n",
       "| label_delim | NoneType | None |  |\n",
       "| y_block | NoneType | None |  |\n",
       "| valid_col | NoneType | None |  |\n",
       "| item_tfms | NoneType | None |  |\n",
       "| batch_tfms | NoneType | None |  |\n",
       "| img_cls | MetaResolver | BioImage |  |\n",
       "| show_summary | bool | False | If True, print a summary of the BioDataBlock after creation. |\n",
       "| bs | int | 64 | Size of batch |\n",
       "| val_bs | int | None | Size of batch for validation `DataLoader` |\n",
       "| shuffle | bool | True | Whether to shuffle data |\n",
       "| device | NoneType | None | Device to put `DataLoaders` |"
      ],
      "text/plain": [
       "---\n",
       "\n",
       "[source](https://github.com/deepCLEM/bioMONAI/blob/main/bioMONAI/data.py#L437){target=\"_blank\" style=\"float:right; font-size:smaller\"}\n",
       "\n",
       "### BioDataLoaders.class_from_csv\n",
       "\n",
       ">      BioDataLoaders.class_from_csv (path, csv_fname='labels.csv',\n",
       ">                                     header='infer', delimiter=None, quoting=0,\n",
       ">                                     valid_pct=0.2, seed=None, fn_col=0,\n",
       ">                                     folder=None, suff='', label_col=1,\n",
       ">                                     label_delim=None, y_block=None,\n",
       ">                                     valid_col=None, item_tfms=None,\n",
       ">                                     batch_tfms=None, img_cls=<class\n",
       ">                                     '__main__.BioImage'>,\n",
       ">                                     show_summary:bool=False, bs:int=64,\n",
       ">                                     val_bs:int=None, shuffle:bool=True,\n",
       ">                                     device=None)\n",
       "\n",
       "*Create from `path/csv_fname` using `fn_col` and `label_col`*\n",
       "\n",
       "|    | **Type** | **Default** | **Details** |\n",
       "| -- | -------- | ----------- | ----------- |\n",
       "| path | str \\| pathlib.Path | . | Path to put in `DataLoaders` |\n",
       "| csv_fname | str | labels.csv |  |\n",
       "| header | str | infer |  |\n",
       "| delimiter | NoneType | None |  |\n",
       "| quoting | int | 0 |  |\n",
       "| valid_pct | float | 0.2 |  |\n",
       "| seed | NoneType | None |  |\n",
       "| fn_col | int | 0 |  |\n",
       "| folder | NoneType | None |  |\n",
       "| suff | str |  |  |\n",
       "| label_col | int | 1 |  |\n",
       "| label_delim | NoneType | None |  |\n",
       "| y_block | NoneType | None |  |\n",
       "| valid_col | NoneType | None |  |\n",
       "| item_tfms | NoneType | None |  |\n",
       "| batch_tfms | NoneType | None |  |\n",
       "| img_cls | MetaResolver | BioImage |  |\n",
       "| show_summary | bool | False | If True, print a summary of the BioDataBlock after creation. |\n",
       "| bs | int | 64 | Size of batch |\n",
       "| val_bs | int | None | Size of batch for validation `DataLoader` |\n",
       "| shuffle | bool | True | Whether to shuffle data |\n",
       "| device | NoneType | None | Device to put `DataLoaders` |"
      ]
     },
     "execution_count": null,
     "metadata": {},
     "output_type": "execute_result"
    }
   ],
   "source": [
    "show_doc(BioDataLoaders.class_from_csv)"
   ]
  },
  {
   "cell_type": "code",
   "execution_count": null,
   "metadata": {},
   "outputs": [
    {
     "data": {
      "text/markdown": [
       "---\n",
       "\n",
       "[source](https://github.com/deepCLEM/bioMONAI/blob/main/bioMONAI/data.py#L444){target=\"_blank\" style=\"float:right; font-size:smaller\"}\n",
       "\n",
       "### BioDataLoaders.class_from_lists\n",
       "\n",
       ">      BioDataLoaders.class_from_lists (path, fnames, labels, valid_pct=0.2,\n",
       ">                                       seed:int=None, y_block=None,\n",
       ">                                       item_tfms=None, batch_tfms=None,\n",
       ">                                       img_cls=<class '__main__.BioImage'>,\n",
       ">                                       show_summary:bool=False, bs:int=64,\n",
       ">                                       val_bs:int=None, shuffle:bool=True,\n",
       ">                                       device=None)\n",
       "\n",
       "*Create from list of `fnames` and `labels` in `path`*\n",
       "\n",
       "|    | **Type** | **Default** | **Details** |\n",
       "| -- | -------- | ----------- | ----------- |\n",
       "| path | str \\| pathlib.Path | . | Path to put in `DataLoaders` |\n",
       "| fnames |  |  |  |\n",
       "| labels |  |  |  |\n",
       "| valid_pct | float | 0.2 |  |\n",
       "| seed | int | None |  |\n",
       "| y_block | NoneType | None |  |\n",
       "| item_tfms | NoneType | None |  |\n",
       "| batch_tfms | NoneType | None |  |\n",
       "| img_cls | MetaResolver | BioImage |  |\n",
       "| show_summary | bool | False | If True, print a summary of the BioDataBlock after creation. |\n",
       "| bs | int | 64 | Size of batch |\n",
       "| val_bs | int | None | Size of batch for validation `DataLoader` |\n",
       "| shuffle | bool | True | Whether to shuffle data |\n",
       "| device | NoneType | None | Device to put `DataLoaders` |"
      ],
      "text/plain": [
       "---\n",
       "\n",
       "[source](https://github.com/deepCLEM/bioMONAI/blob/main/bioMONAI/data.py#L444){target=\"_blank\" style=\"float:right; font-size:smaller\"}\n",
       "\n",
       "### BioDataLoaders.class_from_lists\n",
       "\n",
       ">      BioDataLoaders.class_from_lists (path, fnames, labels, valid_pct=0.2,\n",
       ">                                       seed:int=None, y_block=None,\n",
       ">                                       item_tfms=None, batch_tfms=None,\n",
       ">                                       img_cls=<class '__main__.BioImage'>,\n",
       ">                                       show_summary:bool=False, bs:int=64,\n",
       ">                                       val_bs:int=None, shuffle:bool=True,\n",
       ">                                       device=None)\n",
       "\n",
       "*Create from list of `fnames` and `labels` in `path`*\n",
       "\n",
       "|    | **Type** | **Default** | **Details** |\n",
       "| -- | -------- | ----------- | ----------- |\n",
       "| path | str \\| pathlib.Path | . | Path to put in `DataLoaders` |\n",
       "| fnames |  |  |  |\n",
       "| labels |  |  |  |\n",
       "| valid_pct | float | 0.2 |  |\n",
       "| seed | int | None |  |\n",
       "| y_block | NoneType | None |  |\n",
       "| item_tfms | NoneType | None |  |\n",
       "| batch_tfms | NoneType | None |  |\n",
       "| img_cls | MetaResolver | BioImage |  |\n",
       "| show_summary | bool | False | If True, print a summary of the BioDataBlock after creation. |\n",
       "| bs | int | 64 | Size of batch |\n",
       "| val_bs | int | None | Size of batch for validation `DataLoader` |\n",
       "| shuffle | bool | True | Whether to shuffle data |\n",
       "| device | NoneType | None | Device to put `DataLoaders` |"
      ]
     },
     "execution_count": null,
     "metadata": {},
     "output_type": "execute_result"
    }
   ],
   "source": [
    "show_doc(BioDataLoaders.class_from_lists)"
   ]
  },
  {
   "cell_type": "markdown",
   "metadata": {},
   "source": [
    "## Data getters\n",
    "\n",
    "Functions to retrieve specific data components are provided, aiding in the organization and preprocessing of datasets."
   ]
  },
  {
   "cell_type": "code",
   "execution_count": null,
   "metadata": {},
   "outputs": [],
   "source": [
    "#| export\n",
    "from fastai.vision.all import get_image_files"
   ]
  },
  {
   "cell_type": "code",
   "execution_count": null,
   "metadata": {},
   "outputs": [],
   "source": [
    "#| export\n",
    "def get_gt(path_gt, # The base directory where the ground truth files are stored, or a file path from which to derive the parent directory.\n",
    "           gt_file_name=\"avg50.png\", # The name of the ground truth file.\n",
    "           ):\n",
    "    \"\"\"\n",
    "    The `get_gt` function retrieves ground truth data, essential for supervised learning tasks. \n",
    "    It ensures that the correct labels or annotations are associated with each data sample.\n",
    "    \n",
    "    This function constructs a path to a ground truth file based on the given `path_gt` and `gt_file_name`.    \n",
    "    It uses a lambda function to create a new path by appending `gt_file_name` to \n",
    "    the parent directory of the input file, as specified by `path_gt`.\n",
    "    \n",
    "    Returns a callable: A function that takes a single argument (a filename) and returns a Path object \n",
    "                   representing the full path to the ground truth file. When called with a filename, \n",
    "                   this function constructs the path by combining `path_gt` or the parent directory of \n",
    "                   the filename with `gt_file_name`. \n",
    "    \"\"\"\n",
    "    \n",
    "    # Convert path_gt to Path object if it's a string\n",
    "    path_gt = Path(path_gt)\n",
    "    \n",
    "    # Define the lambda function that constructs the full path\n",
    "    _fn = lambda fn: path_gt / f\"{Path(fn).parent}\" / gt_file_name\n",
    "    \n",
    "    return _fn\n"
   ]
  },
  {
   "cell_type": "markdown",
   "metadata": {},
   "source": [
    "The `get_target` function constructs and returns functions for generating file paths to \"target\" files based on given input parameters. \n",
    "This function is particularly useful for tasks where the target files are stored in a different directory or have a different naming convention compared to the input files.\n"
   ]
  },
  {
   "cell_type": "code",
   "execution_count": null,
   "metadata": {},
   "outputs": [],
   "source": [
    "#| export\n",
    "def get_target(path:str, # The base directory where the files are located. This should be a string representing an absolute or relative path.\n",
    "               same_filename=True, #If True, the target file name will match the original file name; otherwise, it will use the specified prefix. \n",
    "               target_file_prefix=\"target\", # The prefix to insert into the target file name if `same_filename` is False. \n",
    "               signal_file_prefix=\"signal\", # The prefix used in the original file names that should be replaced by the target prefix. \n",
    "               relative_path=False, # If True, it indicates that the path is relative to the parent folder in the path where the input files are located.\n",
    "               ):\n",
    "    \"\"\"\n",
    "    Constructs and returns functions for generating file paths to \"target\" files based on given input parameters.\n",
    "    \n",
    "    This function defines two nested helper functions within its scope: \\n\n",
    "        - `construct_target_filename(file_name)`: Constructs a target file name by inserting the specified prefix into the original file name.\n",
    "        - `generate_target_path(file_name)`: Generates a path to the target file based on whether `same_filename` is set to True or False.\n",
    "    \n",
    "    The main function returns the appropriate helper function based on the value of `same_filename`.\n",
    "    \n",
    "    Returns a callable: A function that takes a file name as input and returns its corresponding target file path based on the specified parameters.\n",
    "    \n",
    "    \"\"\"\n",
    "    # Define a function to construct the target file name based on input parameters\n",
    "    def construct_target_filename(file_name):\n",
    "        # Split the file name based on the signal file prefix\n",
    "        parts = file_name.split(signal_file_prefix)\n",
    "        \n",
    "        # Construct the target file name by inserting the target file prefix\n",
    "        target_file_name = parts[0] + target_file_prefix + parts[1]\n",
    "        \n",
    "        return target_file_name\n",
    "    \n",
    "    # Define a function to generate the target file path based on the given file name\n",
    "    def generate_target_path(file_name):\n",
    "        \n",
    "        base_path = ''\n",
    "        \n",
    "        if relative_path:\n",
    "            base_path = Path(file_name).parents[1]\n",
    "                            \n",
    "        # Extract the base file name\n",
    "        base_filename = os.path.basename(file_name)\n",
    "        \n",
    "        # If same_filename is True, simply return the path joined with the base file name\n",
    "        if same_filename:\n",
    "            return base_path / Path(path) / base_filename\n",
    "        \n",
    "        # If same_filename is False, construct the target file name and return the path joined with it\n",
    "        target_filename = construct_target_filename(base_filename)\n",
    "        return base_path / Path(path) / target_filename\n",
    "    \n",
    "    # Return the appropriate function based on the value of same_filename\n",
    "    return generate_target_path\n",
    "\n"
   ]
  },
  {
   "cell_type": "markdown",
   "metadata": {},
   "source": [
    "The function `get_target` can be used to look for target files in different folders using either absolute or relative paths:"
   ]
  },
  {
   "cell_type": "code",
   "execution_count": null,
   "metadata": {},
   "outputs": [
    {
     "name": "stdout",
     "output_type": "stream",
     "text": [
      "train_folder/target/target01.tif\n",
      "../train_folder/target/image01.tif\n"
     ]
    }
   ],
   "source": [
    "print(get_target('train_folder/target', same_filename=False)('../signal/signal01.tif'))\n",
    "print(get_target('target', relative_path=True)('../train_folder/signal/image01.tif'))"
   ]
  },
  {
   "cell_type": "markdown",
   "metadata": {},
   "source": [
    "...and it can look for target files with different names but same numbering:"
   ]
  },
  {
   "cell_type": "code",
   "execution_count": null,
   "metadata": {},
   "outputs": [
    {
     "name": "stdout",
     "output_type": "stream",
     "text": [
      "train_folder/GT/image_clean_01.tif\n"
     ]
    }
   ],
   "source": [
    "print(get_target('GT', relative_path=True, same_filename=False, target_file_prefix=\"image_clean\", signal_file_prefix=\"image_noisy\")('train_folder/signal/image_noisy_01.tif'))"
   ]
  },
  {
   "cell_type": "markdown",
   "metadata": {},
   "source": [
    "It also supports more general cases:"
   ]
  },
  {
   "cell_type": "code",
   "execution_count": null,
   "metadata": {},
   "outputs": [
    {
     "name": "stdout",
     "output_type": "stream",
     "text": [
      "train_folder/GT/01_image_clean_dataset.tif\n"
     ]
    }
   ],
   "source": [
    "print(get_target('GT', relative_path=True, same_filename=False, target_file_prefix=\"clean\", signal_file_prefix=\"noisy\")('train_folder/signal/01_image_noisy_dataset.tif'))"
   ]
  },
  {
   "cell_type": "markdown",
   "metadata": {},
   "source": [
    "For tasks involving unsupervised denoising or noise analysis, `get_noisy_pair` retrieves pairs of noisy data, enabling the training of models such as N2N.\n"
   ]
  },
  {
   "cell_type": "code",
   "execution_count": null,
   "metadata": {},
   "outputs": [],
   "source": [
    "#| export\n",
    "def get_noisy_pair(fn):\n",
    "    \"\"\"\n",
    "    Get another \"noisy\" version of the input file by selecting a file from the same directory.\n",
    "    \n",
    "    This function first retrieves all image files in the directory of the input file `fn` (excluding subdirectories). \n",
    "    It then selects one of these files at random, ensuring that it is not the original file itself to avoid creating a trivial \"noisy\" pair.\n",
    "    \n",
    "    Parameters: \\n\n",
    "        fn (Path or str): The path to the original image file. This should be a Path object but accepts string inputs for convenience.\n",
    "    \n",
    "    Returns: \\n\n",
    "        Path: A Path object pointing to the selected noisy file.\n",
    "    \n",
    "    \"\"\"\n",
    "    \n",
    "    # Convert fn to Path object if it's not already one\n",
    "    fn = Path(fn)\n",
    "    \n",
    "    # Get all image files in the parent directory of the input file\n",
    "    tmp = get_image_files(fn.parent, recurse=False)\n",
    "    \n",
    "    # Select a random file from the list, ensuring it's not the original file\n",
    "    fn2 = tmp[randint(0, len(tmp) - 1)]\n",
    "    while fn2 == fn:\n",
    "        fn2 = tmp[randint(0, len(tmp) - 1)]\n",
    "    \n",
    "    return fn2\n"
   ]
  },
  {
   "cell_type": "markdown",
   "metadata": {},
   "source": [
    "## Data Display"
   ]
  },
  {
   "cell_type": "markdown",
   "metadata": {},
   "source": [
    "Visualization functions are included to display batches of data and model results, aiding in qualitative assessments and debugging.\n"
   ]
  },
  {
   "cell_type": "code",
   "execution_count": null,
   "metadata": {},
   "outputs": [],
   "source": [
    "#| export\n",
    "@typedispatch\n",
    "def show_batch(x: BioImageBase,     # The input image data.\n",
    "               y: BioImageBase,     # The target image data.\n",
    "               samples,             # List of sample indices to display.\n",
    "               ctxs=None,           # List of contexts for displaying images. If None, create new ones using get_grid().\n",
    "               max_n: int=10,       # Maximum number of samples to display. Default is 10.\n",
    "               nrows: int=None,     # Number of rows in the grid if ctxs are not provided.\n",
    "               ncols: int=None,     # Number of columns in the grid if ctxs are not provided.\n",
    "               figsize: tuple=None, # Figure size for the image display.\n",
    "               **kwargs,            # Additional keyword arguments to pass to the show method of BioImageBase.\n",
    "               ):\n",
    "    \"\"\"\n",
    "    Display a batch of images and their corresponding targets.\n",
    "    \n",
    "    Returns:\n",
    "        List[Context]: A list of contexts after displaying the images and targets.\n",
    "    \"\"\"\n",
    "    # If ctxs are not provided, create new ones using get_grid()\n",
    "    if ctxs is None:\n",
    "        ctxs = get_grid(min(len(samples), max_n), nrows=nrows, ncols=ncols, figsize=figsize, double=True)\n",
    "    \n",
    "    # Loop through the images and targets in pairs (x and y)\n",
    "    for i in range(2):\n",
    "        # Display each image-target pair in a specific context\n",
    "        ctxs[i::2] = [b.show(ctx=c, **kwargs) for b, c, _ in zip(samples.itemgot(i), ctxs[i::2], range(max_n))]\n",
    "    \n",
    "    return ctxs\n"
   ]
  },
  {
   "cell_type": "code",
   "execution_count": null,
   "metadata": {},
   "outputs": [],
   "source": [
    "#| export\n",
    "from fastai.vision.all import TensorCategory"
   ]
  },
  {
   "cell_type": "code",
   "execution_count": null,
   "metadata": {},
   "outputs": [],
   "source": [
    "#| export\n",
    "@typedispatch\n",
    "def show_batch(x: BioImageBase,      # The input image data.\n",
    "               y: TensorCategory,    # The target data (categorical labels).\n",
    "               samples,              # List of sample indices to display.\n",
    "               ctxs=None,            # List of contexts for displaying images. If None, create new ones using get_grid().\n",
    "               max_n: int=10,        # Maximum number of samples to display. Default is 10.\n",
    "               nrows: int=None,      # Number of rows in the grid if ctxs are not provided.\n",
    "               ncols: int=None,      # Number of columns in the grid if ctxs are not provided.\n",
    "               figsize: tuple=None,  # Figure size for the image display.\n",
    "               **kwargs,             # Additional keyword arguments to pass to the show method of BioImageBase.\n",
    "               ):\n",
    "    \"\"\"\n",
    "    Display a batch of images with their corresponding labels as titles.\n",
    "    \n",
    "    Returns:\n",
    "        List[Context]: A list of contexts after displaying the images and their labels.\n",
    "    \"\"\"\n",
    "    # If ctxs are not provided, create new ones using get_grid()\n",
    "    if ctxs is None: \n",
    "        ctxs = get_grid(min(len(samples), max_n), nrows=nrows, ncols=ncols, figsize=figsize)\n",
    "    \n",
    "    # Flatten the context in case it returns as an array\n",
    "    if isinstance(ctxs, np.ndarray):\n",
    "        ctxs = ctxs.flatten()\n",
    "    \n",
    "    # Extract the input images and the corresponding labels\n",
    "    xs, ys = samples.itemgot(0), samples.itemgot(1)\n",
    "\n",
    "    # Loop through the images and labels\n",
    "    for i in range(len(xs)):\n",
    "        # Display each input image\n",
    "        ctxs[i] = xs[i].show(ctx=ctxs[i], title=f\"Label: {ys[i]}\", **kwargs)\n",
    "    \n",
    "    return ctxs\n",
    "\n",
    "\n",
    "\n"
   ]
  },
  {
   "cell_type": "markdown",
   "metadata": {},
   "source": [
    "### show_batch\n",
    "> ```  \n",
    "> show_batch (x:BioImageBase, y:BioImageBase, samples,\n",
    ">             ctxs=None, max_n:int=10, nrows:int=None, ncols:int=None,\n",
    ">             figsize:tuple=None, **kwargs)\n",
    "> ```\n",
    "\n",
    "\n",
    "The `show_batch` function visualizes a batch of data samples, allowing users to inspect the input data and verify preprocessing steps.\n",
    "\n",
    "Returns: List[Context]: A list of contexts after displaying the images and labels.\n",
    "\n",
    "| | Type           | Default     | Details                                                         |\n",
    "|-----------|-----|-------------|-----------------------------------------------------------------|\n",
    "| x              | BioImageBase | | The input image data.                                           |\n",
    "| y              | BioImageBase | | The target label data.                                          |\n",
    "| samples        |             | | List of sample indices to display.                              |\n",
    "| ctxs           | NoneType     | | List of contexts for displaying images. If None, create new ones using `get_grid()`. |\n",
    "| max_n          | int          | 10 | Maximum number of samples to display.        |\n",
    "| nrows          | int          | None | Number of rows in the grid if `ctxs` are not provided.      |\n",
    "| ncols          | int          | None | Number of columns in the grid if `ctxs` are not provided.   |\n",
    "| figsize        | tuple        | None | Figure size for the image display.                          |\n",
    "| kwargs         |            | | Additional keyword arguments.                                   |\n",
    "\n"
   ]
  },
  {
   "cell_type": "code",
   "execution_count": null,
   "metadata": {},
   "outputs": [],
   "source": [
    "#| export \n",
    "@typedispatch\n",
    "def show_results(x: BioImageBase, # The input image data.\n",
    "                 y: BioImageBase, # The target label data.\n",
    "                 samples, # List of sample indices to display.\n",
    "                 outs, # List of output predictions corresponding to the samples.\n",
    "                 ctxs=None, # List of contexts for displaying images. If None, create new ones using get_grid().\n",
    "                 max_n=10, # Maximum number of samples to display.\n",
    "                 figsize=None, # Figure size for the image display.\n",
    "                 **kwargs, # Additional keyword arguments to pass to the show method of BioImageBase.\n",
    "                 ):\n",
    "    \"\"\"\n",
    "    Display a batch of input images along with their predicted and target labels.\n",
    "   \n",
    "    Returns: \\n\n",
    "        List[Context]: A list of contexts after displaying the images and labels.\n",
    "    \"\"\"\n",
    "    # If ctxs are not provided, create new ones using get_grid() with a specific title and size\n",
    "    if ctxs is None: \n",
    "        ctxs = get_grid(3 * min(len(samples), max_n), ncols=3, figsize=figsize, title='Input/Target/Prediction')\n",
    "    \n",
    "    # Loop through the images and display them in a specific context for input (x) and output predictions (outs)\n",
    "    for i in range(2):\n",
    "        ctxs[i::3] = [b.show(ctx=c, **kwargs) for b, c, _ in zip(samples.itemgot(i), ctxs[i::3], range(max_n))]\n",
    "    \n",
    "    # Display the target labels (y) in a specific context after the input images\n",
    "    ctxs[2::3] = [b.show(ctx=c, **kwargs) for b, c, _ in zip(outs.itemgot(0), ctxs[2::3], range(max_n))]\n",
    "    \n",
    "    return ctxs\n"
   ]
  },
  {
   "cell_type": "code",
   "execution_count": null,
   "metadata": {},
   "outputs": [],
   "source": [
    "#| export\n",
    "@typedispatch\n",
    "def show_results(x: BioImageBase,       # The input image data.\n",
    "                y: TensorCategory,      # The target data (categorical labels).\n",
    "                samples,                # List of sample indices to display.\n",
    "                outs,                   # List of output predictions corresponding to the samples.\n",
    "                ctxs=None,              # List of contexts for displaying images. If None, create new ones using get_grid().\n",
    "                max_n=10,               # Maximum number of samples to display.\n",
    "                nrows: int=None,        # Number of rows in the grid if ctxs are not provided.\n",
    "                ncols: int=None,        # Number of columns in the grid if ctxs are not provided.\n",
    "                figsize=None,           # Figure size for the image display.\n",
    "                **kwargs,               # Additional keyword arguments to pass to the show method of BioImageBase.\n",
    "                ):\n",
    "    \"\"\"\n",
    "    Display a batch of input images along with their predicted and target labels.\n",
    "   \n",
    "    Returns: \\n\n",
    "        List[Context]: A list of contexts after displaying the images and labels.\n",
    "    \"\"\"\n",
    "    # If ctxs are not provided, create new ones using get_grid() with a specific title and size\n",
    "    if ctxs is None: \n",
    "        ctxs = get_grid(min(len(samples), max_n), nrows=nrows, ncols=ncols, figsize=figsize, title='Target/Prediction')\n",
    "    \n",
    "    # Loop through the images and display them in a specific context for input (x) and output predictions (outs)\n",
    "    for i in range(2):\n",
    "        ctxs = [b.show(ctx=c, **kwargs) for b,c,_ in zip(samples.itemgot(i),ctxs,range(max_n))]\n",
    "    \n",
    "    # Display predictions and target labels (y) in green, when matching, or red, otherwise.\n",
    "    ctxs = [r.show(ctx=c, color='green' if b==r else 'red', **kwargs)\n",
    "            for b,r,c,_ in zip(samples.itemgot(1), outs.itemgot(0), ctxs, range(max_n))]\n",
    "    \n",
    "    return ctxs\n"
   ]
  },
  {
   "cell_type": "markdown",
   "metadata": {},
   "source": [
    "### show_results\n",
    "> ```\n",
    "> show_results (x: BioImageBase, y: BioImageBase, samples,\n",
    ">               outs, ctxs=None, max_n=10, figsize=None, **kwargs)\n",
    "> ```\n",
    "\n",
    "After model inference, `show_results` displays the model's predictions alongside the ground truth, facilitating the evaluation of model performance.\n",
    "\n",
    "Returns:\n",
    "\n",
    "List[Context]: A list of contexts after displaying the images and labels.\n",
    "\n",
    "\n",
    "|   | Type           | Default     | Details                                                         |\n",
    "|-----------|-----|-------------|-----------------------------------------------------------------|\n",
    "| x              | BioImageBase | | The input image data.                                           |\n",
    "| y              | BioImageBase | | The target label data.                                          |\n",
    "| samples        |             | | List of sample indices to display.                              |\n",
    "| outs           |          |   | List of output predictions corresponding to the samples. |\n",
    "| ctxs           | NoneType     | | List of contexts for displaying images. If None, create new ones using `get_grid()`. |\n",
    "| max_n          | int        | 10  | \n",
    "| figsize        | tuple        | None | Figure size for the image display.                          |\n",
    "| kwargs         |            | | Additional keyword arguments.                                   |\n",
    "\n"
   ]
  },
  {
   "cell_type": "markdown",
   "metadata": {},
   "source": [
    "## Preprocessing"
   ]
  },
  {
   "cell_type": "markdown",
   "metadata": {},
   "source": [
    "The module provides functions for data preprocessing, including patch extraction and dimensionality reduction, essential for preparing data for machine learning models.\n"
   ]
  },
  {
   "cell_type": "code",
   "execution_count": 2,
   "metadata": {},
   "outputs": [],
   "source": [
    "#| export\n",
    "def extract_patches(data, # numpy array of the input data (n-dimensional).\n",
    "                    patch_size, # tuple of integers defining the size of the patches in each dimension.\n",
    "                    overlap, # float (between 0 and 1) indicating overlap between patches.\n",
    "                    ):\n",
    "    \"\"\"\n",
    "    Extracts n-dimensional patches from the input data.\n",
    "\n",
    "    Returns:\n",
    "    - A list of patches as numpy arrays.\n",
    "    \"\"\"\n",
    "    data_shape = data.shape\n",
    "    strides = tuple(int(p * (1 - overlap)) for p in patch_size)  # Calculate the stride for each dimension\n",
    "    \n",
    "    # Compute the range of indices for each dimension\n",
    "    slices = [range(0, data_shape[i] - patch_size[i] + 1, strides[i]) for i in range(len(patch_size))]\n",
    "    \n",
    "    # Generate patches\n",
    "    patches = []\n",
    "    for indices in np.ndindex(*[len(s) for s in slices]):\n",
    "        # Create slices for each dimension\n",
    "        patch_slices = tuple(slice(slices[dim][idx], slices[dim][idx] + patch_size[dim]) for dim, idx in enumerate(indices))\n",
    "        patches.append(data[patch_slices])\n",
    "    \n",
    "    return patches"
   ]
  },
  {
   "cell_type": "markdown",
   "metadata": {},
   "source": [
    "The `extract_patches` function divides images into smaller patches, which is useful for training models on localized regions of interest, especially when dealing with high-resolution images.\n"
   ]
  },
  {
   "cell_type": "code",
   "execution_count": 3,
   "metadata": {},
   "outputs": [
    {
     "name": "stdout",
     "output_type": "stream",
     "text": [
      "Number of generated patches: 8\n"
     ]
    },
    {
     "data": {
      "text/plain": [
       "(64, 64, 2)"
      ]
     },
     "execution_count": 3,
     "metadata": {},
     "output_type": "execute_result"
    }
   ],
   "source": [
    "data = np.random.rand(100, 100, 3)  # Example 3D data\n",
    "patch_size = (64,64,2)\n",
    "overlap = 0.5\n",
    "patches = extract_patches(data, patch_size, overlap)\n",
    "print(\"Number of generated patches:\", len(patches))\n",
    "patches[0].shape"
   ]
  },
  {
   "cell_type": "code",
   "execution_count": 4,
   "metadata": {},
   "outputs": [],
   "source": [
    "#| export\n",
    "def save_patches_grid(data_folder,                   # Path to the folder containing data files (n-dimensional data).\n",
    "                      gt_folder,                     # Path to the folder containing ground truth (gt) files (n-dimensional data).\n",
    "                      output_folder,                 # Path to the folder where the HDF5 files will be saved.\n",
    "                      patch_size,                    # tuple of integers defining the size of the patches.\n",
    "                      overlap,                       # float (between 0 and 1) defining the overlap between patches.\n",
    "                      threshold=None,                # If provided, patches with a mean value below this threshold will be discarded.\n",
    "                      squeeze_input=True,            # If True, squeeze the input data to remove single-dimensional entries. \n",
    "                      squeeze_patches=False,         # If True, squeeze the patches to remove single-dimensional entries.\n",
    "                      csv_output=True,               # If True, a CSV file listing all patch paths is created.\n",
    "                      train_test_split_ratio=0.8,    # Ratio of data to split into train and test CSV files (e.g., 0.8 for 80% train).\n",
    "                      tfms_before: List = None,      # List of transforms to apply before extracting patches.\n",
    "                      tfms_after: List = None,       # List of transforms to apply after extracting patches.\n",
    "                      ):\n",
    "    \"\"\"\n",
    "    Loads n-dimensional data from data_folder and gt_folder, generates patches, and saves them into individual HDF5 files.\n",
    "    Each HDF5 file will have datasets with the structure X/patch_idx and y/patch_idx.\n",
    "    \"\"\"\n",
    "    \n",
    "    # Ensure output folder exists\n",
    "    os.makedirs(output_folder, exist_ok=True)\n",
    "    \n",
    "    # Ensure the folders contain the same number of files\n",
    "    data_files = sorted([f for f in os.listdir(data_folder) if f.endswith(('.npy', '.npz', '.png', '.tif', '.tiff'))])\n",
    "    gt_files = sorted([f for f in os.listdir(gt_folder) if f.endswith(('.npy', '.npz', '.png', '.tif', '.tiff'))])\n",
    "\n",
    "    if len(data_files) != len(gt_files):\n",
    "        raise ValueError(\"The number of files in data_folder and gt_folder must be the same.\")\n",
    "    \n",
    "    # Prepare CSV records list\n",
    "    csv_records = []\n",
    "\n",
    "    # Loop through the files in the folders\n",
    "    for data_file_name, gt_file_name in tqdm(zip(data_files, gt_files), total=len(data_files), desc=\"Processing files\"):\n",
    "        data_file_path = os.path.join(data_folder, data_file_name)\n",
    "        gt_file_path = os.path.join(gt_folder, gt_file_name)\n",
    "        \n",
    "        # Load the images\n",
    "        data = np.array(image_reader(data_file_path))\n",
    "        gt = np.array(image_reader(gt_file_path))\n",
    "        \n",
    "        if squeeze_input:\n",
    "            data = np.squeeze(data)\n",
    "            gt = np.squeeze(gt)\n",
    "        \n",
    "        if data.shape != gt.shape:\n",
    "            raise ValueError(f\"Shape mismatch between {data_file_name} and {gt_file_name}\")\n",
    "        \n",
    "        # Apply transforms before extracting patches\n",
    "        if tfms_before is not None:\n",
    "            data, gt = apply_transforms((data, gt), tfms_before)\n",
    "        \n",
    "        # Extract patches from both datasets\n",
    "        data_patches_nd = extract_patches(data, patch_size, overlap)\n",
    "        gt_patches_nd = extract_patches(gt, patch_size, overlap)\n",
    "        \n",
    "        if squeeze_patches:\n",
    "            data_patches_nd = np.squeeze(data_patches_nd)\n",
    "            gt_patches_nd = np.squeeze(gt_patches_nd)\n",
    "        \n",
    "        # Create a new HDF5 file for this pair of files\n",
    "        hdf5_filename = os.path.join(output_folder, f\"{os.path.splitext(data_file_name)[0]}.h5\")\n",
    "        \n",
    "        with h5py.File(hdf5_filename, 'w') as hf:\n",
    "            patch_counter = 0  # Counter to number the valid patches\n",
    "            \n",
    "            # Store each patch in a separate dataset\n",
    "            for data_patch, gt_patch in tqdm(zip(data_patches_nd, gt_patches_nd), \n",
    "                                             total=len(data_patches_nd), \n",
    "                                             desc=f\"Saving patches for {data_file_name}\", \n",
    "                                             leave=False):\n",
    "                # Calculate the mean of the patch and discard if below threshold (if provided)\n",
    "                if threshold is not None and np.mean(data_patch) < threshold:\n",
    "                    continue  # Skip this patch\n",
    "                \n",
    "                # Apply transforms after extracting patches\n",
    "                if tfms_after is not None:\n",
    "                    data_patch, gt_patch = apply_transforms((data_patch, gt_patch), tfms_after)\n",
    "                \n",
    "                hf.create_dataset(f'X/{patch_counter}', data=data_patch)\n",
    "                hf.create_dataset(f'y/{patch_counter}', data=gt_patch)\n",
    "                \n",
    "                # Append patch paths to CSV records\n",
    "                csv_records.append({\n",
    "                    \"path_signal\": f\"{hdf5_filename}/X/{patch_counter}\",\n",
    "                    \"path_target\": f\"{hdf5_filename}/y/{patch_counter}\"\n",
    "                })\n",
    "                \n",
    "                patch_counter += 1  # Increment the patch counter only for valid patches\n",
    "    \n",
    "    # Save the paths to a CSV file if csv_output is True\n",
    "    if csv_output:\n",
    "        csv_df = pd.DataFrame(csv_records)\n",
    "        \n",
    "        if train_test_split_ratio is not None and 0 < train_test_split_ratio < 1:\n",
    "            # Split data into train and test sets\n",
    "            train_df, test_df = train_test_split(csv_df, train_size=train_test_split_ratio, random_state=42)\n",
    "            \n",
    "            # Save train and test CSVs\n",
    "            train_csv_path = os.path.join(output_folder, \"train_patches.csv\")\n",
    "            test_csv_path = os.path.join(output_folder, \"test_patches.csv\")\n",
    "            train_df.to_csv(train_csv_path, index=False)\n",
    "            test_df.to_csv(test_csv_path, index=False)\n",
    "            print(f\"CSV files saved to: {train_csv_path} and {test_csv_path}\")\n",
    "        \n",
    "        else:\n",
    "            # Save a single CSV file\n",
    "            csv_path = os.path.join(output_folder, \"all_patches.csv\")\n",
    "            csv_df.to_csv(csv_path, index=False)\n",
    "            print(f\"CSV file saved to: {csv_path}\")\n"
   ]
  },
  {
   "cell_type": "markdown",
   "metadata": {},
   "source": [
    "After extracting patches, `save_patches_grid` saves them in a grid format, facilitating visualization and inspection of the patches.\n"
   ]
  },
  {
   "cell_type": "code",
   "execution_count": 5,
   "metadata": {},
   "outputs": [],
   "source": [
    "from bioMONAI.transforms import Blur"
   ]
  },
  {
   "cell_type": "code",
   "execution_count": 6,
   "metadata": {},
   "outputs": [
    {
     "name": "stderr",
     "output_type": "stream",
     "text": [
      "Processing files:   0%|          | 0/2 [00:00<?, ?it/s]"
     ]
    },
    {
     "name": "stderr",
     "output_type": "stream",
     "text": [
      "Processing files: 100%|██████████| 2/2 [00:00<00:00,  2.61it/s]"
     ]
    },
    {
     "name": "stdout",
     "output_type": "stream",
     "text": [
      "CSV files saved to: ./_test/train_patches.csv and ./_test/test_patches.csv\n"
     ]
    },
    {
     "name": "stderr",
     "output_type": "stream",
     "text": [
      "\n"
     ]
    }
   ],
   "source": [
    "data_folder = './data_examples/Confocal_BPAE_B'\n",
    "# For the sake of simplicity, in this example we use the same folder for ground truth\n",
    "gt_folder = './data_examples/Confocal_BPAE_B' \n",
    "output_folder = './_test'\n",
    "patch_size = (64,64)\n",
    "overlap = 0\n",
    "save_patches_grid(data_folder, gt_folder, output_folder, patch_size, overlap, squeeze_input=True, tfms_after=[Blur(ksize=15)])"
   ]
  },
  {
   "cell_type": "code",
   "execution_count": 7,
   "metadata": {},
   "outputs": [],
   "source": [
    "from bioMONAI.io import hdf5_reader, split_hdf_path\n",
    "from bioMONAI.visualize import plot_image\n"
   ]
  },
  {
   "cell_type": "code",
   "execution_count": null,
   "metadata": {},
   "outputs": [
    {
     "data": {
      "image/png": "[encoded data removed]",
      "text/plain": [
       "<Figure size 640x480 with 1 Axes>"
      ]
     },
     "metadata": {},
     "output_type": "display_data"
    }
   ],
   "source": [
    "file_path = './_test/HV110_P0500510000.h5/X/1'\n",
    "\n",
    "im , _ = hdf5_reader()(file_path)\n",
    "plot_image(im)\n"
   ]
  },
  {
   "cell_type": "code",
   "execution_count": 9,
   "metadata": {},
   "outputs": [
    {
     "data": {
      "image/png": "[encoded data removed]",
      "text/plain": [
       "<Figure size 640x480 with 1 Axes>"
      ]
     },
     "metadata": {},
     "output_type": "display_data"
    }
   ],
   "source": [
    "file_path = './_test/HV110_P0500510000.h5/y/1'\n",
    "\n",
    "im , _ = hdf5_reader()(file_path)\n",
    "plot_image(im)\n"
   ]
  },
  {
   "cell_type": "markdown",
   "metadata": {},
   "source": [
    "### Example "
   ]
  },
  {
   "cell_type": "code",
   "execution_count": 25,
   "metadata": {},
   "outputs": [],
   "source": [
    "from bioMONAI.core import apply_transforms\n",
    "from bioMONAI.transforms import Blur, RandFlip"
   ]
  },
  {
   "cell_type": "code",
   "execution_count": 26,
   "metadata": {},
   "outputs": [],
   "source": [
    "# List of transformations defined from the bioMONAI transforms module \n",
    "transforms_list = [\n",
    "    Blur(ksize=15, prob=1.0), \n",
    "    RandFlip(prob=1.0, spatial_axis=1, ndim=2)\n",
    "]"
   ]
  },
  {
   "cell_type": "code",
   "execution_count": 27,
   "metadata": {},
   "outputs": [
    {
     "name": "stderr",
     "output_type": "stream",
     "text": [
      "Processing files: 100%|██████████| 2/2 [00:00<00:00,  3.26it/s]"
     ]
    },
    {
     "name": "stdout",
     "output_type": "stream",
     "text": [
      "CSV files saved to: ./_test_tfms/train_patches.csv and ./_test_tfms/test_patches.csv\n"
     ]
    },
    {
     "name": "stderr",
     "output_type": "stream",
     "text": [
      "\n"
     ]
    }
   ],
   "source": [
    "data_folder = './data_examples/Confocal_BPAE_B'\n",
    "# For the sake of simplicity, in this example we use the same folder for ground truth\n",
    "gt_folder = './data_examples/Confocal_BPAE_B' \n",
    "output_folder = './_test_tfms'\n",
    "patch_size = (64,64)\n",
    "overlap = 0\n",
    "save_patches_grid(data_folder, gt_folder, output_folder, patch_size, overlap, squeeze_input=True, tfms_after=transforms_list)"
   ]
  },
  {
   "cell_type": "code",
   "execution_count": 28,
   "metadata": {},
   "outputs": [
    {
     "data": {
      "image/png": "[encoded data removed]",
      "text/plain": [
       "<Figure size 640x480 with 1 Axes>"
      ]
     },
     "metadata": {},
     "output_type": "display_data"
    }
   ],
   "source": [
    "file_path = './_test_tfms/HV110_P0500510000.h5/X/1'\n",
    "\n",
    "im , _ = hdf5_reader()(file_path)\n",
    "plot_image(im)\n"
   ]
  },
  {
   "cell_type": "code",
   "execution_count": 10,
   "metadata": {},
   "outputs": [],
   "source": [
    "#| export\n",
    "def extract_random_patches(data_tuple, # tuple of numpy arrays (input data, ground truth data).\n",
    "                           patch_size, # tuple of integers defining the size of the patches in each dimension.\n",
    "                           num_patches, # number of random patches to extract.\n",
    "                           ):\n",
    "    \"\"\"\n",
    "    Extracts a specified number of random n-dimensional patches from the input data and ground truth data.\n",
    "    \n",
    "    Returns:\n",
    "    - A tuple of lists containing randomly cropped patches as numpy arrays (input_patches, gt_patches).\n",
    "    \"\"\"\n",
    "    input_data, gt_data = data_tuple\n",
    "    input_shape = input_data.shape\n",
    "    gt_shape = gt_data.shape\n",
    "    \n",
    "    if input_shape != gt_shape:\n",
    "        raise ValueError(\"Input data and ground truth data must have the same shape.\")\n",
    "    \n",
    "    ndim = len(input_shape)\n",
    "    \n",
    "    # Ensure patch size fits within the data dimensions\n",
    "    for dim in range(ndim):\n",
    "        if patch_size[dim] > input_shape[dim]:\n",
    "            raise ValueError(f\"Patch size {patch_size[dim]} exceeds data dimension {input_shape[dim]} in dimension {dim}\")\n",
    "    \n",
    "    input_patches = []\n",
    "    gt_patches = []\n",
    "    \n",
    "    for _ in range(num_patches):\n",
    "        # Randomly select the starting point for each dimension\n",
    "        start_coords = [random.randint(0, input_shape[dim] - patch_size[dim]) for dim in range(ndim)]\n",
    "        \n",
    "        # Create slices for the selected patch\n",
    "        patch_slices = tuple(slice(start_coords[dim], start_coords[dim] + patch_size[dim]) for dim in range(ndim))\n",
    "        \n",
    "        # Extract the patch and add to the lists\n",
    "        input_patches.append(input_data[patch_slices])\n",
    "        gt_patches.append(gt_data[patch_slices])\n",
    "    \n",
    "    return input_patches, gt_patches\n"
   ]
  },
  {
   "cell_type": "code",
   "execution_count": 11,
   "metadata": {},
   "outputs": [],
   "source": [
    "#| export\n",
    "def save_patches_random(data_folder,                # Path to the folder containing data files (n-dimensional data).\n",
    "                        gt_folder,                  # Path to the folder containing ground truth (gt) files (n-dimensional data).\n",
    "                        output_folder,              # Path to the folder where the HDF5 files will be saved.\n",
    "                        patch_size,                 # tuple of integers defining the size of the patches.\n",
    "                        num_patches,                # number of random patches to extract per file.\n",
    "                        threshold=None,             # If provided, patches with a mean value below this threshold will be discarded.\n",
    "                        squeeze_input=True,         # If True, squeezes singleton dimensions in the input data.\n",
    "                        squeeze_patches=False,      # If True, squeezes singleton dimensions in the patches.\n",
    "                        csv_output=True,            # If True, a CSV file listing all patch paths is created.\n",
    "                        train_test_split_ratio=0.8, # Ratio of data to split into train and test CSV files (e.g., 0.8 for 80% train).\n",
    "                        tfms_before: List =None,           # List of transforms to apply before extracting patches.\n",
    "                        tfms_after: List =None,            # List of transforms to apply after extracting patches.\n",
    "                        ):\n",
    "    \"\"\"\n",
    "    Loads n-dimensional data from data_folder and gt_folder, generates random patches, and saves them into individual HDF5 files.\n",
    "    Each HDF5 file will have datasets with the structure X/patch_idx and y/patch_idx.\n",
    "    \n",
    "    \"\"\"\n",
    "    \n",
    "    # Ensure output folder exists\n",
    "    os.makedirs(output_folder, exist_ok=True)\n",
    "    \n",
    "    # Ensure the folders contain the same number of files\n",
    "    data_files = sorted([f for f in os.listdir(data_folder) if f.endswith(('.npy', '.npz', '.png', '.tif', '.tiff'))])\n",
    "    gt_files = sorted([f for f in os.listdir(gt_folder) if f.endswith(('.npy', '.npz', '.png', '.tif', '.tiff'))])\n",
    "    \n",
    "    if len(data_files) != len(gt_files):\n",
    "        raise ValueError(\"The number of files in data_folder and gt_folder must be the same.\")\n",
    "    \n",
    "    # Prepare CSV records list\n",
    "    csv_records = []\n",
    "    \n",
    "    # Loop through the files in the folders with progress bar\n",
    "    for data_file_name, gt_file_name in tqdm(zip(data_files, gt_files), total=len(data_files), desc=\"Processing files\"):\n",
    "        data_file_path = os.path.join(data_folder, data_file_name)\n",
    "        gt_file_path = os.path.join(gt_folder, gt_file_name)\n",
    "        \n",
    "        # Load the images\n",
    "        data = np.array(image_reader(data_file_path))\n",
    "        gt = np.array(image_reader(gt_file_path))  \n",
    "        \n",
    "        if squeeze_input:\n",
    "            data = np.squeeze(data)\n",
    "            gt = np.squeeze(gt)\n",
    "                  \n",
    "        if data.shape != gt.shape:\n",
    "            raise ValueError(f\"Shape mismatch between {data_file_name} and {gt_file_name}\")\n",
    "        \n",
    "        # Apply transforms before extracting patches\n",
    "        if tfms_before is not None:\n",
    "            data, gt = apply_transforms((data, gt), tfms_before)\n",
    "        \n",
    "        # Extract random patches from both datasets\n",
    "        data_patches_nd, gt_patches_nd = extract_random_patches((data,gt), patch_size, num_patches)\n",
    "        \n",
    "        if squeeze_patches:\n",
    "            data_patches_nd = np.squeeze(data_patches_nd)\n",
    "            gt_patches_nd = np.squeeze(gt_patches_nd)\n",
    "              \n",
    "        # Create a new HDF5 file for this pair of files\n",
    "        hdf5_filename = os.path.join(output_folder, f\"{os.path.splitext(data_file_name)[0]}_random_patches.h5\")\n",
    "        \n",
    "        with h5py.File(hdf5_filename, 'w') as hf:\n",
    "            patch_counter = 0  # Counter to number the valid patches\n",
    "            \n",
    "            # Store each patch in a separate dataset with a progress bar for each file\n",
    "            for data_patch, gt_patch in tqdm(zip(data_patches_nd, gt_patches_nd), \n",
    "                                             total=num_patches, \n",
    "                                             desc=f\"Saving random patches for {data_file_name}\", \n",
    "                                             leave=False):\n",
    "                # Calculate the mean of the patch and discard if below threshold (if provided)\n",
    "                if threshold is not None and np.mean(data_patch) < threshold:\n",
    "                    continue  # Skip this patch\n",
    "                \n",
    "                # Apply transforms after extracting patches\n",
    "                if tfms_after is not None:\n",
    "                    data_patch, gt_patch = apply_transforms((data_patch, gt_patch), tfms_after)\n",
    "            \n",
    "                hf.create_dataset(f'X/{patch_counter}', data=data_patch)\n",
    "                hf.create_dataset(f'y/{patch_counter}', data=gt_patch)\n",
    "                \n",
    "                # Append patch paths to CSV records\n",
    "                csv_records.append({\n",
    "                    \"path_signal\": f\"{hdf5_filename}/X/{patch_counter}\",\n",
    "                    \"path_target\": f\"{hdf5_filename}/y/{patch_counter}\"\n",
    "                })\n",
    "                \n",
    "                patch_counter += 1  # Increment the patch counter only for valid patches\n",
    "    \n",
    "    # Save the paths to a CSV file if csv_output is True\n",
    "    if csv_output:\n",
    "        csv_df = pd.DataFrame(csv_records)\n",
    "        \n",
    "        if train_test_split_ratio is not None and 0 < train_test_split_ratio < 1:\n",
    "            # Split data into train and test sets\n",
    "            train_df, test_df = train_test_split(csv_df, train_size=train_test_split_ratio, random_state=42)\n",
    "            \n",
    "            # Save train and test CSVs\n",
    "            train_csv_path = os.path.join(output_folder, \"train_patches.csv\")\n",
    "            test_csv_path = os.path.join(output_folder, \"test_patches.csv\")\n",
    "            train_df.to_csv(train_csv_path, index=False)\n",
    "            test_df.to_csv(test_csv_path, index=False)\n",
    "            print(f\"CSV files saved to: {train_csv_path} and {test_csv_path}\")\n",
    "        \n",
    "        else:\n",
    "            # Save a single CSV file\n",
    "            csv_path = os.path.join(output_folder, \"all_patches.csv\")\n",
    "            csv_df.to_csv(csv_path, index=False)\n",
    "            print(f\"CSV file saved to: {csv_path}\")\n"
   ]
  },
  {
   "cell_type": "code",
   "execution_count": 12,
   "metadata": {},
   "outputs": [
    {
     "name": "stderr",
     "output_type": "stream",
     "text": [
      "Processing files: 100%|██████████| 2/2 [00:00<00:00,  9.72it/s]"
     ]
    },
    {
     "name": "stdout",
     "output_type": "stream",
     "text": [
      "CSV files saved to: ./_test2/train_patches.csv and ./_test2/test_patches.csv\n"
     ]
    },
    {
     "name": "stderr",
     "output_type": "stream",
     "text": [
      "\n"
     ]
    }
   ],
   "source": [
    "data_folder = './data_examples/Confocal_BPAE_B' \n",
    "gt_folder = './data_examples/Confocal_BPAE_B' \n",
    "output_folder = './_test2'\n",
    "patch_size = (64,64)\n",
    "num_patches= 2\n",
    "save_patches_random(data_folder, gt_folder, output_folder, patch_size, num_patches, squeeze_input=True, tfms_before=[Blur(ksize=15)])"
   ]
  },
  {
   "cell_type": "code",
   "execution_count": 13,
   "metadata": {},
   "outputs": [
    {
     "data": {
      "image/png": "[encoded data removed]",
      "text/plain": [
       "<Figure size 640x480 with 1 Axes>"
      ]
     },
     "metadata": {},
     "output_type": "display_data"
    }
   ],
   "source": [
    "file_path = './_test2/HV110_P0500510000_random_patches.h5/X/1'\n",
    "\n",
    "im , _ = hdf5_reader()(file_path)\n",
    "plot_image(im)"
   ]
  },
  {
   "cell_type": "code",
   "execution_count": 14,
   "metadata": {},
   "outputs": [
    {
     "data": {
      "image/png": "[encoded data removed]",
      "text/plain": [
       "<Figure size 640x480 with 1 Axes>"
      ]
     },
     "metadata": {},
     "output_type": "display_data"
    }
   ],
   "source": [
    "file_path = './_test2/HV110_P0500510000_random_patches.h5/y/1'\n",
    "\n",
    "im , _ = hdf5_reader()(file_path)\n",
    "plot_image(im)"
   ]
  },
  {
   "cell_type": "code",
   "execution_count": 15,
   "metadata": {},
   "outputs": [],
   "source": [
    "#| export\n",
    "def dict2string(d, # The dictionary to convert.\n",
    "                item_sep=\"_\", # The separator between dictionary items (default is \", \").\n",
    "                key_value_sep=\"\", # The separator between keys and values (default is \": \").\n",
    "                pad_zeroes=None, # The minimum width for integer values, padded with zeros. If None, no padding is applied.\n",
    "                ):\n",
    "    \"\"\"\n",
    "    Transforms a dictionary into a string with customizable separators and optional zero padding for integers.\n",
    "\n",
    "    Returns the formatted dictionary as a string.\n",
    "    \"\"\"\n",
    "    def format_value(value):\n",
    "        if isinstance(value, int) and pad_zeroes is not None:\n",
    "            return f\"{value:0{pad_zeroes}d}\"\n",
    "        return str(value)\n",
    "    \n",
    "    return item_sep.join(f\"{k}{key_value_sep}{format_value(v)}\" for k, v in d.items())\n"
   ]
  },
  {
   "cell_type": "code",
   "execution_count": 16,
   "metadata": {},
   "outputs": [
    {
     "name": "stdout",
     "output_type": "stream",
     "text": [
      "C002_Z030_S001\n"
     ]
    }
   ],
   "source": [
    "my_dict = {'C': 2, 'Z': 30, 'S': 1}\n",
    "result = dict2string(my_dict, pad_zeroes=3)\n",
    "print(result)"
   ]
  },
  {
   "cell_type": "code",
   "execution_count": 17,
   "metadata": {},
   "outputs": [],
   "source": [
    "#| export\n",
    "def remove_singleton_dims(substack, # The extracted substack data.\n",
    "                          order, # The dimension order string (e.g., 'CZYX').\n",
    "                          ):\n",
    "    \"\"\"\n",
    "    Remove dimensions with a size of 1 from both the substack and the order string.\n",
    "\n",
    "    Returns: \\n\n",
    "        substack (np.array): The substack with singleton dimensions removed.\n",
    "        new_order (str): The updated dimension order string.\n",
    "    \"\"\"\n",
    "    new_order = \"\"\n",
    "    new_shape = []\n",
    "    \n",
    "    for i, dim in enumerate(order):\n",
    "        if substack.shape[i] > 1:  # Keep only dimensions with more than 1 slice\n",
    "            new_order += dim\n",
    "            new_shape.append(substack.shape[i])\n",
    "    \n",
    "    substack = substack.reshape(new_shape)  # Remove singleton dimensions\n",
    "    return substack, new_order"
   ]
  },
  {
   "cell_type": "code",
   "execution_count": 18,
   "metadata": {},
   "outputs": [],
   "source": [
    "#| export\n",
    "def extract_substacks(input_file, # Path to the input OME-TIFF file.\n",
    "                      output_dir=None, # Directory to save the extracted substacks. If a list, the substacks will be saved in the corresponding subdirectories from the list.\n",
    "                      indices=None,# A dictionary specifying which indices to extract. Keys can include 'C' for channel, 'Z' for z-slice, 'T' for time point, and 'S' for scene. If None, all indices are extracted.\n",
    "                      split_dimension=None,# Dimension to split substacks along. If provided, separate substacks will be generated for each index in the split_dimension. Must be one of the keys in indices.\n",
    "                      squeeze_dims=True, # Dimension to squeeze substacks along. \n",
    "                      *kwargs):\n",
    "    \"\"\"\n",
    "    Extract substacks from a multidimensional OME-TIFF stack using AICSImageIO.\n",
    "\n",
    "    \"\"\"\n",
    "    # Load the OME-TIFF file\n",
    "    image = AICSImage(input_file)\n",
    "\n",
    "    # Extract the base name of the input file (without path and extension)\n",
    "    base_filename = os.path.splitext(os.path.basename(input_file))[0]   \n",
    "    # Remove complex extensions like .ome.tiff or .ome.tif\n",
    "    base_filename = os.path.splitext(base_filename)[0]\n",
    "    \n",
    "    # Get dimensions order\n",
    "    order = image.dims.order\n",
    "\n",
    "    # Update defaults with user-specified indices\n",
    "    if indices is None:\n",
    "        indices = dict()\n",
    "        \n",
    "    # Convert any numpy.int types in indices to Python int\n",
    "    indices = {k: int(v) if isinstance(v, (np.integer, np.int64)) else v for k, v in indices.items()}\n",
    "\n",
    "    # If split_dimension is provided, create substacks for each index in that dimension\n",
    "    if split_dimension is not None and split_dimension in indices:\n",
    "        # Extract the dimension indices from the input data\n",
    "        split_indices = indices[split_dimension]\n",
    "        if isinstance(split_indices, int):\n",
    "            split_indices = [split_indices]  # Ensure it's a list even if a single index is passed\n",
    "\n",
    "        # Ensure output_dir is a list of directories or convert to list of subfolder names by index\n",
    "        if output_dir is not None and isinstance(output_dir, list):\n",
    "            if len(output_dir) != len(split_indices):\n",
    "                if len(output_dir) == 1:\n",
    "                    output_dir_list = [os.path.join(output_dir[0], f\"{split_dimension}_{i}\") for i in split_indices]\n",
    "                else:\n",
    "                    raise ValueError(f\"The number of subdirectories in output_dir ({len(output_dir)}) does not match the number of substacks ({len(split_indices)}).\")\n",
    "            else:\n",
    "                output_dir_list = output_dir\n",
    "        elif output_dir is not None:\n",
    "            output_dir_list = [output_dir] * len(split_indices)\n",
    "        else:\n",
    "            output_dir_list = [None] * len(split_indices)  # No output_dir provided, substack is returned.\n",
    "\n",
    "        # Loop through indices in the split dimension\n",
    "        for i, idx in enumerate(split_indices):\n",
    "            # Adjust the indices dictionary for the current index in split_dimension\n",
    "            current_indices = indices.copy()\n",
    "            current_indices[split_dimension] = int(idx) \n",
    "            \n",
    "            # Extract the substack for the current index\n",
    "            substack = image.get_image_data(order, **current_indices)\n",
    "            \n",
    "            # Remove singleton dimensions\n",
    "            if squeeze_dims:\n",
    "                substack, new_order = remove_singleton_dims(substack, order)\n",
    "            else:\n",
    "                new_order = order\n",
    "\n",
    "            # Save the substack\n",
    "            if output_dir is None:\n",
    "                return substack  # Return the first substack if no output_dir is specified\n",
    "            \n",
    "            # Ensure the specific subfolder exists\n",
    "            os.makedirs(output_dir_list[i], exist_ok=True)\n",
    "            \n",
    "            # Construct output filename\n",
    "            output_filename = f\"{base_filename}_substack_{dict2string(current_indices, *kwargs)}.ome.tiff\"\n",
    "            output_path = os.path.join(output_dir_list[i], output_filename)\n",
    "\n",
    "            # Save the substack\n",
    "            OmeTiffWriter.save(substack, output_path, dim_order=new_order)\n",
    "\n",
    "            print(f\"Extracted substack saved to: {output_path}\")\n",
    "    \n",
    "    else:\n",
    "        # No split_dimension provided, extract the entire substack\n",
    "        substack = image.get_image_data(order, **indices)\n",
    "        \n",
    "        # Remove singleton dimensions\n",
    "        if squeeze_dims:\n",
    "            substack, new_order = remove_singleton_dims(substack, order)\n",
    "        else:\n",
    "            new_order = order\n",
    "\n",
    "        if output_dir is None:\n",
    "            return substack  # Return substack if no output_dir is provided\n",
    "\n",
    "        # Ensure output directory exists\n",
    "        os.makedirs(output_dir, exist_ok=True)\n",
    "        \n",
    "        # Construct output filename\n",
    "        output_filename = f\"{base_filename}_substack_{dict2string(indices, *kwargs)}.ome.tiff\"\n",
    "        output_path = os.path.join(output_dir, output_filename)\n",
    "\n",
    "        # Save the substack\n",
    "        OmeTiffWriter.save(substack, output_path, dim_order=new_order)\n",
    "\n",
    "        print(f\"Extracted substack saved to: {output_path}\")\n"
   ]
  },
  {
   "cell_type": "code",
   "execution_count": 19,
   "metadata": {},
   "outputs": [
    {
     "data": {
      "text/plain": [
       "['./_test_folder/channel_0',\n",
       " './_test_folder/channel_1',\n",
       " './_test_folder/channel_2']"
      ]
     },
     "execution_count": 19,
     "metadata": {},
     "output_type": "execute_result"
    }
   ],
   "source": [
    "output_dir = \"./_test_folder/\"\n",
    "subdirs = [output_dir + folder for folder in [\"channel_0\", \"channel_1\", \"channel_2\"]]\n",
    "subdirs"
   ]
  },
  {
   "cell_type": "code",
   "execution_count": 20,
   "metadata": {},
   "outputs": [
    {
     "data": {
      "text/plain": [
       "['./_test_folder/./_test_folder/channel_0_0',\n",
       " './_test_folder/./_test_folder/channel_0_1']"
      ]
     },
     "execution_count": 20,
     "metadata": {},
     "output_type": "execute_result"
    }
   ],
   "source": [
    "[os.path.join([output_dir][0], f\"{subdirs[0]}_{ii}\") for ii in range(2)]"
   ]
  },
  {
   "cell_type": "code",
   "execution_count": 21,
   "metadata": {},
   "outputs": [
    {
     "name": "stdout",
     "output_type": "stream",
     "text": [
      "Extracted substack saved to: ./_test_folder/2155a4fe_3500000635_100X_20170227_E08_P21_substack_C0_Zrange(0, 35)_T0.ome.tiff\n"
     ]
    }
   ],
   "source": [
    "filename = './data_examples/2155a4fe_3500000635_100X_20170227_E08_P21.ome.tiff'\n",
    "\n",
    "# This extracts a single substack for channel 0, z-slice 5, and time point 0.\n",
    "extract_substacks(filename, output_dir=output_dir, indices={\"C\": 0, \"Z\": range(35), \"T\": 0})\n"
   ]
  },
  {
   "cell_type": "code",
   "execution_count": 22,
   "metadata": {},
   "outputs": [
    {
     "name": "stdout",
     "output_type": "stream",
     "text": [
      "Extracted substack saved to: ./_test_folder/C_0/2155a4fe_3500000635_100X_20170227_E08_P21_substack_C0_Z5_T0.ome.tiff\n",
      "Extracted substack saved to: ./_test_folder/C_1/2155a4fe_3500000635_100X_20170227_E08_P21_substack_C1_Z5_T0.ome.tiff\n",
      "Extracted substack saved to: ./_test_folder/C_2/2155a4fe_3500000635_100X_20170227_E08_P21_substack_C2_Z5_T0.ome.tiff\n"
     ]
    }
   ],
   "source": [
    "# This extracts substacks for each channel (`C`) and saves them in separate subfolders named \"C_0\", \"C_1\", \"C_2\", etc.\n",
    "extract_substacks(filename, output_dir=[output_dir], indices={\"C\": [0, 1, 2], \"Z\": 5, \"T\": 0}, split_dimension=\"C\")\n"
   ]
  },
  {
   "cell_type": "code",
   "execution_count": 23,
   "metadata": {},
   "outputs": [
    {
     "name": "stdout",
     "output_type": "stream",
     "text": [
      "Extracted substack saved to: ./_test_folder/channel_0/2155a4fe_3500000635_100X_20170227_E08_P21_substack_C0_Z5.ome.tiff\n",
      "Extracted substack saved to: ./_test_folder/channel_1/2155a4fe_3500000635_100X_20170227_E08_P21_substack_C1_Z5.ome.tiff\n",
      "Extracted substack saved to: ./_test_folder/channel_2/2155a4fe_3500000635_100X_20170227_E08_P21_substack_C2_Z5.ome.tiff\n"
     ]
    }
   ],
   "source": [
    "\n",
    "# This extracts substacks for each channel and saves them in directories \"channel_0\", \"channel_1\", and \"channel_2\".\n",
    "extract_substacks(filename, output_dir=subdirs, indices={\"C\": [0, 1, 2], \"Z\": 5}, split_dimension=\"C\")\n"
   ]
  },
  {
   "cell_type": "code",
   "execution_count": 24,
   "metadata": {},
   "outputs": [],
   "source": [
    "#| hide\n",
    "import nbdev; nbdev.nbdev_export()"
   ]
  },
  {
   "cell_type": "code",
   "execution_count": null,
   "metadata": {},
   "outputs": [],
   "source": []
  }
 ],
 "metadata": {
  "kernelspec": {
   "display_name": "Python 3",
   "language": "python",
   "name": "python3"
  },
  "language_info": {
   "codemirror_mode": {
    "name": "ipython",
    "version": 3
   },
   "file_extension": ".py",
   "mimetype": "text/x-python",
   "name": "python",
   "nbconvert_exporter": "python",
   "pygments_lexer": "ipython3",
   "version": "3.11.5"
  }
 },
 "nbformat": 4,
 "nbformat_minor": 4
}
