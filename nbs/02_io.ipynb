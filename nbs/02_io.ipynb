{
 "cells": [
  {
   "cell_type": "markdown",
   "metadata": {},
   "source": [
    "# I/O\n",
    "\n",
    "> input/output management"
   ]
  },
  {
   "cell_type": "code",
   "execution_count": null,
   "metadata": {},
   "outputs": [],
   "source": [
    "#| default_exp io"
   ]
  },
  {
   "cell_type": "code",
   "execution_count": null,
   "metadata": {},
   "outputs": [],
   "source": [
    "#| hide\n",
    "from nbdev.showdoc import *"
   ]
  },
  {
   "cell_type": "code",
   "execution_count": null,
   "metadata": {},
   "outputs": [],
   "source": [
    "#| export\n",
    "from typing import Any\n",
    "\n",
    "from fastai.vision.all import *\n",
    "from fastai.data.all import *\n",
    "from torchio import ScalarImage, ToCanonical, Resample\n",
    "from aicsimageio import AICSImage\n",
    "from aicsimageio.writers.writer import Writer as writer\n",
    "import h5py\n",
    "import numpy as np\n",
    "\n",
    "from bioMONAI.core import torchTensor, torch_from_numpy, L"
   ]
  },
  {
   "cell_type": "markdown",
   "metadata": {},
   "source": [
    "---\n",
    "\n",
    "### ScalarImage\n",
    "\n",
    ">      ScalarImage (*args, **kwargs)\n",
    "\n",
    "Image whose pixel values represent scalars.\n",
    "\n",
    "See :class:`~torchio.Image` for more information."
   ]
  },
  {
   "cell_type": "markdown",
   "metadata": {},
   "source": [
    "## Image Writers"
   ]
  },
  {
   "cell_type": "code",
   "execution_count": null,
   "metadata": {},
   "outputs": [],
   "source": [
    "#| export\n",
    "\n",
    "def write_image(data, file_path, dimension_order=\"TCZYX\"):\n",
    "    \"\"\"\n",
    "    Writes an image to a file.\n",
    "\n",
    "    :param data: Image data (numpy array, tensor, or AICSImage)\n",
    "    :param file_path: Path to save the image\n",
    "    :param format: Format to save the image in (default is png)\n",
    "    \"\"\"\n",
    "    if isinstance(data, torchTensor):\n",
    "        data = data.numpy()\n",
    "    elif isinstance(data, AICSImage):\n",
    "        data = data.data\n",
    "\n",
    "    if not isinstance(data, np.ndarray):\n",
    "        raise ValueError(\"Unsupported data type. Expected numpy array, tensor, or AICSImage.\")\n",
    "\n",
    "    try:\n",
    "        # file_path = file_path + '.' + format\n",
    "        writer.save(data, file_path, dimension_order)\n",
    "        print(f\"Image successfully saved to {file_path}\")\n",
    "    except Exception as e:\n",
    "        print(f\"An error occurred while saving the image: {e}\")\n"
   ]
  },
  {
   "cell_type": "code",
   "execution_count": null,
   "metadata": {},
   "outputs": [
    {
     "name": "stdout",
     "output_type": "stream",
     "text": [
      "Image successfully saved to ./data_examples/output_from_numpy.tiff\n",
      "Image successfully saved to ./data_examples/output_from_tensor.tiff\n",
      "Image successfully saved to ./data_examples/output_from_tiff.png\n"
     ]
    }
   ],
   "source": [
    "\n",
    "# Example usage:\n",
    "numpy_array = np.random.rand(3, 100, 100)\n",
    "write_image(numpy_array, './data_examples/output_from_numpy.tiff')\n",
    "\n",
    "tensor = torch.rand(3, 100, 100)\n",
    "write_image(tensor, './data_examples/output_from_tensor.tiff')\n",
    "\n",
    "aics_image = AICSImage('./data_examples/example_tiff.tiff')\n",
    "write_image(aics_image, './data_examples/output_from_tiff.png')"
   ]
  },
  {
   "cell_type": "markdown",
   "metadata": {},
   "source": [
    "## Image Readers"
   ]
  },
  {
   "cell_type": "markdown",
   "metadata": {},
   "source": [
    "It uses helper functions such as _load_and_preprocess and _multi_sequence to load and preprocess biological images."
   ]
  },
  {
   "cell_type": "code",
   "execution_count": null,
   "metadata": {},
   "outputs": [],
   "source": [
    "#| export\n",
    "def tiff2torch(file_path: str):\n",
    "    '''\n",
    "    Load tiff into pytorch tensor\n",
    "    '''\n",
    "    import tifffile as tiff\n",
    "    \n",
    "    img = np.array(tiff.imread(file_path))\n",
    "    return torch_from_numpy(img)"
   ]
  },
  {
   "cell_type": "code",
   "execution_count": null,
   "metadata": {},
   "outputs": [],
   "source": [
    "#| export\n",
    "def string2dict(input_string:str):\n",
    "    # Create an empty dictionary\n",
    "    result_dict = {}\n",
    "\n",
    "    # Iterate over each character in the string\n",
    "    for char in input_string:\n",
    "        # Check if the character is a letter (assuming ASCII letters)\n",
    "        if char.isalpha():\n",
    "            # Assign the letter as a key and initialize its value to 0\n",
    "            result_dict[char] = None\n",
    "\n",
    "    # Now, iterate over each character again to assign numeric values\n",
    "    for i, char in enumerate(input_string):\n",
    "        if char.isdigit():\n",
    "            # Find the corresponding letter (key) for this number (value)\n",
    "            key = next((k for k, v in result_dict.items() if v is None), None)\n",
    "            if key is not None:\n",
    "                # Assign the numeric value to the found key\n",
    "                result_dict[key] = int(char)\n",
    "                \n",
    "    return result_dict"
   ]
  },
  {
   "cell_type": "code",
   "execution_count": null,
   "metadata": {},
   "outputs": [],
   "source": [
    "#| export\n",
    "def split_path(file_path, # The path to the file to split\n",
    "                   exts:(L, list)=['.ome.tiff', '.tiff', '.tif', '.png'] # List of filename extensions \n",
    "                   ):\n",
    "    img_ext = [ext for ext in exts if ext in file_path]\n",
    "    if img_ext == []:\n",
    "        return file_path, dict()\n",
    "    p = file_path.split(img_ext[0])\n",
    "    if len(p) == 1 or p[1] == '':\n",
    "        return file_path, dict()\n",
    "    else:\n",
    "        path = p[0] + img_ext[0]\n",
    "        ind_dict = string2dict(p[1])\n",
    "    return path, ind_dict"
   ]
  },
  {
   "cell_type": "code",
   "execution_count": null,
   "metadata": {},
   "outputs": [],
   "source": [
    "#| export\n",
    "class aics_image_reader():\n",
    "    def __init__(self,\n",
    "                 ind_dict=None, # Dictionary indicating the channels to load\n",
    "                ):\n",
    "        store_attr()\n",
    "\n",
    "    def __call__(self, path) -> Any:\n",
    "        return self.reader(path)\n",
    "    \n",
    "    def reader(self, \n",
    "               path, # The file path to the image             \n",
    "               ):\n",
    "\n",
    "        \"\"\"\n",
    "        Reads an image from the specified path using AICSImage library.\n",
    "\n",
    "        Parameters:\n",
    "            path (str): The file path to the image.\n",
    "\n",
    "        Returns:\n",
    "            tuple: A tuple containing the image data and its affine transformation matrix.\n",
    "                The image data is a NumPy array representing the image.\n",
    "                The affine transformation matrix is a 4x4 NumPy array.\n",
    "        \"\"\"\n",
    "\n",
    "        ind_dict = self.ind_dict\n",
    "        if ind_dict == None:\n",
    "            # parse path string\n",
    "            path, ind_dict = split_path(str(path))\n",
    "        # Read image using AICSImage library\n",
    "        image_aics = AICSImage(path, reconstruct_mosaic=False)\n",
    "            \n",
    "        # Support for tiff files    \n",
    "        path = str(path)\n",
    "        if (path[-4:]==\"tiff\" or path[-3:]==\"tif\"):\n",
    "            # Reorder for tiff files\n",
    "            data = image_aics.get_image_data(\"CZYX\", **ind_dict)  # returns 4D CZYX numpy array\n",
    "            affine = np.eye(4) \n",
    "            return data, affine\n",
    "        \n",
    "        if (path[-3:]==\"png\"):\n",
    "            # Reorder for png files\n",
    "            data = image_aics.get_image_data(\"SZYX\", **ind_dict)  # returns 4D CZYX numpy array        \n",
    "            affine = np.eye(4)         \n",
    "            return data, affine\n",
    "\n",
    "        # Convert to numpy array    \n",
    "        data = image_aics.data\n",
    "        # Remove singleton dimensions\n",
    "        data = np.squeeze(data)\n",
    "        # Create an identity affine transformation matrix\n",
    "        affine = np.eye(4)\n",
    "        # Return the image data and the affine matrix\n",
    "        return data, affine\n"
   ]
  },
  {
   "cell_type": "code",
   "execution_count": null,
   "metadata": {},
   "outputs": [
    {
     "data": {
      "text/plain": [
       "(1, 1, 512, 512)"
      ]
     },
     "execution_count": null,
     "metadata": {},
     "output_type": "execute_result"
    }
   ],
   "source": [
    "file_path = 'data_examples/example_tiff.tiff'\n",
    "test_img, _ = aics_image_reader({'Z': 0})(file_path)\n",
    "test_img.shape"
   ]
  },
  {
   "cell_type": "markdown",
   "metadata": {},
   "source": [
    "### Hierarchical Data Format"
   ]
  },
  {
   "cell_type": "code",
   "execution_count": null,
   "metadata": {},
   "outputs": [],
   "source": [
    "#| export\n",
    "def split_hdf_path(file_path, # The path to the HDF5 file to split\n",
    "                   hdf5_exts:(L, list)=['.h5','.hdf5'] # List of filename extensions \n",
    "                   ):\n",
    "    hdf5_ext = [ext for ext in hdf5_exts if ext in file_path][0]\n",
    "    if hdf5_ext == []:\n",
    "        return file_path, None, None\n",
    "    p = file_path.split(hdf5_ext)\n",
    "    if len(p) == 1 or p[1] == '':\n",
    "        return file_path, None, None\n",
    "    else:\n",
    "        path = p[0] + hdf5_ext\n",
    "        dataset, patch = p[1].split('/')[1:]\n",
    "        patch = int(patch)\n",
    "    return path, dataset, patch"
   ]
  },
  {
   "cell_type": "code",
   "execution_count": null,
   "metadata": {},
   "outputs": [],
   "source": [
    "#| export\n",
    "class hdf5_reader():\n",
    "    def __init__(self,\n",
    "                 dataset=None, # The dataset to load\n",
    "                 patch=0, # The patch to load from the dataset\n",
    "                 hdf5_exts:(L, list)=['.h5','.hdf5'], # List of filename extensions \n",
    "                ):\n",
    "        store_attr()\n",
    "\n",
    "    def __call__(self, path) -> Any:\n",
    "        return self.reader(path)\n",
    "    \n",
    "    def reader(self, \n",
    "               path, # The path to the HDF5 file to be read\n",
    "               ):\n",
    "        \"\"\"\n",
    "        Reads a *.h5 (HDF5 format) file and returns the image data along with an identity affine matrix.\n",
    "\n",
    "        Parameters:\n",
    "        path (str): The path to the file to be read.\n",
    "\n",
    "        Returns:\n",
    "        tuple: A tuple containing:\n",
    "            - data (numpy.ndarray): The image data read from the file.\n",
    "            - affine (numpy.ndarray): A 4x4 identity affine matrix.\n",
    "        \"\"\"\n",
    "        \n",
    "        # split path\n",
    "        if self.dataset == None:\n",
    "            path, dataset, patch = split_hdf_path(path, self.hdf5_exts)\n",
    "            self.dataset = dataset\n",
    "            self.patch = patch\n",
    "\n",
    "        with h5py.File(path, 'r') as file:\n",
    "                if self.dataset == None: print('List of datasets in this file: \\n',list(file.keys())); return None\n",
    "                else:\n",
    "                    data = file[self.dataset + '/' + '%d'%(self.patch)][:] \n",
    "\n",
    "        # Create a 4x4 identity affine NumpyArray\n",
    "        affine = np.eye(4)\n",
    "\n",
    "        # Return the image data and the affine matrix\n",
    "        return data, affine\n"
   ]
  },
  {
   "cell_type": "markdown",
   "metadata": {},
   "source": [
    "Images can be loaded by explicitly writing dataset name and path number..."
   ]
  },
  {
   "cell_type": "code",
   "execution_count": null,
   "metadata": {},
   "outputs": [],
   "source": [
    "from bioMONAI.visualize import plot_image\n"
   ]
  },
  {
   "cell_type": "code",
   "execution_count": null,
   "metadata": {},
   "outputs": [
    {
     "data": {
      "image/png": "[encoded data removed]",
      "text/plain": [
       "<Figure size 640x480 with 1 Axes>"
      ]
     },
     "metadata": {},
     "output_type": "display_data"
    }
   ],
   "source": [
    "file_path = './data_examples/0450_1.hdf5'\n",
    "dataset_name='clean'\n",
    "patch_num=10\n",
    "\n",
    "im , _ = hdf5_reader(dataset=dataset_name, patch=patch_num)(file_path)\n",
    "plot_image(im[0])"
   ]
  },
  {
   "cell_type": "markdown",
   "metadata": {},
   "source": [
    "... or enconding them in the path, where datasets are subfolders and patches the image files. The latter being compatible with `image_reader` syntaxis."
   ]
  },
  {
   "cell_type": "code",
   "execution_count": null,
   "metadata": {},
   "outputs": [
    {
     "data": {
      "image/png": "[encoded data removed]",
      "text/plain": [
       "<Figure size 640x480 with 1 Axes>"
      ]
     },
     "metadata": {},
     "output_type": "display_data"
    }
   ],
   "source": [
    "f = file_path + '/' + dataset_name + '/' + '%d'%(patch_num)\n",
    "im , _ = hdf5_reader()(f)\n",
    "plot_image(im[0])"
   ]
  },
  {
   "cell_type": "markdown",
   "metadata": {},
   "source": [
    "### Preprocessing"
   ]
  },
  {
   "cell_type": "code",
   "execution_count": null,
   "metadata": {},
   "outputs": [],
   "source": [
    "#| export\n",
    "\n",
    "def _preprocess(obj, # The object to preprocess\n",
    "                reorder, # Whether to reorder the object\n",
    "                resample # Whether to resample the object\n",
    "               ):\n",
    "    \"\"\"\n",
    "    Preprocesses the given object.\n",
    "\n",
    "    Args:\n",
    "        obj: The object to preprocess.\n",
    "        reorder: Whether to reorder the object.\n",
    "        resample: Whether to resample the object.\n",
    "\n",
    "    Returns:\n",
    "        The preprocessed object and its original size.\n",
    "    \"\"\"\n",
    "    if reorder:\n",
    "        transform = ToCanonical()\n",
    "        obj = transform(obj)\n",
    "    \n",
    "    original_size = obj.shape[1:]\n",
    "\n",
    "    if resample and not all(np.isclose(obj.spacing, resample)):\n",
    "        transform = Resample(resample)\n",
    "        obj = transform(obj)\n",
    "\n",
    "    return obj, original_size\n"
   ]
  },
  {
   "cell_type": "markdown",
   "metadata": {},
   "source": [
    "### Load and preprocess"
   ]
  },
  {
   "cell_type": "code",
   "execution_count": null,
   "metadata": {},
   "outputs": [],
   "source": [
    "#| export\n",
    "def _load_and_preprocess(file_path, # Image file path\n",
    "                         reorder=False, # Whether to reorder data for canonical (RAS+) orientation\n",
    "                         resample=False, # Whether to resample image to different voxel sizes and dimensions\n",
    "                         reader=None # Image reader\n",
    "                        ):\n",
    "    \"\"\"\n",
    "    Helper function to load and preprocess an image.\n",
    "\n",
    "    Args:\n",
    "        file_path: Image file path.\n",
    "        reorder: Whether to reorder data for canonical (RAS+) orientation.\n",
    "        resample: Whether to resample image to different voxel sizes and dimensions.\n",
    "        dtype: Desired datatype for output.\n",
    "\n",
    "    Returns:\n",
    "        tuple: Original image, preprocessed image, and its original size.\n",
    "    \"\"\"\n",
    "    # Check if the file is a .npy file\n",
    "    if str(file_path).endswith('.npy'):\n",
    "        # Load the numpy array\n",
    "        img_data = np.load(file_path)\n",
    "        \n",
    "        # Convert the numpy array \n",
    "        org_img = ScalarImage(tensor=img_data)\n",
    "        org_size = img_data.shape\n",
    "        \n",
    "        # Apply preprocessing (resampling or reordering) if necessary\n",
    "        input_img, org_size = _preprocess(org_img, reorder, resample)\n",
    "        \n",
    "        return org_img, input_img, org_size\n",
    "\n",
    "    # If the reader is not specified, choose one based on the file extension\n",
    "    if reader is None:\n",
    "        hdf5_ext = [ext for ext in ['.h5','.hdf5'] if ext in str(file_path)]\n",
    "        if hdf5_ext:\n",
    "            path, dataset, patch = split_hdf_path(file_path, hdf5_exts=hdf5_ext)\n",
    "            reader = hdf5_reader(dataset=dataset, patch=patch, hdf5_exts=hdf5_ext)\n",
    "            file_path = path\n",
    "        else:\n",
    "            file_path, ind_dict = split_path(str(file_path))\n",
    "            reader = aics_image_reader(ind_dict)\n",
    "    \n",
    "    # Load the image using the specified reader\n",
    "    org_img = ScalarImage(file_path, reader=reader)\n",
    "    input_img, org_size = _preprocess(org_img, reorder, resample)\n",
    "    \n",
    "    return org_img, input_img, org_size\n"
   ]
  },
  {
   "cell_type": "code",
   "execution_count": null,
   "metadata": {},
   "outputs": [],
   "source": [
    "org_img, _, _ = _load_and_preprocess(f)\n",
    "\n",
    "test_eq(org_img.data[0].shape, im.shape)"
   ]
  },
  {
   "cell_type": "markdown",
   "metadata": {},
   "source": [
    "### Read multichannel data"
   ]
  },
  {
   "cell_type": "code",
   "execution_count": null,
   "metadata": {},
   "outputs": [],
   "source": [
    "#| export\n",
    "def _multi_sequence(image_paths: (L, list), # List of image paths (e.g., T1, T2, T1CE, DWI)\n",
    "                   dtype=torchTensor, # Desired datatype for output\n",
    "                   only_tensor: bool = True, # Whether to return only image tensor\n",
    "                   squeeze: bool = False, # \n",
    "                   **kwargs, \n",
    "                  ):\n",
    "    \"\"\"\n",
    "    Load and preprocess multisequence data.\n",
    "\n",
    "    Args:\n",
    "        image_paths: List of image paths (e.g., T1, T2, T1CE, DWI).\n",
    "        reorder: Whether to reorder data for canonical (RAS+) orientation.\n",
    "        resample: Whether to resample image to different voxel sizes and dimensions.\n",
    "        dtype: Desired datatype for output.\n",
    "        only_tensor: Whether to return only image tensor.\n",
    "        squeeze: Whether to squeeze or not the image\n",
    "\n",
    "    Returns:\n",
    "        torchTensor: A stacked 4D tensor, if `only_tensor` is True.\n",
    "        tuple: Original image, preprocessed image, original size, if `only_tensor` is False.\n",
    "    \"\"\"\n",
    "    image_data = [_load_and_preprocess(image, **kwargs) for image in image_paths]\n",
    "    org_img, input_img, org_size = image_data[-1]\n",
    "\n",
    "    tensor = torch.stack([img.data[0] for _, img, _ in image_data], dim=0)\n",
    "\n",
    "    if only_tensor:     \n",
    "        if squeeze:\n",
    "            return torch.squeeze(dtype(tensor))\n",
    "        return dtype(tensor) \n",
    "\n",
    "    input_img.set_data(tensor)\n",
    "    return org_img, input_img, org_size"
   ]
  },
  {
   "cell_type": "code",
   "execution_count": null,
   "metadata": {},
   "outputs": [],
   "source": [
    "t = _multi_sequence([f], only_tensor=True);\n",
    "test_eq(t[0].shape, im.shape)\n"
   ]
  },
  {
   "cell_type": "code",
   "execution_count": null,
   "metadata": {},
   "outputs": [
    {
     "data": {
      "text/plain": [
       "torch.Size([1, 1, 96, 96])"
      ]
     },
     "execution_count": null,
     "metadata": {},
     "output_type": "execute_result"
    }
   ],
   "source": [
    "t.shape"
   ]
  },
  {
   "cell_type": "markdown",
   "metadata": {},
   "source": [
    "### Image reader"
   ]
  },
  {
   "cell_type": "code",
   "execution_count": null,
   "metadata": {},
   "outputs": [],
   "source": [
    "#| export\n",
    "\n",
    "def image_reader(file_path: (str, Path, L, list), # Path to the image\n",
    "               dtype=torchTensor, # Datatype for the return value. Defaults to torchTensor\n",
    "               only_tensor: bool = True, # To return only an image tensor\n",
    "               **kwargs,\n",
    "              ):\n",
    "    \"\"\"Loads and preprocesses a medical image.\n",
    "\n",
    "    Args:\n",
    "        file_path: Path to the image. Can be a string, Path object or a list.\n",
    "        dtype: Datatype for the return value. Defaults to torchTensor.\n",
    "        reorder: Whether to reorder the data to be closest to canonical \n",
    "            (RAS+) orientation. Defaults to False.\n",
    "        resample: Whether to resample image to different voxel sizes and \n",
    "            image dimensions. Defaults to None.\n",
    "        only_tensor: To return only an image tensor. Defaults to True.\n",
    "\n",
    "    Returns:\n",
    "        The preprocessed image. Returns only the image tensor if \n",
    "        only_tensor is True, otherwise returns original image, \n",
    "        preprocessed image, and original size.\n",
    "    \"\"\"\n",
    "    # if isinstance(file_path, str) and ';' in file_path:\n",
    "    #     return _multi_channel(\n",
    "    #         file_path.split(';'), reorder, resample, dtype, only_tensor)\n",
    "    \n",
    "    if isinstance(file_path, (L, list)):\n",
    "        return _multi_sequence(file_path, dtype, only_tensor, **kwargs)\n",
    "\n",
    "    org_img, input_img, org_size = _load_and_preprocess(file_path, **kwargs)\n",
    "\n",
    "    if only_tensor:\n",
    "        return dtype(input_img.data.type(torch.float))\n",
    "\n",
    "    return org_img, input_img, org_size\n"
   ]
  },
  {
   "cell_type": "code",
   "execution_count": null,
   "metadata": {},
   "outputs": [],
   "source": [
    "test_eq(image_reader(f)[0].shape, im.shape)"
   ]
  },
  {
   "cell_type": "code",
   "execution_count": null,
   "metadata": {},
   "outputs": [],
   "source": [
    "#| hide\n",
    "import nbdev; nbdev.nbdev_export()"
   ]
  }
 ],
 "metadata": {
  "kernelspec": {
   "display_name": "python3",
   "language": "python",
   "name": "python3"
  }
 },
 "nbformat": 4,
 "nbformat_minor": 4
}
