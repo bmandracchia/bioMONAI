{
 "cells": [
  {
   "cell_type": "markdown",
   "metadata": {},
   "source": [
    "# Core\n",
    "\n",
    "> bioMONAI core functions\n"
   ]
  },
  {
   "cell_type": "code",
   "execution_count": null,
   "metadata": {},
   "outputs": [],
   "source": [
    "#| default_exp core"
   ]
  },
  {
   "cell_type": "code",
   "execution_count": null,
   "metadata": {},
   "outputs": [],
   "source": [
    "#| hide\n",
    "from nbdev.showdoc import *"
   ]
  },
  {
   "cell_type": "markdown",
   "metadata": {},
   "source": [
    "## Imports"
   ]
  },
  {
   "cell_type": "markdown",
   "metadata": {},
   "source": [
    "This section includes essential imports used throughout the core library, providing foundational tools for data handling, model training, and evaluation. Key imports cover areas such as data blocks, data loaders, custom loss functions, optimizers, callbacks, and logging. \n"
   ]
  },
  {
   "cell_type": "code",
   "execution_count": null,
   "metadata": {},
   "outputs": [],
   "source": [
    "#| export\n",
    "import numpy as np\n",
    "import matplotlib.pyplot as plt\n",
    "import pandas as pd\n",
    "from scipy.stats import gaussian_kde\n",
    "from matplotlib.colors import LinearSegmentedColormap\n",
    "\n",
    "from torch import Tensor as torchTensor\n",
    "from torch import tensor\n",
    "from monai.data import MetaTensor\n",
    "from monai.utils import set_determinism\n",
    "\n",
    "import torch.nn.functional as F\n",
    "from torch.nn.init import kaiming_normal_\n",
    "\n",
    "from random import randint\n",
    "\n",
    "from skimage import util\n",
    "from skimage.data import cells3d"
   ]
  },
  {
   "cell_type": "code",
   "execution_count": null,
   "metadata": {},
   "outputs": [],
   "source": [
    "#| export\n",
    "from torch import squeeze as torchsqueeze, max as torchmax, from_numpy as torch_from_numpy, device as torch_device\n",
    "from torch.cuda import is_available as is_cuda_available"
   ]
  },
  {
   "cell_type": "code",
   "execution_count": null,
   "metadata": {},
   "outputs": [],
   "source": [
    "#| export\n",
    "from collections.abc import MutableSequence\n",
    "from typing import MutableSequence\n",
    "    \n",
    "from fastai.callback.core import Callback\n",
    "from fastai.data.all import DataLoaders, Path, trainable_params, delegates, hasattrs, Path, List, L, typedispatch, Normalize\n",
    "from fastai.optimizer import Adam, OptimWrapper, Optimizer\n",
    "from fastai.vision.all import BypassNewMeta, DisplayedTransform, store_attr, DataBlock, Learner, ShowGraphCallback, CSVLogger, Any, minimum, steep, valley, slide, create_vision_model, create_timm_model, get_c, default_split, model_meta, ifnone, ClassificationInterpretation\n",
    "from fastcore.script import risinstance"
   ]
  },
  {
   "cell_type": "code",
   "execution_count": null,
   "metadata": {},
   "outputs": [
    {
     "data": {
      "text/markdown": [
       "---\n",
       "\n",
       "[source](https://github.com/fastai/fastai/blob/master/fastai/data/block.py#LNone){target=\"_blank\" style=\"float:right; font-size:smaller\"}\n",
       "\n",
       "### DataBlock\n",
       "\n",
       ">      DataBlock (blocks:list=None, dl_type:TfmdDL=None, getters:list=None,\n",
       ">                 n_inp:int=None, item_tfms:list=None, batch_tfms:list=None,\n",
       ">                 get_items=None, splitter=None, get_y=None, get_x=None)\n",
       "\n",
       "*Generic container to quickly build `Datasets` and `DataLoaders`.*\n",
       "\n",
       "|    | **Type** | **Default** | **Details** |\n",
       "| -- | -------- | ----------- | ----------- |\n",
       "| blocks | list | None | One or more `TransformBlock`s |\n",
       "| dl_type | TfmdDL | None | Task specific `TfmdDL`, defaults to `block`'s dl_type or`TfmdDL` |\n",
       "| getters | list | None | Getter functions applied to results of `get_items` |\n",
       "| n_inp | int | None | Number of inputs |\n",
       "| item_tfms | list | None | `ItemTransform`s, applied on an item |\n",
       "| batch_tfms | list | None | `Transform`s or `RandTransform`s, applied by batch |\n",
       "| get_items | NoneType | None |  |\n",
       "| splitter | NoneType | None |  |\n",
       "| get_y | NoneType | None |  |\n",
       "| get_x | NoneType | None |  |"
      ],
      "text/plain": [
       "---\n",
       "\n",
       "[source](https://github.com/fastai/fastai/blob/master/fastai/data/block.py#LNone){target=\"_blank\" style=\"float:right; font-size:smaller\"}\n",
       "\n",
       "### DataBlock\n",
       "\n",
       ">      DataBlock (blocks:list=None, dl_type:TfmdDL=None, getters:list=None,\n",
       ">                 n_inp:int=None, item_tfms:list=None, batch_tfms:list=None,\n",
       ">                 get_items=None, splitter=None, get_y=None, get_x=None)\n",
       "\n",
       "*Generic container to quickly build `Datasets` and `DataLoaders`.*\n",
       "\n",
       "|    | **Type** | **Default** | **Details** |\n",
       "| -- | -------- | ----------- | ----------- |\n",
       "| blocks | list | None | One or more `TransformBlock`s |\n",
       "| dl_type | TfmdDL | None | Task specific `TfmdDL`, defaults to `block`'s dl_type or`TfmdDL` |\n",
       "| getters | list | None | Getter functions applied to results of `get_items` |\n",
       "| n_inp | int | None | Number of inputs |\n",
       "| item_tfms | list | None | `ItemTransform`s, applied on an item |\n",
       "| batch_tfms | list | None | `Transform`s or `RandTransform`s, applied by batch |\n",
       "| get_items | NoneType | None |  |\n",
       "| splitter | NoneType | None |  |\n",
       "| get_y | NoneType | None |  |\n",
       "| get_x | NoneType | None |  |"
      ]
     },
     "execution_count": null,
     "metadata": {},
     "output_type": "execute_result"
    }
   ],
   "source": [
    "show_doc(DataBlock)\n"
   ]
  },
  {
   "cell_type": "markdown",
   "metadata": {},
   "source": [
    "The `DataBlock` class acts as a container for creating data processing pipelines, allowing easy customization of datasets and data loaders. It enables the definition of item transformations, batch transformations, and dataset split methods, streamlining data preprocessing and loading across various stages of model training.\n"
   ]
  },
  {
   "cell_type": "code",
   "execution_count": null,
   "metadata": {},
   "outputs": [
    {
     "data": {
      "text/markdown": [
       "---\n",
       "\n",
       "[source](https://github.com/fastai/fastai/blob/master/fastai/data/core.py#LNone){target=\"_blank\" style=\"float:right; font-size:smaller\"}\n",
       "\n",
       "### DataLoaders\n",
       "\n",
       ">      DataLoaders (*loaders, path:str|pathlib.Path='.', device=None)\n",
       "\n",
       "*Basic wrapper around several `DataLoader`s.*\n",
       "\n",
       "|    | **Type** | **Default** | **Details** |\n",
       "| -- | -------- | ----------- | ----------- |\n",
       "| loaders | VAR_POSITIONAL |  | `DataLoader` objects to wrap |\n",
       "| path | str \\| pathlib.Path | . | Path to store export objects |\n",
       "| device | NoneType | None | Device to put `DataLoaders` |"
      ],
      "text/plain": [
       "---\n",
       "\n",
       "[source](https://github.com/fastai/fastai/blob/master/fastai/data/core.py#LNone){target=\"_blank\" style=\"float:right; font-size:smaller\"}\n",
       "\n",
       "### DataLoaders\n",
       "\n",
       ">      DataLoaders (*loaders, path:str|pathlib.Path='.', device=None)\n",
       "\n",
       "*Basic wrapper around several `DataLoader`s.*\n",
       "\n",
       "|    | **Type** | **Default** | **Details** |\n",
       "| -- | -------- | ----------- | ----------- |\n",
       "| loaders | VAR_POSITIONAL |  | `DataLoader` objects to wrap |\n",
       "| path | str \\| pathlib.Path | . | Path to store export objects |\n",
       "| device | NoneType | None | Device to put `DataLoaders` |"
      ]
     },
     "execution_count": null,
     "metadata": {},
     "output_type": "execute_result"
    }
   ],
   "source": [
    "show_doc(DataLoaders)\n"
   ]
  },
  {
   "cell_type": "markdown",
   "metadata": {},
   "source": [
    "The `DataLoaders` class is a container for managing training and validation datasets. This class wraps one or more `DataLoader` instances, ensuring seamless data management and transfer across devices (CPU or GPU) for efficient training and evaluation.\n"
   ]
  },
  {
   "cell_type": "code",
   "execution_count": null,
   "metadata": {},
   "outputs": [
    {
     "data": {
      "text/markdown": [
       "---\n",
       "\n",
       "[source](https://github.com/fastai/fastai/blob/master/fastai/learner.py#LNone){target=\"_blank\" style=\"float:right; font-size:smaller\"}\n",
       "\n",
       "### Learner\n",
       "\n",
       "\n",
       "\n",
       "*Group together a `model`, some `dls` and a `loss_func` to handle training*"
      ],
      "text/plain": [
       "---\n",
       "\n",
       "[source](https://github.com/fastai/fastai/blob/master/fastai/learner.py#LNone){target=\"_blank\" style=\"float:right; font-size:smaller\"}\n",
       "\n",
       "### Learner\n",
       "\n",
       "\n",
       "\n",
       "*Group together a `model`, some `dls` and a `loss_func` to handle training*"
      ]
     },
     "execution_count": null,
     "metadata": {},
     "output_type": "execute_result"
    }
   ],
   "source": [
    "show_doc(Learner)\n"
   ]
  },
  {
   "cell_type": "markdown",
   "metadata": {},
   "source": [
    "The `Learner` class is the main interface for training machine learning models, encapsulating the model, data, loss function, optimizer, and training metrics. It simplifies the training process by providing built-in functionality for model evaluation, hyperparameter tuning, and training loop customization, allowing you to focus on model optimization.\n"
   ]
  },
  {
   "cell_type": "code",
   "execution_count": null,
   "metadata": {},
   "outputs": [
    {
     "data": {
      "text/markdown": [
       "---\n",
       "\n",
       "[source](https://github.com/fastai/fastai/blob/master/fastai/callback/progress.py#LNone){target=\"_blank\" style=\"float:right; font-size:smaller\"}\n",
       "\n",
       "### ShowGraphCallback\n",
       "\n",
       ">      ShowGraphCallback (after_create=None, before_fit=None, before_epoch=None,\n",
       ">                         before_train=None, before_batch=None, after_pred=None,\n",
       ">                         after_loss=None, before_backward=None,\n",
       ">                         after_cancel_backward=None, after_backward=None,\n",
       ">                         before_step=None, after_cancel_step=None,\n",
       ">                         after_step=None, after_cancel_batch=None,\n",
       ">                         after_batch=None, after_cancel_train=None,\n",
       ">                         after_train=None, before_validate=None,\n",
       ">                         after_cancel_validate=None, after_validate=None,\n",
       ">                         after_cancel_epoch=None, after_epoch=None,\n",
       ">                         after_cancel_fit=None, after_fit=None)\n",
       "\n",
       "*Update a graph of training and validation loss*"
      ],
      "text/plain": [
       "---\n",
       "\n",
       "[source](https://github.com/fastai/fastai/blob/master/fastai/callback/progress.py#LNone){target=\"_blank\" style=\"float:right; font-size:smaller\"}\n",
       "\n",
       "### ShowGraphCallback\n",
       "\n",
       ">      ShowGraphCallback (after_create=None, before_fit=None, before_epoch=None,\n",
       ">                         before_train=None, before_batch=None, after_pred=None,\n",
       ">                         after_loss=None, before_backward=None,\n",
       ">                         after_cancel_backward=None, after_backward=None,\n",
       ">                         before_step=None, after_cancel_step=None,\n",
       ">                         after_step=None, after_cancel_batch=None,\n",
       ">                         after_batch=None, after_cancel_train=None,\n",
       ">                         after_train=None, before_validate=None,\n",
       ">                         after_cancel_validate=None, after_validate=None,\n",
       ">                         after_cancel_epoch=None, after_epoch=None,\n",
       ">                         after_cancel_fit=None, after_fit=None)\n",
       "\n",
       "*Update a graph of training and validation loss*"
      ]
     },
     "execution_count": null,
     "metadata": {},
     "output_type": "execute_result"
    }
   ],
   "source": [
    "show_doc(ShowGraphCallback)\n"
   ]
  },
  {
   "cell_type": "markdown",
   "metadata": {},
   "source": [
    "The `ShowGraphCallback` is a convenient callback for visualizing training progress. By plotting the training and validation loss, it helps users monitor convergence and performance, making it easy to assess if the model requires adjustments in learning rate, architecture, or data handling.\n"
   ]
  },
  {
   "cell_type": "code",
   "execution_count": null,
   "metadata": {},
   "outputs": [
    {
     "data": {
      "text/markdown": [
       "---\n",
       "\n",
       "[source](https://github.com/fastai/fastai/blob/master/fastai/callback/progress.py#LNone){target=\"_blank\" style=\"float:right; font-size:smaller\"}\n",
       "\n",
       "### CSVLogger\n",
       "\n",
       ">      CSVLogger (fname='history.csv', append=False)\n",
       "\n",
       "*Log the results displayed in `learn.path/fname`*"
      ],
      "text/plain": [
       "---\n",
       "\n",
       "[source](https://github.com/fastai/fastai/blob/master/fastai/callback/progress.py#LNone){target=\"_blank\" style=\"float:right; font-size:smaller\"}\n",
       "\n",
       "### CSVLogger\n",
       "\n",
       ">      CSVLogger (fname='history.csv', append=False)\n",
       "\n",
       "*Log the results displayed in `learn.path/fname`*"
      ]
     },
     "execution_count": null,
     "metadata": {},
     "output_type": "execute_result"
    }
   ],
   "source": [
    "show_doc(CSVLogger)"
   ]
  },
  {
   "cell_type": "markdown",
   "metadata": {},
   "source": [
    "The `CSVLogger` is a tool for logging model training metrics to a CSV file, offering a permanent record of training history. This feature is especially useful for long-term experiments and fine-tuning, allowing you to track and analyze model performance over time.\n"
   ]
  },
  {
   "cell_type": "code",
   "execution_count": null,
   "metadata": {},
   "outputs": [
    {
     "data": {
      "text/markdown": [
       "---\n",
       "\n",
       "### cells3d\n",
       "\n",
       ">      cells3d ()\n",
       "\n",
       "*3D fluorescence microscopy image of cells.\n",
       "\n",
       "The returned data is a 3D multichannel array with dimensions provided in\n",
       "``(z, c, y, x)`` order. Each voxel has a size of ``(0.29 0.26 0.26)``\n",
       "micrometer. Channel 0 contains cell membranes, channel 1 contains nuclei.*"
      ],
      "text/plain": [
       "---\n",
       "\n",
       "### cells3d\n",
       "\n",
       ">      cells3d ()\n",
       "\n",
       "*3D fluorescence microscopy image of cells.\n",
       "\n",
       "The returned data is a 3D multichannel array with dimensions provided in\n",
       "``(z, c, y, x)`` order. Each voxel has a size of ``(0.29 0.26 0.26)``\n",
       "micrometer. Channel 0 contains cell membranes, channel 1 contains nuclei.*"
      ]
     },
     "execution_count": null,
     "metadata": {},
     "output_type": "execute_result"
    }
   ],
   "source": [
    "show_doc(cells3d)"
   ]
  },
  {
   "cell_type": "markdown",
   "metadata": {},
   "source": [
    "The `cells3d` function returns a sample 3D fluorescence microscopy image. This is a valuable test image for demonstration and analysis, consisting of both cell membrane and nucleus channels. It can serve as a default dataset for evaluating and benchmarking new models and transformations.\n"
   ]
  },
  {
   "cell_type": "markdown",
   "metadata": {},
   "source": [
    "## Engine"
   ]
  },
  {
   "cell_type": "markdown",
   "metadata": {},
   "source": [
    "The engine module provides advanced functionalities for model training, including configurable training loops and evaluation functions tailored for bioinformatics applications.\n"
   ]
  },
  {
   "cell_type": "code",
   "execution_count": null,
   "metadata": {},
   "outputs": [],
   "source": [
    "#| export\n",
    "class fastTrainer(Learner):\n",
    "    \"\"\"\n",
    "    A custom implementation of the FastAI Learner class for training models in bioinformatics applications.\n",
    "\n",
    "    \"\"\"\n",
    "    \n",
    "    def __init__(self, \n",
    "                 dataloaders: DataLoaders, # The DataLoader objects containing training and validation datasets.\n",
    "                 model: callable, # A callable model that will be trained on the dataset.\n",
    "                 loss_fn: Any | None = None, # The loss function to optimize during training. If None, defaults to a suitable default.\n",
    "                 optimizer: Optimizer | OptimWrapper = Adam, # The optimizer function to use. Defaults to Adam if not specified.\n",
    "                 lr: float | slice = 1e-3, # Learning rate for the optimizer. Can be a float or a slice object for learning rate scheduling.\n",
    "                 splitter: callable = trainable_params, # \n",
    "                 callbacks: Callback | MutableSequence | None = None, # A callable that determines which parameters of the model should be updated during training.\n",
    "                 metrics: Any | MutableSequence | None = None, # Optional list of callback functions to customize training behavior.\n",
    "                 csv_log: bool = False, # Metrics to evaluate the performance of the model during training.\n",
    "                 show_graph: bool = True, # Whether to log training history to a CSV file. If True, logs will be appended to 'history.csv'.\n",
    "                 show_summary: bool = False, # The base directory where models are saved or loaded from. Defaults to None.\n",
    "                 find_lr: bool = False, # Subdirectory within the base path where trained models are stored. Default is 'models'.\n",
    "                 find_lr_fn = valley, # Weight decay factor for optimization. Defaults to None.\n",
    "                 path: str | Path | None = None, # Whether to apply weight decay to batch normalization and bias parameters.\n",
    "                 model_dir: str | Path = 'models', # Whether to update the batch normalization statistics during training.\n",
    "                 wd: float | int | None = None, \n",
    "                 wd_bn_bias: bool = False, \n",
    "                 train_bn: bool = True, \n",
    "                 moms: tuple = (0.95,0.85,0.95), # Tuple of tuples representing the momentum values for different layers in the model. Defaults to FastAI's default settings if not specified.\n",
    "                 default_cbs: bool = True, # Automatically include default callbacks such as ShowGraphCallback and CSVLogger.\n",
    "                 ):\n",
    "        cbs = callbacks if callbacks is not None else []  # Ensure cbs is a list\n",
    "        if default_cbs:\n",
    "            if show_graph:\n",
    "                cbs.append(ShowGraphCallback())\n",
    "            if csv_log:\n",
    "                cbs.append(CSVLogger(fname='history.csv', append=False))\n",
    "        \n",
    "        super().__init__(dataloaders, model, loss_fn, optimizer, lr, splitter, cbs, metrics, path, model_dir, wd, wd_bn_bias, train_bn, moms)\n",
    "        \n",
    "        if show_summary:\n",
    "                print(self.summary())\n",
    "        if find_lr:\n",
    "                lr = self.lr_find(suggest_funcs=find_lr_fn)\n",
    "                self.lr = float('%.1g'%(lr))\n",
    "                print('Inferred learning rate: ', self.lr)"
   ]
  },
  {
   "cell_type": "code",
   "execution_count": null,
   "metadata": {},
   "outputs": [],
   "source": [
    "#| export\n",
    "def _add_norm(dls, meta, pretrained, n_in=3):\n",
    "    if not pretrained: return\n",
    "    stats = meta.get('stats')\n",
    "    if stats is None: return\n",
    "    if n_in != len(stats[0]): return\n",
    "    if not dls.after_batch.fs.filter(risinstance(Normalize)):\n",
    "        dls.add_tfms([Normalize.from_stats(*stats)],'after_batch')\n",
    "\n",
    "def _timm_norm(dls, cfg, pretrained, n_in=3):\n",
    "    if not pretrained: return\n",
    "    if n_in != len(cfg['mean']): return\n",
    "    if not dls.after_batch.fs.filter(risinstance(Normalize)):\n",
    "        tfm = Normalize.from_stats(cfg['mean'],cfg['std'])\n",
    "        dls.add_tfms([tfm],'after_batch')"
   ]
  },
  {
   "cell_type": "code",
   "execution_count": null,
   "metadata": {},
   "outputs": [],
   "source": [
    "#| export\n",
    "@delegates(create_vision_model)\n",
    "def visionTrainer(  dataloaders: DataLoaders, # The DataLoader objects containing training and validation datasets.\n",
    "                    model: callable, # A callable model that will be trained on the dataset.\n",
    "                    normalize=True, \n",
    "                    n_out=None, \n",
    "                    pretrained=True, \n",
    "                    weights=None,\n",
    "                    # Trainer args\n",
    "                    loss_fn: Any | None = None, # The loss function to optimize during training. If None, defaults to a suitable default.\n",
    "                    optimizer: Optimizer | OptimWrapper = Adam, # The optimizer function to use. Defaults to Adam if not specified.\n",
    "                    lr: float | slice = 1e-3, # Learning rate for the optimizer. Can be a float or a slice object for learning rate scheduling.\n",
    "                    splitter: callable = trainable_params, # \n",
    "                    callbacks: Callback | MutableSequence | None = None, # A callable that determines which parameters of the model should be updated during training.\n",
    "                    metrics: Any | MutableSequence | None = None, # Optional list of callback functions to customize training behavior.\n",
    "                    csv_log: bool = False, # Metrics to evaluate the performance of the model during training.\n",
    "                    show_graph: bool = True, # Whether to log training history to a CSV file. If True, logs will be appended to 'history.csv'.\n",
    "                    show_summary: bool = False, # The base directory where models are saved or loaded from. Defaults to None.\n",
    "                    find_lr: bool = False, # Subdirectory within the base path where trained models are stored. Default is 'models'.\n",
    "                    find_lr_fn = valley, # Weight decay factor for optimization. Defaults to None.\n",
    "                    path: str | Path | None = None, # Whether to apply weight decay to batch normalization and bias parameters.\n",
    "                    model_dir: str | Path = 'models', # Whether to update the batch normalization statistics during training.\n",
    "                    wd: float | int | None = None, \n",
    "                    wd_bn_bias: bool = False, \n",
    "                    train_bn: bool = True, \n",
    "                    moms: tuple = (0.95,0.85,0.95), # Tuple of tuples representing the momentum values for different layers in the model. Defaults to FastAI's default settings if not specified.\n",
    "                    default_cbs: bool = True, # Automatically include default callbacks such as ShowGraphCallback and CSVLogger.\n",
    "                    # model & head args\n",
    "                    cut=None, \n",
    "                    init=kaiming_normal_, \n",
    "                    custom_head=None, \n",
    "                    concat_pool=True, \n",
    "                    pool=True,\n",
    "                    lin_ftrs=None, \n",
    "                    ps=0.5, \n",
    "                    first_bn=True, \n",
    "                    bn_final=False, \n",
    "                    lin_first=False, \n",
    "                    y_range=None, \n",
    "                    **kwargs):\n",
    "    \"Build a vision trainer from `dataloaders` and `model`\"\n",
    "    if n_out is None: n_out = get_c(dataloaders)\n",
    "    assert n_out, \"`n_out` is not defined, and could not be inferred from data, set `dataloaders.c` or pass `n_out`\"\n",
    "    meta = model_meta.get(model, {'cut':cut, 'split':default_split})\n",
    "    model_args = dict(init=init, custom_head=custom_head, concat_pool=concat_pool, pool=pool, lin_ftrs=lin_ftrs, ps=ps,\n",
    "                      first_bn=first_bn, bn_final=bn_final, lin_first=lin_first, y_range=y_range, **kwargs)\n",
    "    n_in = kwargs['n_in'] if 'n_in' in kwargs else 3\n",
    "    if isinstance(model, str):\n",
    "        model,cfg = create_timm_model(model, n_out, default_split, pretrained, **model_args)\n",
    "        if normalize: _timm_norm(dataloaders, cfg, pretrained, n_in)\n",
    "    else:\n",
    "        if normalize: _add_norm(dataloaders, meta, pretrained, n_in)\n",
    "        model = create_vision_model(model, n_out, pretrained=pretrained, weights=weights, **model_args)\n",
    "\n",
    "    splitter = ifnone(splitter, meta['split'])\n",
    "    trainer = fastTrainer(dataloaders, model, loss_fn=loss_fn, optimizer=optimizer, lr=lr, splitter=splitter, callbacks=callbacks, csv_log=csv_log, \n",
    "                        show_graph=show_graph, show_summary=show_summary, find_lr=find_lr, find_lr_fn=find_lr_fn, metrics=metrics, path=path, \n",
    "                        model_dir=model_dir, wd=wd, wd_bn_bias=wd_bn_bias, train_bn=train_bn, moms=moms, default_cbs=default_cbs)\n",
    "    if pretrained: trainer.freeze()\n",
    "    # keep track of args for loggers\n",
    "    store_attr('model,normalize,n_out,pretrained', self=trainer, **kwargs)\n",
    "    return trainer"
   ]
  },
  {
   "cell_type": "markdown",
   "metadata": {},
   "source": [
    "## Evaluation"
   ]
  },
  {
   "cell_type": "code",
   "execution_count": null,
   "metadata": {},
   "outputs": [],
   "source": [
    "#| export\n",
    "def compute_losses(predictions, targets, loss_fn):\n",
    "    \"\"\"\n",
    "    Compute the loss for each prediction-target pair.\n",
    "    \"\"\"\n",
    "    return [loss_fn(p.unsqueeze(0), t.unsqueeze(0)).item() for p, t in zip(predictions, targets)]\n",
    "\n",
    "\n",
    "def compute_metric(predictions, targets, metric_fn):\n",
    "    \"\"\"\n",
    "    Compute the metric for each prediction-target pair.\n",
    "    Handles cases where metric_fn has or does not have a 'func' attribute.\n",
    "    \"\"\"\n",
    "    # Get the actual function to call (either metric_fn.func or metric_fn itself)\n",
    "    metric_func = getattr(metric_fn, 'func', metric_fn)\n",
    "    \n",
    "    return [metric_func(p.unsqueeze(0), t.unsqueeze(0)).item() for p, t in zip(predictions, targets)]\n",
    "\n",
    "\n",
    "def calculate_statistics(data):\n",
    "    \"\"\"\n",
    "    Calculate key statistics for the data.\n",
    "    \"\"\"\n",
    "    return {\n",
    "        \"Mean\": np.mean(data),\n",
    "        \"Median\": np.median(data),\n",
    "        \"Standard Deviation\": np.std(data),\n",
    "        \"Min\": np.min(data),\n",
    "        \"Max\": np.max(data),\n",
    "        \"Q1\": np.percentile(data, 25),\n",
    "        \"Q3\": np.percentile(data, 75),\n",
    "    }\n",
    "\n",
    "\n",
    "def format_sig(value):\n",
    "    \"\"\"\n",
    "    Format numbers with two significant digits.\n",
    "    \"\"\"\n",
    "    if value == 0:\n",
    "        return \"0\"\n",
    "    elif abs(value) < 0.01 or abs(value) > 100:\n",
    "        return f\"{value:.2e}\"  # 2 significant digits in scientific notation\n",
    "    else:\n",
    "        return f\"{value:.2g}\"  # Standard notation with 2 significant figures\n",
    "\n",
    "\n",
    "def plot_histogram_and_kde(data, stats, bw_method=0.3, fn_name=''):\n",
    "    \"\"\"\n",
    "    Plot the histogram and KDE of the data with key statistics marked.\n",
    "    \"\"\"\n",
    "    kde = gaussian_kde(data, bw_method=bw_method)\n",
    "    x = np.linspace(min(data), max(data), 1000)\n",
    "    y = kde(x)\n",
    "\n",
    "    gauss_color = 'lightslategrey'\n",
    "    plt.figure(figsize=(8, 6))\n",
    "    plt.hist(data, bins=30, density=True, color='darkgray', edgecolor='black', alpha=0.5)\n",
    "    plt.plot(x, y, color=gauss_color, lw=2)\n",
    "    plt.fill_between(x, y, color=gauss_color, alpha=0.3)\n",
    "\n",
    "    # Add vertical lines for key statistics with formatted significant digits\n",
    "    plt.axvline(stats[\"Mean\"], color='crimson', linestyle='--', linewidth=1.5, label=f'Mean: {format_sig(stats[\"Mean\"])}')\n",
    "    plt.axvline(stats[\"Median\"], color='steelblue', linestyle='--', linewidth=1.5, label=f'Median: {format_sig(stats[\"Median\"])}')\n",
    "    plt.axvline(stats[\"Q1\"], color='purple', linestyle=':', linewidth=1.5, label=f'Q1: {format_sig(stats[\"Q1\"])}')\n",
    "    plt.axvline(stats[\"Q3\"], color='purple', linestyle=':', linewidth=1.5, label=f'Q3: {format_sig(stats[\"Q3\"])}')\n",
    "\n",
    "    # Display min, max, std deviation as text on the plot\n",
    "    plt.text(stats[\"Mean\"] + stats[\"Standard Deviation\"], 0.1, f'Std Dev: {format_sig(stats[\"Standard Deviation\"])}', color='black', fontsize=10)\n",
    "    plt.text(stats[\"Min\"], 0.02, f'Min: {format_sig(stats[\"Min\"])}', color='black', fontsize=10, ha='center')\n",
    "    plt.text(stats[\"Max\"], 0.02, f'Max: {format_sig(stats[\"Max\"])}', color='black', fontsize=10, ha='center')\n",
    "\n",
    "    # Add loss function name to the title\n",
    "    plt.title(f\"Combined Histogram and KDE with Statistics\\n{fn_name}\")\n",
    "    plt.xlabel(\"Loss Value\")\n",
    "    plt.ylabel(\"Density\")\n",
    "    plt.legend()\n",
    "    # plt.grid(True)\n",
    "    plt.show()\n",
    "\n",
    "\n",
    "def display_statistics_table(stats, fn_name='', as_dataframe=True):\n",
    "    \"\"\"\n",
    "    Display a table of the key statistics.\n",
    "    \"\"\"\n",
    "    if as_dataframe:\n",
    "        # Convert statistics to a DataFrame and display\n",
    "        df = pd.DataFrame.from_dict(stats, orient='index', columns=['Value'])\n",
    "        df.index.name = f\"{fn_name}\"\n",
    "        display(df)\n",
    "    else:\n",
    "        fig, ax = plt.subplots(figsize=(5, 2))\n",
    "        ax.axis(\"off\")\n",
    "        \n",
    "        # Header title row\n",
    "        table_data = [[f\"{fn_name}\", \"\"]]\n",
    "        table_data += [[key, format_sig(value)] for key, value in stats.items()]\n",
    "        \n",
    "        table = ax.table(cellText=table_data, colLabels=[\"Statistic\", \"Value\"], cellLoc=\"center\", loc=\"center\")\n",
    "        table.auto_set_font_size(False)\n",
    "        table.set_fontsize(10)\n",
    "        table.scale(1.2, 1.2)\n",
    "        \n",
    "        # Style for header row\n",
    "        header = table[0, 0]\n",
    "        header.set_fontsize(12)\n",
    "        header.set_text_props(weight=\"bold\")\n",
    "        plt.show()"
   ]
  },
  {
   "cell_type": "code",
   "execution_count": null,
   "metadata": {},
   "outputs": [],
   "source": [
    "from numpy.random import standard_normal"
   ]
  },
  {
   "cell_type": "code",
   "execution_count": null,
   "metadata": {},
   "outputs": [
    {
     "data": {
      "image/png": "[encoded data removed]",
      "text/plain": [
       "<Figure size 800x600 with 1 Axes>"
      ]
     },
     "metadata": {},
     "output_type": "display_data"
    }
   ],
   "source": [
    "a = standard_normal(1000)\n",
    "\n",
    "stats = calculate_statistics(a)\n",
    "\n",
    "plot_histogram_and_kde(a, stats)"
   ]
  },
  {
   "cell_type": "code",
   "execution_count": null,
   "metadata": {},
   "outputs": [],
   "source": [
    "#| export\n",
    "# Retrieve the 'coolwarm' colormap\n",
    "coolwarm = plt.get_cmap('coolwarm')\n",
    "# Create a new colormap using only the warm colors\n",
    "warm_cmap = LinearSegmentedColormap.from_list('warm_coolwarm', coolwarm(np.linspace(0.5, 1, coolwarm.N // 2)))"
   ]
  },
  {
   "cell_type": "code",
   "execution_count": null,
   "metadata": {},
   "outputs": [],
   "source": [
    "#| export \n",
    "def evaluate_model(trainer:Learner,                                 # The model trainer object with a get_preds method.\n",
    "                   test_data:DataLoaders=None,              # DataLoader containing test data.\n",
    "                   loss=None,                               # Loss function to evaluate prediction-target pairs.\n",
    "                   metrics=None,                            # Single metric or a list of metrics to evaluate. \n",
    "                   bw_method=0.3,                           # Bandwidth method for KDE. \n",
    "                   show_graph=True,                         # Boolean flag to show the histogram and KDE plot.\n",
    "                   show_table=True,                         # Boolean flag to show the statistics table.\n",
    "                   show_results=True,                       # Boolean flag to show model results on test data. \n",
    "                   as_dataframe=True,                       # Boolean flag to display table as a DataFrame. \n",
    "                   cmap='magma',                            # Colormap for visualization.\n",
    "                   ):\n",
    "    \"\"\"\n",
    "    Calculate and optionally plot the distribution of loss values from predictions\n",
    "    made by the trainer on test data, with an optional table of key statistics.\n",
    "    \"\"\"\n",
    "    out = dict()\n",
    "    \n",
    "    if loss is None:\n",
    "        loss = trainer.loss_func\n",
    "        \n",
    "    if test_data is None:\n",
    "        p, t = trainer.get_preds()\n",
    "        # Show results for test data\n",
    "        if show_results:\n",
    "            trainer.show_results(cmap=cmap)\n",
    "    else:\n",
    "        p, t = trainer.get_preds(dl=test_data)\n",
    "        # Show results for test data\n",
    "        if show_results:\n",
    "            trainer.show_results(dl=test_data, cmap=cmap)\n",
    "\n",
    "    # Calculate loss for each prediction-target pair\n",
    "    losses = compute_losses(p, t, loss)\n",
    "    loss_stats = calculate_statistics(losses)\n",
    "    loss_name = loss.__class__.__name__  # Get loss function name\n",
    "    out[loss_name] = losses    \n",
    "    if show_graph:\n",
    "        plot_histogram_and_kde(losses, loss_stats, bw_method, loss_name)\n",
    "    if show_table:\n",
    "        display_statistics_table(loss_stats, loss_name, as_dataframe=as_dataframe)\n",
    "            \n",
    "    if metrics is not None:\n",
    "            if not isinstance(metrics, list):\n",
    "                metrics = [metrics]\n",
    "            # Loop through each metric\n",
    "            for metric in metrics:\n",
    "                # Calculate metric values for each prediction-target pair\n",
    "                metric_values = compute_metric(p, t, metric)\n",
    "                metric_stats = calculate_statistics(metric_values)         \n",
    "                # Get the name of the metric function\n",
    "                metric_name = getattr(metric, 'func', metric).__name__  # Support AvgMetric or regular functions                \n",
    "                out[metric_name] = metric_values       \n",
    "                if show_graph:\n",
    "                    plot_histogram_and_kde(metric_values, metric_stats, bw_method, metric_name)\n",
    "                if show_table:\n",
    "                    display_statistics_table(metric_stats, metric_name, as_dataframe=as_dataframe)\n",
    "\n",
    "    return out\n"
   ]
  },
  {
   "cell_type": "code",
   "execution_count": null,
   "metadata": {},
   "outputs": [],
   "source": [
    "#| export\n",
    "def evaluate_classification_model(trainer:Learner,              # The trained model (learner) to evaluate.\n",
    "                                  test_data:DataLoaders=None,   # DataLoader with test data for evaluation. If None, the validation dataset is used.\n",
    "                                  loss_fn=None,                 # Loss function used in the model for ClassificationInterpretation. If None, the loss function is loaded from trainer.\n",
    "                                  most_confused_n:int=1,        # Number of most confused class pairs to display. \n",
    "                                  normalize:bool=True,          # Whether to normalize the confusion matrix.\n",
    "                                  metrics=None,                 # Single metric or a list of metrics to evaluate. \n",
    "                                  bw_method=0.3,                # Bandwidth method for KDE. \n",
    "                                  show_graph=True,              # Boolean flag to show the histogram and KDE plot.\n",
    "                                  show_table=True,              # Boolean flag to show the statistics table.\n",
    "                                  show_results=True,            # Boolean flag to show model results on test data. \n",
    "                                  as_dataframe=True,            # Boolean flag to display table as a DataFrame. \n",
    "                                  cmap=warm_cmap,               # Color map for the confusion matrix plot. \n",
    "                                  ):\n",
    "    \"\"\"\n",
    "    Evaluates a classification model by displaying results, confusion matrix, and most confused classes.\n",
    "    \"\"\"\n",
    "    out = dict()\n",
    "    \n",
    "    if loss_fn is None:\n",
    "            loss_fn = trainer.loss_func\n",
    "    \n",
    "    # Interpret the results on test data\n",
    "    if test_data is None:\n",
    "        class_int = ClassificationInterpretation.from_learner(trainer)\n",
    "        p, t = trainer.get_preds()\n",
    "        # Show results for test data\n",
    "        if show_results:\n",
    "            trainer.show_results()\n",
    "    else:\n",
    "        class_int = ClassificationInterpretation(trainer, test_data, loss_fn)\n",
    "        p, t = trainer.get_preds(dl=test_data)\n",
    "        # Show results for test data\n",
    "        if show_results:\n",
    "            trainer.show_results(dl=test_data)\n",
    "    \n",
    "    # Plot the confusion matrix\n",
    "    class_int.plot_confusion_matrix(normalize=normalize, cmap=cmap)\n",
    "    \n",
    "    # Print Classification report\n",
    "    class_int.print_classification_report()\n",
    "    \n",
    "    # Show the most confused classes\n",
    "    print(\"\\nMost Confused Classes:\")\n",
    "    print(class_int.most_confused(most_confused_n))\n",
    "\n",
    "    # Calculate loss for each prediction-target pair\n",
    "    losses = compute_losses(p, t, loss_fn)\n",
    "    loss_stats = calculate_statistics(losses)\n",
    "    loss_name = loss_fn.__class__.__name__  # Get loss function name\n",
    "    out[loss_name] = losses\n",
    "    if show_graph:\n",
    "        plot_histogram_and_kde(losses, loss_stats, bw_method, loss_name)\n",
    "    if show_table:\n",
    "        display_statistics_table(loss_stats, loss_name, as_dataframe=as_dataframe)\n",
    "            \n",
    "    if metrics is not None:\n",
    "            if not isinstance(metrics, list):\n",
    "                metrics = [metrics]\n",
    "            # Loop through each metric\n",
    "            for metric in metrics:\n",
    "                # Calculate metric values for each prediction-target pair\n",
    "                metric_values = compute_metric(p, t, metric)\n",
    "                metric_stats = calculate_statistics(metric_values)                \n",
    "                # Get the name of the metric function\n",
    "                metric_name = getattr(metric, 'func', metric).__name__  # Support AvgMetric or regular functions \n",
    "                out[metric_name] = metric_values                      \n",
    "                if show_graph:\n",
    "                    plot_histogram_and_kde(metric_values, metric_stats, bw_method, metric_name)\n",
    "                if show_table:\n",
    "                    display_statistics_table(metric_stats, metric_name, as_dataframe=as_dataframe)\n",
    "    \n",
    "    return out\n"
   ]
  },
  {
   "cell_type": "markdown",
   "metadata": {},
   "source": [
    "## Utils\n"
   ]
  },
  {
   "cell_type": "markdown",
   "metadata": {},
   "source": [
    "The utils module contains helper functions and classes to facilitate data manipulation, model setup, and training. These utilities add flexibility and convenience, supporting rapid experimentation and efficient data handling.\n"
   ]
  },
  {
   "cell_type": "code",
   "execution_count": null,
   "metadata": {},
   "outputs": [],
   "source": [
    "#| export\n",
    "def attributesFromDict(d):\n",
    "    \"\"\"\n",
    "    The `attributesFromDict` function simplifies the conversion of dictionary keys and values into object attributes, allowing dynamic attribute creation for configuration objects. This utility is handy for initializing model or dataset configurations directly from dictionaries, improving code readability and maintainability.\n",
    "    \"\"\"\n",
    "    self = d.pop('self')\n",
    "    for n, v in d.items():\n",
    "        setattr(self, n, v)"
   ]
  },
  {
   "cell_type": "code",
   "execution_count": null,
   "metadata": {},
   "outputs": [],
   "source": [
    "#| export\n",
    "def get_device():\n",
    "    return torch_device(\"cuda\" if is_cuda_available() else \"cpu\")"
   ]
  },
  {
   "cell_type": "code",
   "execution_count": null,
   "metadata": {},
   "outputs": [],
   "source": [
    "#| export\n",
    "def img2float(image, force_copy=False):\n",
    "    return util.img_as_float(image, force_copy=force_copy)"
   ]
  },
  {
   "cell_type": "code",
   "execution_count": null,
   "metadata": {},
   "outputs": [],
   "source": [
    "#| export\n",
    "def img2Tensor(image):\n",
    "    return torchTensor(img2float(image))"
   ]
  },
  {
   "cell_type": "markdown",
   "metadata": {},
   "source": [
    "---"
   ]
  },
  {
   "cell_type": "code",
   "execution_count": null,
   "metadata": {},
   "outputs": [],
   "source": [
    "#| hide\n",
    "import nbdev; nbdev.nbdev_export()"
   ]
  }
 ],
 "metadata": {
  "kernelspec": {
   "display_name": "bm",
   "language": "python",
   "name": "python3"
  },
  "language_info": {
   "name": "python",
   "version": "3.11.5"
  }
 },
 "nbformat": 4,
 "nbformat_minor": 4
}
